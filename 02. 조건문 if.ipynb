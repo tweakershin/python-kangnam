{
 "cells": [
  {
   "cell_type": "markdown",
   "metadata": {},
   "source": [
    "# 조건문 if\n",
    "조건문 if는 코드의 흐름을 분기 할 때 쓰인다.  \n",
    "여기서 분기란 코드의 진행 흐름을 나누는 것을 의미한다.  \n",
    "\n",
    "**(만약 ~라면 코드를 실행해라.)**\n",
    "\n",
    "**콜론(:)으로 블록을 구분한다.**"
   ]
  },
  {
   "cell_type": "markdown",
   "metadata": {},
   "source": [
    "## 사용법"
   ]
  },
  {
   "cell_type": "code",
   "execution_count": 1,
   "metadata": {},
   "outputs": [
    {
     "name": "stdout",
     "output_type": "stream",
     "text": [
      "a는 10입니다.\n"
     ]
    }
   ],
   "source": [
    "a = 10\n",
    "\n",
    "if a==5: # True\n",
    "    # 실행 안됨.\n",
    "    print(\"a는 5입니다.\")\n",
    "    \n",
    "if a==10: # False\n",
    "    # 실행 됨.\n",
    "    print(\"a는 10입니다.\")\n"
   ]
  },
  {
   "cell_type": "markdown",
   "metadata": {},
   "source": [
    "### pass\n",
    "pass 문은 아무것도 하지 않는다.  \n",
    "문법적으로 문장이 필요하지만, 프로그램이 특별히 할 일이 없을 때 사용할 수 있습니다. \n",
    "\n",
    "**일반적으로 프로그래밍 설계단에서 추상적으로 논리구조를 구축할 때 사용한다.**"
   ]
  },
  {
   "cell_type": "code",
   "execution_count": 2,
   "metadata": {},
   "outputs": [
    {
     "ename": "IndentationError",
     "evalue": "expected an indented block (<ipython-input-2-575aa2e828d3>, line 6)",
     "output_type": "error",
     "traceback": [
      "\u001b[1;36m  File \u001b[1;32m\"<ipython-input-2-575aa2e828d3>\"\u001b[1;36m, line \u001b[1;32m6\u001b[0m\n\u001b[1;33m    print(\"코드가 실행되었습니다.\")\u001b[0m\n\u001b[1;37m        ^\u001b[0m\n\u001b[1;31mIndentationError\u001b[0m\u001b[1;31m:\u001b[0m expected an indented block\n"
     ]
    }
   ],
   "source": [
    "# if문을 사용하고 코드를 작성하지 않으면 에러 발생\n",
    "# IndentationError (들여쓰기 에러)\n",
    "a = 10\n",
    "if a==10:\n",
    "\n",
    "print(\"코드가 실행되었습니다.\")"
   ]
  },
  {
   "cell_type": "code",
   "execution_count": 3,
   "metadata": {},
   "outputs": [
    {
     "name": "stdout",
     "output_type": "stream",
     "text": [
      "코드가 실행되었습니다.\n"
     ]
    }
   ],
   "source": [
    "a=10\n",
    "if a==10:\n",
    "    pass\n",
    "\n",
    "print(\"코드가 실행되었습니다.\")"
   ]
  },
  {
   "cell_type": "markdown",
   "metadata": {},
   "source": [
    "### 들여쓰기란?\n",
    "\n",
    "파이썬 코드는 들여쓰기로 블록을 구분한다.  \n",
    "여기서 블록이란 하나의 '절'(clause)을 의미하며  \n",
    "자체로 하나의 문맥을 가진다.\n",
    "\n",
    "같은 블록 내에서는 들여쓰기 수준(Indentation Level)이 같아야한다.  \n",
    "일반적으로 (탭(white sapce 4개))를 사용한다."
   ]
  },
  {
   "cell_type": "code",
   "execution_count": 6,
   "metadata": {},
   "outputs": [
    {
     "name": "stdout",
     "output_type": "stream",
     "text": [
      "하지만 b=5입니다.\n"
     ]
    }
   ],
   "source": [
    "# Indentation Error 발생\n",
    "a = 10\n",
    "b = 5\n",
    "\n",
    "if a!=10:\n",
    "    print(\"a는 10입니다.\")\n",
    "    print(\"하지만 b=5입니다.\")"
   ]
  },
  {
   "cell_type": "markdown",
   "metadata": {},
   "source": [
    "### if문의 다양한 조건들\n",
    "Boolean으로 변환했을 때,  \n",
    "True면 실행, False면 실행하지 않음."
   ]
  },
  {
   "cell_type": "code",
   "execution_count": 7,
   "metadata": {},
   "outputs": [],
   "source": [
    "a, b = 10, 5"
   ]
  },
  {
   "cell_type": "code",
   "execution_count": 8,
   "metadata": {},
   "outputs": [
    {
     "name": "stdout",
     "output_type": "stream",
     "text": [
      "a<100\n"
     ]
    }
   ],
   "source": [
    "if a<100:\n",
    "    print(\"a<100\")"
   ]
  },
  {
   "cell_type": "code",
   "execution_count": 9,
   "metadata": {},
   "outputs": [
    {
     "name": "stdout",
     "output_type": "stream",
     "text": [
      "a==10, b==5\n"
     ]
    }
   ],
   "source": [
    "if a==10 and b==5:\n",
    "    print(\"a==10, b==5\")"
   ]
  },
  {
   "cell_type": "code",
   "execution_count": 10,
   "metadata": {},
   "outputs": [
    {
     "name": "stdout",
     "output_type": "stream",
     "text": [
      "a!=b\n"
     ]
    }
   ],
   "source": [
    "if a==b:\n",
    "    print(\"a==b\")\n",
    "\n",
    "if a!=b:\n",
    "    print(\"a!=b\")"
   ]
  },
  {
   "cell_type": "code",
   "execution_count": 11,
   "metadata": {
    "scrolled": true
   },
   "outputs": [
    {
     "name": "stdout",
     "output_type": "stream",
     "text": [
      "a>10 또는 b>0 입니다.\n"
     ]
    }
   ],
   "source": [
    "if a>10 or b>0:\n",
    "    print(\"a>10 또는 b>0 입니다.\")"
   ]
  },
  {
   "cell_type": "code",
   "execution_count": null,
   "metadata": {},
   "outputs": [],
   "source": []
  },
  {
   "cell_type": "code",
   "execution_count": 12,
   "metadata": {},
   "outputs": [
    {
     "data": {
      "text/plain": [
       "'Life is too short.'"
      ]
     },
     "execution_count": 12,
     "metadata": {},
     "output_type": "execute_result"
    }
   ],
   "source": [
    "str_1 = \"Life is too short.\"\n",
    "str_1"
   ]
  },
  {
   "cell_type": "code",
   "execution_count": 13,
   "metadata": {},
   "outputs": [
    {
     "name": "stdout",
     "output_type": "stream",
     "text": [
      "실행 되었습니다.\n"
     ]
    }
   ],
   "source": [
    "if str_1:\n",
    "    print(\"실행 되었습니다.\")"
   ]
  },
  {
   "cell_type": "code",
   "execution_count": 14,
   "metadata": {},
   "outputs": [],
   "source": [
    "l1 = []"
   ]
  },
  {
   "cell_type": "code",
   "execution_count": 16,
   "metadata": {},
   "outputs": [
    {
     "name": "stdout",
     "output_type": "stream",
     "text": [
      "비었어요.\n"
     ]
    }
   ],
   "source": [
    "if l1:\n",
    "    print('비었네?')\n",
    "\n",
    "if not l1:\n",
    "    print(\"비었어요.\")"
   ]
  },
  {
   "cell_type": "code",
   "execution_count": 17,
   "metadata": {},
   "outputs": [],
   "source": [
    "if None:\n",
    "    print(\"이건 None이에요.\")"
   ]
  },
  {
   "cell_type": "code",
   "execution_count": 21,
   "metadata": {},
   "outputs": [
    {
     "name": "stdout",
     "output_type": "stream",
     "text": [
      "str_1은 string data-type입니다.\n"
     ]
    }
   ],
   "source": [
    "if type(str_1) == type(str()):\n",
    "    print('str_1은 string data-type입니다.')\n",
    "    \n"
   ]
  },
  {
   "cell_type": "markdown",
   "metadata": {},
   "source": [
    "# if ... elif ... elif ... else ...\n",
    "if elif else는 다음과 같이 쓰인다.\n",
    "\n",
    "```[python]\n",
    "if a<5:\n",
    "    print(\"a가 5보다 작습니다.\")\n",
    "elif a<10:\n",
    "    print(\"a가 5보다 크거나 같고, 10보다 작습니다. \")\n",
    "elif a< 15:\n",
    "    print(\"a가 10보다 크거나 같고, 15보다 작습니다. \")\n",
    "else:\n",
    "    print(\"a가 해당 범위에 들어가지 않습니다.\")\n",
    "```\n",
    "\n",
    "여기서 **elif**는 **else if**의 줄임이라 생각하면 된다."
   ]
  },
  {
   "cell_type": "markdown",
   "metadata": {},
   "source": [
    "### 사용법"
   ]
  },
  {
   "cell_type": "code",
   "execution_count": 22,
   "metadata": {},
   "outputs": [
    {
     "name": "stdout",
     "output_type": "stream",
     "text": [
      "a가 10보다 크거나 같고, 15보다 작습니다.\n"
     ]
    }
   ],
   "source": [
    "a = 10\n",
    "\n",
    "if a<5: # False\n",
    "    print(\"a가 5보다 작습니다.\")\n",
    "elif a<10: # False\n",
    "    print(\"a가 5보다 크거나 같고, 10보다 작습니다.\")\n",
    "elif a<15: # True\n",
    "    # 실행\n",
    "    print(\"a가 10보다 크거나 같고, 15보다 작습니다.\")\n",
    "else: # 실행 안됨.\n",
    "    print(\"모든 조건이 False입니다.\")\n",
    "    "
   ]
  },
  {
   "cell_type": "markdown",
   "metadata": {},
   "source": [
    "##### else문 실행"
   ]
  },
  {
   "cell_type": "code",
   "execution_count": 27,
   "metadata": {},
   "outputs": [
    {
     "name": "stdout",
     "output_type": "stream",
     "text": [
      "알파벳 하나만 입력해주세요.1\n",
      "alphabet은 A와 B가 아님\n"
     ]
    }
   ],
   "source": [
    "alphabet = input(\"알파벳 하나만 입력해주세요.\")\n",
    "if alphabet == 'A':\n",
    "    print(\"alphabet은 A\")\n",
    "elif alphabet == 'B':\n",
    "    print(\"alphabet은 B\")\n",
    "else:\n",
    "    print(\"alphabet은 A와 B가 아님\")"
   ]
  },
  {
   "cell_type": "code",
   "execution_count": null,
   "metadata": {},
   "outputs": [],
   "source": []
  },
  {
   "cell_type": "code",
   "execution_count": 30,
   "metadata": {},
   "outputs": [
    {
     "name": "stdout",
     "output_type": "stream",
     "text": [
      "어떤 과일을 좋아하세요? 망고\n",
      "------------------------------\n",
      "망고 를 좋아하시는구나.\n"
     ]
    }
   ],
   "source": [
    "# favorite_fruit\n",
    "fav_fruit = input(\"어떤 과일을 좋아하세요? \")\n",
    "print(\"-\"*30) # 구분선\n",
    "\n",
    "if fav_fruit == '포도':\n",
    "    print(\"포도 맛있어요!\")  # 여러줄도 가능합니다.\n",
    "    print(\"하지만 저는 거봉을 좋아해요!\") # 여러줄도 가능합니다.\n",
    "elif fav_fruit == '오렌지':\n",
    "    print(\"오렌지는 정말 맛있어요!\")\n",
    "    print(\"한라봉도 맛있지요\")\n",
    "    \n",
    "else: \n",
    "    print(\"{0} 를 좋아하시는구나.\".format(fav_fruit))\n",
    "\n",
    "# [포도 오렌지 사과]\n",
    "# 사과를 입력시 else문 실행"
   ]
  },
  {
   "cell_type": "markdown",
   "metadata": {},
   "source": [
    "# 중첩 if문\n",
    "- 분기 안에 분기\n",
    "\n"
   ]
  },
  {
   "cell_type": "code",
   "execution_count": 33,
   "metadata": {},
   "outputs": [
    {
     "name": "stdout",
     "output_type": "stream",
     "text": [
      "a는 10 이하입니다.\n"
     ]
    }
   ],
   "source": [
    "a = 10\n",
    "if a>10:\n",
    "    if a<=20:\n",
    "        print(\"a는 10 이상 20 이하\")\n",
    "    elif a>30:\n",
    "        print(\"a는 30 초과\")\n",
    "    else:\n",
    "        print(\"20초과 30 이하\")\n",
    "else:\n",
    "    print(\"a는 10 이하입니다.\")\n"
   ]
  },
  {
   "cell_type": "code",
   "execution_count": 34,
   "metadata": {},
   "outputs": [
    {
     "name": "stdout",
     "output_type": "stream",
     "text": [
      "a는 10이상 그리고 b는 10 미만입니다.\n"
     ]
    }
   ],
   "source": [
    "a, b = 10, 5\n",
    "\n",
    "if a>=10:\n",
    "    if b>=10:\n",
    "        print(\"a는 10이상 그리고 b는 10 이상입니다\")\n",
    "    elif b<10:\n",
    "        print(\"a는 10이상 그리고 b는 10 미만입니다.\")\n",
    "else:\n",
    "    if b>=10:\n",
    "        print(\"a는 10미만 그리고 b는 10 이상입니다\")\n",
    "    elif b<10:\n",
    "        print(\"a는 10미만 그리고 b는 10 미만입니다.\")"
   ]
  },
  {
   "cell_type": "code",
   "execution_count": null,
   "metadata": {},
   "outputs": [],
   "source": []
  },
  {
   "cell_type": "markdown",
   "metadata": {},
   "source": [
    "## 연습문제1.\n",
    "사용자로 점수를 3개 입력받아  \n",
    "모든 점수가 65점보다 클 경우 합격 아닐경우 불합격을 출력하세요  \n",
    "단, 0~100 이 아닌 숫자가 입력된경우 잘못된 “잘못된 점수가 입력되었습니다\" 를 출력하세요  \n"
   ]
  },
  {
   "cell_type": "code",
   "execution_count": 36,
   "metadata": {
    "scrolled": false
   },
   "outputs": [
    {
     "name": "stdout",
     "output_type": "stream",
     "text": [
      "정수1: 63\n",
      "정수2: 100\n",
      "정수3: 100\n",
      "불합격\n"
     ]
    }
   ],
   "source": [
    "a = int(input(\"정수1: \"))\n",
    "b = int(input(\"정수2: \"))\n",
    "c = int(input(\"정수3: \"))\n",
    "\n",
    "# 코드 작성\n",
    "a = int(a)\n",
    "b = int(b)\n",
    "c = int(c)\n",
    "\n",
    "\n",
    "if a not in range(101) or b not in range(101) or c not in range(101):\n",
    "    print(\"잘못된 점수가 입력 되었습니다.\")\n",
    "elif a> 65 and b>65 and c>65:\n",
    "    print(\"합격\")\n",
    "else:\n",
    "    print(\"불합격\")\n",
    "\n"
   ]
  },
  {
   "cell_type": "markdown",
   "metadata": {},
   "source": [
    "## 연습문제2. 홀수 짝수 판별기\n",
    "사용자로부터 정수를 하나 입력받아  \n",
    "입력한 정수가 홀수인지 짝수인지 판별하여라.  \n",
    "(** 0은 짝수라 하자.)\n",
    "\n",
    "\n",
    "**[출력결과]**  \n",
    "정수를 입력해주세요: 5  \n",
    "입력하신 5는 홀수입니다.  \n",
    "\n",
    "짝수를 입력해주세요: 10  \n",
    "입력하신 10은 짝수입니다.\n",
    "\n",
    "\n",
    "***만약 0이 입력 받으면 \"0은 애매합니다.\"를 출력하세요."
   ]
  },
  {
   "cell_type": "code",
   "execution_count": 40,
   "metadata": {
    "scrolled": false
   },
   "outputs": [
    {
     "name": "stdout",
     "output_type": "stream",
     "text": [
      "정수를 입력해주세요: 2\n",
      "짝수 입니다.\n"
     ]
    }
   ],
   "source": [
    "a = int(input(\"정수를 입력해주세요: \"))\n",
    "# 코드 작성\n",
    "\n",
    "if a==0:\n",
    "    print(\"0은 애매합니다.\")\n",
    "elif a % 2 == 1:\n",
    "    print(\"홀수 입니다\")\n",
    "else:\n",
    "    print(\"짝수 입니다.\")\n"
   ]
  },
  {
   "cell_type": "code",
   "execution_count": null,
   "metadata": {},
   "outputs": [],
   "source": []
  }
 ],
 "metadata": {
  "kernelspec": {
   "display_name": "Python 3",
   "language": "python",
   "name": "python3"
  },
  "language_info": {
   "codemirror_mode": {
    "name": "ipython",
    "version": 3
   },
   "file_extension": ".py",
   "mimetype": "text/x-python",
   "name": "python",
   "nbconvert_exporter": "python",
   "pygments_lexer": "ipython3",
   "version": "3.6.8"
  }
 },
 "nbformat": 4,
 "nbformat_minor": 2
}
