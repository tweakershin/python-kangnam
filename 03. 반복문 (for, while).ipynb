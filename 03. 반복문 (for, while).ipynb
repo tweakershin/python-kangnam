{
 "cells": [
  {
   "cell_type": "markdown",
   "metadata": {},
   "source": [
    "# 반복문 (for, while)\n",
    "\n",
    "코드를 반복해야 할 때 사용.  \n",
    "지정된 범위만큼 (주로 반복횟수가 정해져 있을때 사용.)\n"
   ]
  },
  {
   "cell_type": "markdown",
   "metadata": {},
   "source": [
    "# for문"
   ]
  },
  {
   "cell_type": "code",
   "execution_count": 1,
   "metadata": {},
   "outputs": [
    {
     "name": "stdout",
     "output_type": "stream",
     "text": [
      "현재값: 0\n",
      "현재값: 1\n",
      "현재값: 2\n",
      "현재값: 3\n",
      "현재값: 4\n",
      "현재값: 5\n",
      "현재값: 6\n",
      "현재값: 7\n",
      "현재값: 8\n",
      "현재값: 9\n"
     ]
    }
   ],
   "source": [
    "for i in range(10):\n",
    "    print(\"현재값:\", i)"
   ]
  },
  {
   "cell_type": "code",
   "execution_count": 2,
   "metadata": {},
   "outputs": [
    {
     "name": "stdout",
     "output_type": "stream",
     "text": [
      "현재값: 0\n",
      "현재값: 2\n",
      "현재값: 4\n",
      "현재값: 6\n",
      "현재값: 8\n"
     ]
    }
   ],
   "source": [
    "for i in range(0, 10, 2):\n",
    "    print(\"현재값:\", i)"
   ]
  },
  {
   "cell_type": "markdown",
   "metadata": {},
   "source": [
    "### for문 with list"
   ]
  },
  {
   "cell_type": "code",
   "execution_count": 3,
   "metadata": {},
   "outputs": [
    {
     "name": "stdout",
     "output_type": "stream",
     "text": [
      "리스트 현재값:  1\n",
      "리스트 현재값:  2\n",
      "리스트 현재값:  3\n",
      "리스트 현재값:  4\n",
      "리스트 현재값:  5\n"
     ]
    }
   ],
   "source": [
    "for i in [1, 2, 3, 4, 5]:\n",
    "    print(\"리스트 현재값: \", i)"
   ]
  },
  {
   "cell_type": "code",
   "execution_count": 4,
   "metadata": {},
   "outputs": [
    {
     "name": "stdout",
     "output_type": "stream",
     "text": [
      "리스트 현재값: a\n",
      "리스트 현재값: b\n",
      "리스트 현재값: c\n",
      "리스트 현재값: d\n",
      "리스트 현재값: e\n"
     ]
    }
   ],
   "source": [
    "for a in ['a', 'b', 'c', 'd', 'e']:\n",
    "    print(\"리스트 현재값:\", a)"
   ]
  },
  {
   "cell_type": "markdown",
   "metadata": {},
   "source": [
    "### for문 with tuple"
   ]
  },
  {
   "cell_type": "code",
   "execution_count": 5,
   "metadata": {
    "scrolled": true
   },
   "outputs": [
    {
     "name": "stdout",
     "output_type": "stream",
     "text": [
      "<class 'tuple'>\n",
      "튜플 현재값: a\n",
      "튜플 현재값: b\n",
      "튜플 현재값: c\n",
      "튜플 현재값: d\n"
     ]
    }
   ],
   "source": [
    "t = ('a', 'b', 'c', 'd')\n",
    "print(type(t))\n",
    "for a in t:\n",
    "    print(\"튜플 현재값:\", a)"
   ]
  },
  {
   "cell_type": "markdown",
   "metadata": {},
   "source": [
    "### for문 with dictionary"
   ]
  },
  {
   "cell_type": "code",
   "execution_count": 7,
   "metadata": {},
   "outputs": [],
   "source": [
    "minsu_profile = {\n",
    "    'height': 180,\n",
    "    'age': 35,\n",
    "    'weight': 72,\n",
    "    'intro': \"안녕하세요 민수입니다.\",\n",
    "    'friends': ['정수', '철수', '영희', '윤수']\n",
    "}"
   ]
  },
  {
   "cell_type": "code",
   "execution_count": 8,
   "metadata": {},
   "outputs": [
    {
     "name": "stdout",
     "output_type": "stream",
     "text": [
      "height\n",
      "age\n",
      "weight\n",
      "intro\n",
      "friends\n"
     ]
    }
   ],
   "source": [
    "for k in minsu_profile:\n",
    "    # key 반복\n",
    "    print(k)"
   ]
  },
  {
   "cell_type": "code",
   "execution_count": 9,
   "metadata": {},
   "outputs": [
    {
     "name": "stdout",
     "output_type": "stream",
     "text": [
      "height\n",
      "180\n",
      "----------\n",
      "age\n",
      "35\n",
      "----------\n",
      "weight\n",
      "72\n",
      "----------\n",
      "intro\n",
      "안녕하세요 민수입니다.\n",
      "----------\n",
      "friends\n",
      "['정수', '철수', '영희', '윤수']\n",
      "----------\n"
     ]
    }
   ],
   "source": [
    "for k in minsu_profile:\n",
    "    # key 반복\n",
    "    print(k)\n",
    "    print(minsu_profile[k])\n",
    "    print(\"-\"*10)"
   ]
  },
  {
   "cell_type": "markdown",
   "metadata": {},
   "source": [
    "# 연습문제1-1\n",
    "사용자로부터 정수를 입력받아  \n",
    "해당 정수의 크기만큼 '안녕'을 출력하세요.\n"
   ]
  },
  {
   "cell_type": "code",
   "execution_count": null,
   "metadata": {},
   "outputs": [],
   "source": [
    "a = int(input(\"정수를 입력해주세요:\"))\n",
    "\n",
    "# 코드 작성\n"
   ]
  },
  {
   "cell_type": "markdown",
   "metadata": {},
   "source": [
    "# 연습문제1-2\n",
    "사용자로부터 정수를 입력받아  \n",
    "사용자로부터 정수를 입력받아, 입력된 정수 만큼 별 찍기\n"
   ]
  },
  {
   "cell_type": "code",
   "execution_count": null,
   "metadata": {},
   "outputs": [],
   "source": [
    "a = int(input(\"정수를 입력해주세요:\"))\n",
    "\n",
    "# 코드 작성# 연습문제1-2\n"
   ]
  },
  {
   "cell_type": "markdown",
   "metadata": {},
   "source": [
    "# 연습문제1-3\n",
    "사용자로부터 정수를 입력받아  \n",
    "사용자로부터 정수를 입력받아, 입력된 정수 만큼 별 찍기 **(역순)**\n"
   ]
  },
  {
   "cell_type": "code",
   "execution_count": null,
   "metadata": {
    "scrolled": true
   },
   "outputs": [],
   "source": [
    "a = int(input(\"정수를 입력해주세요:\"))\n",
    "\n",
    "# 코드 작성\n",
    "사용자로부터 정수를 입력받아  \n",
    "사용자로부터 정수를 입력받아, 입력된 정수 만큼 별 찍기\n"
   ]
  },
  {
   "cell_type": "markdown",
   "metadata": {},
   "source": [
    "# enumerate()"
   ]
  },
  {
   "cell_type": "code",
   "execution_count": 10,
   "metadata": {},
   "outputs": [],
   "source": [
    "# list\n",
    "a = ['a', 'b', 'c', 'd', 'e']"
   ]
  },
  {
   "cell_type": "code",
   "execution_count": 11,
   "metadata": {
    "scrolled": true
   },
   "outputs": [
    {
     "name": "stdout",
     "output_type": "stream",
     "text": [
      "0 a\n",
      "1 b\n",
      "2 c\n",
      "3 d\n",
      "4 e\n"
     ]
    }
   ],
   "source": [
    "for idx, value in enumerate(a):\n",
    "    print(idx, value)"
   ]
  },
  {
   "cell_type": "markdown",
   "metadata": {},
   "source": [
    "### for문의 중첩"
   ]
  },
  {
   "cell_type": "code",
   "execution_count": 12,
   "metadata": {},
   "outputs": [
    {
     "name": "stdout",
     "output_type": "stream",
     "text": [
      "==========\n",
      "0 번째 iloop\n",
      "----------\n",
      "0 번째 j루프\n",
      "1 번째 j루프\n",
      "2 번째 j루프\n",
      "3 번째 j루프\n",
      "4 번째 j루프\n",
      "5 번째 j루프\n",
      "6 번째 j루프\n",
      "7 번째 j루프\n",
      "8 번째 j루프\n",
      "9 번째 j루프\n",
      "==========\n",
      "1 번째 iloop\n",
      "----------\n",
      "0 번째 j루프\n",
      "1 번째 j루프\n",
      "2 번째 j루프\n",
      "3 번째 j루프\n",
      "4 번째 j루프\n",
      "5 번째 j루프\n",
      "6 번째 j루프\n",
      "7 번째 j루프\n",
      "8 번째 j루프\n",
      "9 번째 j루프\n",
      "==========\n",
      "2 번째 iloop\n",
      "----------\n",
      "0 번째 j루프\n",
      "1 번째 j루프\n",
      "2 번째 j루프\n",
      "3 번째 j루프\n",
      "4 번째 j루프\n",
      "5 번째 j루프\n",
      "6 번째 j루프\n",
      "7 번째 j루프\n",
      "8 번째 j루프\n",
      "9 번째 j루프\n",
      "==========\n",
      "3 번째 iloop\n",
      "----------\n",
      "0 번째 j루프\n",
      "1 번째 j루프\n",
      "2 번째 j루프\n",
      "3 번째 j루프\n",
      "4 번째 j루프\n",
      "5 번째 j루프\n",
      "6 번째 j루프\n",
      "7 번째 j루프\n",
      "8 번째 j루프\n",
      "9 번째 j루프\n",
      "==========\n",
      "4 번째 iloop\n",
      "----------\n",
      "0 번째 j루프\n",
      "1 번째 j루프\n",
      "2 번째 j루프\n",
      "3 번째 j루프\n",
      "4 번째 j루프\n",
      "5 번째 j루프\n",
      "6 번째 j루프\n",
      "7 번째 j루프\n",
      "8 번째 j루프\n",
      "9 번째 j루프\n",
      "==========\n",
      "5 번째 iloop\n",
      "----------\n",
      "0 번째 j루프\n",
      "1 번째 j루프\n",
      "2 번째 j루프\n",
      "3 번째 j루프\n",
      "4 번째 j루프\n",
      "5 번째 j루프\n",
      "6 번째 j루프\n",
      "7 번째 j루프\n",
      "8 번째 j루프\n",
      "9 번째 j루프\n",
      "==========\n",
      "6 번째 iloop\n",
      "----------\n",
      "0 번째 j루프\n",
      "1 번째 j루프\n",
      "2 번째 j루프\n",
      "3 번째 j루프\n",
      "4 번째 j루프\n",
      "5 번째 j루프\n",
      "6 번째 j루프\n",
      "7 번째 j루프\n",
      "8 번째 j루프\n",
      "9 번째 j루프\n",
      "==========\n",
      "7 번째 iloop\n",
      "----------\n",
      "0 번째 j루프\n",
      "1 번째 j루프\n",
      "2 번째 j루프\n",
      "3 번째 j루프\n",
      "4 번째 j루프\n",
      "5 번째 j루프\n",
      "6 번째 j루프\n",
      "7 번째 j루프\n",
      "8 번째 j루프\n",
      "9 번째 j루프\n",
      "==========\n",
      "8 번째 iloop\n",
      "----------\n",
      "0 번째 j루프\n",
      "1 번째 j루프\n",
      "2 번째 j루프\n",
      "3 번째 j루프\n",
      "4 번째 j루프\n",
      "5 번째 j루프\n",
      "6 번째 j루프\n",
      "7 번째 j루프\n",
      "8 번째 j루프\n",
      "9 번째 j루프\n",
      "==========\n",
      "9 번째 iloop\n",
      "----------\n",
      "0 번째 j루프\n",
      "1 번째 j루프\n",
      "2 번째 j루프\n",
      "3 번째 j루프\n",
      "4 번째 j루프\n",
      "5 번째 j루프\n",
      "6 번째 j루프\n",
      "7 번째 j루프\n",
      "8 번째 j루프\n",
      "9 번째 j루프\n"
     ]
    }
   ],
   "source": [
    "for i in range(10):\n",
    "    print(\"=\"*10)\n",
    "    \n",
    "    print(i, \"번째 iloop\")\n",
    "    \n",
    "    print(\"-\"*10)\n",
    "    \n",
    "    for j in range(10):\n",
    "        print(j, '번째 j루프')"
   ]
  },
  {
   "cell_type": "markdown",
   "metadata": {},
   "source": [
    "# for문 list, tuple, set\n",
    "# for문 dictionary"
   ]
  },
  {
   "cell_type": "code",
   "execution_count": 21,
   "metadata": {},
   "outputs": [],
   "source": [
    "x = 10\n",
    "y =x"
   ]
  },
  {
   "cell_type": "code",
   "execution_count": 22,
   "metadata": {},
   "outputs": [],
   "source": [
    "y +=10"
   ]
  },
  {
   "cell_type": "code",
   "execution_count": 23,
   "metadata": {},
   "outputs": [
    {
     "data": {
      "text/plain": [
       "10"
      ]
     },
     "execution_count": 23,
     "metadata": {},
     "output_type": "execute_result"
    }
   ],
   "source": [
    "x"
   ]
  },
  {
   "cell_type": "code",
   "execution_count": 24,
   "metadata": {},
   "outputs": [
    {
     "data": {
      "text/plain": [
       "20"
      ]
     },
     "execution_count": 24,
     "metadata": {},
     "output_type": "execute_result"
    }
   ],
   "source": [
    "y"
   ]
  },
  {
   "cell_type": "code",
   "execution_count": 25,
   "metadata": {},
   "outputs": [],
   "source": [
    "x = \"Life is short\""
   ]
  },
  {
   "cell_type": "code",
   "execution_count": 26,
   "metadata": {},
   "outputs": [],
   "source": [
    "y = x"
   ]
  },
  {
   "cell_type": "code",
   "execution_count": 27,
   "metadata": {},
   "outputs": [
    {
     "data": {
      "text/plain": [
       "'Life is short'"
      ]
     },
     "execution_count": 27,
     "metadata": {},
     "output_type": "execute_result"
    }
   ],
   "source": [
    "x"
   ]
  },
  {
   "cell_type": "code",
   "execution_count": 28,
   "metadata": {},
   "outputs": [
    {
     "data": {
      "text/plain": [
       "'Life is short'"
      ]
     },
     "execution_count": 28,
     "metadata": {},
     "output_type": "execute_result"
    }
   ],
   "source": [
    "y"
   ]
  },
  {
   "cell_type": "code",
   "execution_count": 29,
   "metadata": {},
   "outputs": [],
   "source": [
    "y += \"a\""
   ]
  },
  {
   "cell_type": "code",
   "execution_count": 30,
   "metadata": {},
   "outputs": [
    {
     "data": {
      "text/plain": [
       "'Life is short'"
      ]
     },
     "execution_count": 30,
     "metadata": {},
     "output_type": "execute_result"
    }
   ],
   "source": [
    "x"
   ]
  },
  {
   "cell_type": "code",
   "execution_count": 31,
   "metadata": {},
   "outputs": [
    {
     "data": {
      "text/plain": [
       "'Life is shorta'"
      ]
     },
     "execution_count": 31,
     "metadata": {},
     "output_type": "execute_result"
    }
   ],
   "source": [
    "y"
   ]
  },
  {
   "cell_type": "code",
   "execution_count": null,
   "metadata": {},
   "outputs": [],
   "source": []
  },
  {
   "cell_type": "code",
   "execution_count": 20,
   "metadata": {},
   "outputs": [
    {
     "name": "stdout",
     "output_type": "stream",
     "text": [
      "a\n",
      "b\n",
      "c\n",
      "d\n"
     ]
    }
   ],
   "source": [
    "l1 = ['a', 'b', 'c', 'd']\n",
    "for i in l1:\n",
    "    print(i)"
   ]
  },
  {
   "cell_type": "code",
   "execution_count": null,
   "metadata": {},
   "outputs": [],
   "source": []
  },
  {
   "cell_type": "markdown",
   "metadata": {},
   "source": [
    "# 연습문제2-1\n",
    "(1)  x = [3, 6, 9, 20, -7, 5] 의 값의 모든 요소에 10을 곱한뒤 출력하세요  \n",
    "**심화 : 출력과 리스트 x 의 값에도 모두 10을 곱해주세요**\n"
   ]
  },
  {
   "cell_type": "code",
   "execution_count": 19,
   "metadata": {},
   "outputs": [
    {
     "name": "stdout",
     "output_type": "stream",
     "text": [
      "[30, 60, 90, 200, -70, 50]\n"
     ]
    }
   ],
   "source": [
    "x = [3, 6, 9, 20, -7, 5]\n",
    "\n",
    "# 코드 작성\n",
    "# for a in x:\n",
    "#     print(a*10)\n",
    "\n",
    "## 심화\n",
    "for idx, val in enumerate(x):\n",
    "    x[idx] *= 10\n",
    "    \n",
    "print(x)\n",
    "    "
   ]
  },
  {
   "cell_type": "markdown",
   "metadata": {},
   "source": [
    "# 연습문제2-2\n",
    "y = {“math”: 70, “science”: 80, “english”: 20} 의 값의 모든 요소에 10을 더한뒤 출력하세요  \n",
    "**심화 : 출력과 딕셔너리 y 의 값에도 모두 10을 더해주세요**\n"
   ]
  },
  {
   "cell_type": "code",
   "execution_count": null,
   "metadata": {},
   "outputs": [],
   "source": [
    "y = {'math': 70, 'science': 80, 'english': 20}\n",
    "\n",
    "# 코드 작성\n"
   ]
  },
  {
   "cell_type": "markdown",
   "metadata": {},
   "source": [
    "# 연습문제2-3\n",
    "숫자를 입력받고 입력받은 정수의 구구단을 출력하세요\n"
   ]
  },
  {
   "cell_type": "code",
   "execution_count": null,
   "metadata": {},
   "outputs": [],
   "source": [
    "a = int(input(\"정수를 입력하세요: \"))\n",
    "# 코드 작성"
   ]
  },
  {
   "cell_type": "markdown",
   "metadata": {},
   "source": [
    "# 연습문제3-1\n",
    "word = [“school”, “game”, “piano”, “science”, “hotel”, “mountian”]   \n",
    "중 글자수가 6글자 이상인 문자를 모아 새로운 리스트를 생성하세요"
   ]
  },
  {
   "cell_type": "code",
   "execution_count": null,
   "metadata": {},
   "outputs": [],
   "source": [
    "word = ['school', 'game', 'piano', 'science', 'hotel', 'mountain']\n",
    "\n",
    "# 코드 작성"
   ]
  },
  {
   "cell_type": "markdown",
   "metadata": {},
   "source": [
    "# 연습문제3-2\n",
    "구구단을 1단부터 9단까지 출력하세요"
   ]
  },
  {
   "cell_type": "code",
   "execution_count": null,
   "metadata": {},
   "outputs": [],
   "source": [
    "# 코드 작성"
   ]
  },
  {
   "cell_type": "markdown",
   "metadata": {},
   "source": [
    "# 연습문제4\n",
    "**1~100** 까지 숫자중  \n",
    "3과 5의 **공배수**일경우 “3과 5의 공배수”  \n",
    "그 외 **3의배수**일경우 “3의배수”  \n",
    "그 외 **5의배수**일경우 “5의배수”  \n",
    "모두 해당되지 않을경우 그냥숫자를 출력하세요  \n",
    "\n",
    "**심화 : 1~입력한숫자까지의 숫자중**\n"
   ]
  },
  {
   "cell_type": "markdown",
   "metadata": {},
   "source": [
    "# 부록\n",
    "해당 변수가 반복문을 돌릴 수 있는지 어떻게 알 수 있을까?"
   ]
  },
  {
   "cell_type": "markdown",
   "metadata": {},
   "source": [
    "##### string도 반복이 됩니다."
   ]
  },
  {
   "cell_type": "code",
   "execution_count": 35,
   "metadata": {},
   "outputs": [
    {
     "name": "stdout",
     "output_type": "stream",
     "text": [
      "A\n",
      "A\n",
      "B\n",
      "B\n",
      "B\n",
      "B\n"
     ]
    }
   ],
   "source": [
    "for a in \"AABBBB\":\n",
    "    print(a)"
   ]
  },
  {
   "cell_type": "markdown",
   "metadata": {},
   "source": [
    "##### 해당 변수가 iterator일 경우 반복이 가능.\n",
    "##### = 해당 변수가 __iter__이라는 함수가 있을 경우 반복이 가능.  (함수는 나중에 배울 예정)"
   ]
  },
  {
   "cell_type": "markdown",
   "metadata": {},
   "source": [
    "### 속성확인 dir()"
   ]
  },
  {
   "cell_type": "code",
   "execution_count": null,
   "metadata": {},
   "outputs": [],
   "source": []
  },
  {
   "cell_type": "code",
   "execution_count": null,
   "metadata": {},
   "outputs": [],
   "source": []
  },
  {
   "cell_type": "code",
   "execution_count": 37,
   "metadata": {},
   "outputs": [
    {
     "data": {
      "text/plain": [
       "True"
      ]
     },
     "execution_count": 37,
     "metadata": {},
     "output_type": "execute_result"
    }
   ],
   "source": [
    "# 속성 확인\n",
    "# dir(1)\n",
    "'__iter__' in dir(\"str\")"
   ]
  },
  {
   "cell_type": "markdown",
   "metadata": {},
   "source": [
    "##### __iter__속성이 있는지?"
   ]
  },
  {
   "cell_type": "code",
   "execution_count": 38,
   "metadata": {},
   "outputs": [
    {
     "data": {
      "text/plain": [
       "True"
      ]
     },
     "execution_count": 38,
     "metadata": {},
     "output_type": "execute_result"
    }
   ],
   "source": [
    "'__iter__' in dir(\"string\")"
   ]
  },
  {
   "cell_type": "code",
   "execution_count": 39,
   "metadata": {},
   "outputs": [
    {
     "data": {
      "text/plain": [
       "False"
      ]
     },
     "execution_count": 39,
     "metadata": {},
     "output_type": "execute_result"
    }
   ],
   "source": [
    "'__iter__' in dir(1)"
   ]
  },
  {
   "cell_type": "code",
   "execution_count": 40,
   "metadata": {},
   "outputs": [
    {
     "data": {
      "text/plain": [
       "True"
      ]
     },
     "execution_count": 40,
     "metadata": {},
     "output_type": "execute_result"
    }
   ],
   "source": [
    "'__iter__' in dir(dict())"
   ]
  },
  {
   "cell_type": "code",
   "execution_count": 41,
   "metadata": {},
   "outputs": [
    {
     "data": {
      "text/plain": [
       "True"
      ]
     },
     "execution_count": 41,
     "metadata": {},
     "output_type": "execute_result"
    }
   ],
   "source": [
    "'__iter__' in dir(tuple())"
   ]
  },
  {
   "cell_type": "code",
   "execution_count": null,
   "metadata": {},
   "outputs": [],
   "source": []
  },
  {
   "cell_type": "markdown",
   "metadata": {},
   "source": [
    "# While문\n",
    "어떠한 코드를 반복해야할때 사용  \n",
    "조건에 따라 반복 (주로 반복횟수가 정해져있지 않을때)\n"
   ]
  },
  {
   "cell_type": "markdown",
   "metadata": {},
   "source": [
    "## 사용법"
   ]
  },
  {
   "cell_type": "code",
   "execution_count": 1,
   "metadata": {},
   "outputs": [
    {
     "name": "stdout",
     "output_type": "stream",
     "text": [
      "0\n",
      "1\n",
      "2\n",
      "3\n",
      "4\n",
      "5\n",
      "6\n",
      "7\n",
      "8\n",
      "9\n"
     ]
    }
   ],
   "source": [
    "i = 0\n",
    "\n",
    "while i<10:\n",
    "    print(i)\n",
    "    i+=1"
   ]
  },
  {
   "cell_type": "code",
   "execution_count": 2,
   "metadata": {
    "scrolled": true
   },
   "outputs": [
    {
     "name": "stdout",
     "output_type": "stream",
     "text": [
      "5를 입력하면 반복이 중단됩니다.2\n",
      "2 를 입력하셨습니다.\n",
      "5를 입력하면 반복이 중단됩니다.4\n",
      "4 를 입력하셨습니다.\n",
      "5를 입력하면 반복이 중단됩니다.5\n",
      "5 를 입력하셨습니다.\n",
      "중단\n"
     ]
    }
   ],
   "source": [
    "i = 0\n",
    "while i != 5:\n",
    "    i = int(input(\"5를 입력하면 반복이 중단됩니다.\"))\n",
    "    print(i, \"를 입력하셨습니다.\")\n",
    "\n",
    "print(\"중단\")\n",
    "\n"
   ]
  },
  {
   "cell_type": "code",
   "execution_count": 8,
   "metadata": {},
   "outputs": [
    {
     "name": "stdout",
     "output_type": "stream",
     "text": [
      "중단 되었습니다.\n"
     ]
    }
   ],
   "source": [
    "i = 0\n",
    "\n",
    "while i<5:\n",
    "    print(i)\n",
    "    i += 1\n",
    "\n",
    "print(\"중단 되었습니다.\")"
   ]
  },
  {
   "cell_type": "code",
   "execution_count": null,
   "metadata": {},
   "outputs": [],
   "source": []
  },
  {
   "cell_type": "code",
   "execution_count": null,
   "metadata": {},
   "outputs": [],
   "source": []
  },
  {
   "cell_type": "markdown",
   "metadata": {},
   "source": [
    "# 연습문제 5\n",
    "\n",
    "사용자로부터 숫자를 계속 입력받다가  \n",
    "s or S 를 입력하면 합계출력\n"
   ]
  },
  {
   "cell_type": "code",
   "execution_count": 14,
   "metadata": {},
   "outputs": [
    {
     "name": "stdout",
     "output_type": "stream",
     "text": [
      "숫자를 입력하세요: 1\n",
      "숫자를 입력하세요: 5\n",
      "숫자를 입력하세요: s\n",
      "6\n"
     ]
    }
   ],
   "source": [
    "# 코드 작성\n",
    "\n",
    "num = '0'\n",
    "total = 0\n",
    "\n",
    "# while num.upper()!='S':\n",
    "# while not(num=='S' or num=='s'):\n",
    "while num!='S' and num!='s':\n",
    "    total += int(num)\n",
    "    num = input(\"숫자를 입력하세요: \")\n",
    "    \n",
    "print(total)\n",
    "\n"
   ]
  },
  {
   "cell_type": "code",
   "execution_count": null,
   "metadata": {},
   "outputs": [],
   "source": []
  },
  {
   "cell_type": "markdown",
   "metadata": {},
   "source": [
    "# 연습문제 6\n",
    "가위바위보 게임만들기  \n",
    "\n",
    "가위(1), 바위(2), 보(3) 을 입력해주세요! : 3  \n",
    "유저 : 보, 컴퓨터 : 보  \n",
    "가위(1), 바위(2), 보(3) 을 입력해주세요! : 2  \n",
    "유저 : 바위, 컴퓨터 : 보  \n",
    "가위(1), 바위(2), 보(3) 을 입력해주세요! : 1  \n",
    "유저 : 가위, 컴퓨터 : 보  \n",
    "가위(1), 바위(2), 보(3) 을 입력해주세요! : 4  \n",
    "\n",
    "게임종료 (전체:3 ,승리:1)\n",
    "\n",
    "1~3 을 입력하면 게임진행 이외의 숫자를 입력하면 게임종료\n",
    "심화 : 비긴숫자도 출력하세요 (전체:3, 승리:1, 비김:1)\n"
   ]
  },
  {
   "cell_type": "code",
   "execution_count": 148,
   "metadata": {},
   "outputs": [
    {
     "name": "stdout",
     "output_type": "stream",
     "text": [
      "가위(1), 바위(2), 보(3) 을 입력해주세요!: 3\n",
      "유저: 보, 컴퓨터: 보\n",
      "가위(1), 바위(2), 보(3) 을 입력해주세요!: 2\n",
      "유저: 바위, 컴퓨터: 보\n",
      "가위(1), 바위(2), 보(3) 을 입력해주세요!: 1\n",
      "유저: 가위, 컴퓨터: 보\n",
      "가위(1), 바위(2), 보(3) 을 입력해주세요!: \n"
     ]
    },
    {
     "ename": "ValueError",
     "evalue": "invalid literal for int() with base 10: ''",
     "output_type": "error",
     "traceback": [
      "\u001b[0;31m---------------------------------------------------------------------------\u001b[0m",
      "\u001b[0;31mValueError\u001b[0m                                Traceback (most recent call last)",
      "\u001b[0;32m<ipython-input-148-2a0ec9260a95>\u001b[0m in \u001b[0;36m<module>\u001b[0;34m\u001b[0m\n\u001b[1;32m     14\u001b[0m     \u001b[0mprint\u001b[0m\u001b[0;34m(\u001b[0m\u001b[0;34m\"유저: %s, 컴퓨터: %s\"\u001b[0m \u001b[0;34m%\u001b[0m \u001b[0;34m(\u001b[0m\u001b[0mrcp_list\u001b[0m\u001b[0;34m[\u001b[0m\u001b[0muser\u001b[0m\u001b[0;34m]\u001b[0m\u001b[0;34m,\u001b[0m \u001b[0mrcp_list\u001b[0m\u001b[0;34m[\u001b[0m\u001b[0mcom\u001b[0m\u001b[0;34m]\u001b[0m\u001b[0;34m)\u001b[0m\u001b[0;34m)\u001b[0m\u001b[0;34m\u001b[0m\u001b[0;34m\u001b[0m\u001b[0m\n\u001b[1;32m     15\u001b[0m     \u001b[0mcom\u001b[0m \u001b[0;34m=\u001b[0m \u001b[0mrandom\u001b[0m\u001b[0;34m.\u001b[0m\u001b[0mrandint\u001b[0m\u001b[0;34m(\u001b[0m\u001b[0;36m1\u001b[0m\u001b[0;34m,\u001b[0m\u001b[0;36m3\u001b[0m\u001b[0;34m)\u001b[0m\u001b[0;34m\u001b[0m\u001b[0;34m\u001b[0m\u001b[0m\n\u001b[0;32m---> 16\u001b[0;31m     \u001b[0muser\u001b[0m \u001b[0;34m=\u001b[0m \u001b[0mint\u001b[0m\u001b[0;34m(\u001b[0m\u001b[0minput\u001b[0m\u001b[0;34m(\u001b[0m\u001b[0;34m\"가위(1), 바위(2), 보(3) 을 입력해주세요!: \"\u001b[0m\u001b[0;34m)\u001b[0m\u001b[0;34m)\u001b[0m\u001b[0;34m\u001b[0m\u001b[0;34m\u001b[0m\u001b[0m\n\u001b[0m\u001b[1;32m     17\u001b[0m \u001b[0;34m\u001b[0m\u001b[0m\n\u001b[1;32m     18\u001b[0m \u001b[0;34m\u001b[0m\u001b[0m\n",
      "\u001b[0;31mValueError\u001b[0m: invalid literal for int() with base 10: ''"
     ]
    }
   ],
   "source": [
    "import random\n",
    "\n",
    "# 코드작성\n",
    "\n",
    "win = 0\n",
    "total = 0\n",
    "\n",
    "rcp_list = [None, '가위', '바위', '보'] # rock Scissor paper\n",
    "\n",
    "com = random.randint(1,3)\n",
    "user = int(input(\"가위(1), 바위(2), 보(3) 을 입력해주세요!: \"))\n",
    "\n",
    "# while 1 <= user<= 3:\n",
    "#     print(\"유저: %s, 컴퓨터: %s\" % (rcp_list[user], rcp_list[com]))\n",
    "#     com = random.randint(1,3)\n",
    "#     user = int(input(\"가위(1), 바위(2), 보(3) 을 입력해주세요!: \"))\n",
    "    \n",
    "#     if user == 1 and com == 2:"
   ]
  },
  {
   "cell_type": "code",
   "execution_count": 159,
   "metadata": {},
   "outputs": [
    {
     "data": {
      "text/plain": [
       "{'a': 3, 1: 'aksk', (3, 2): 'haha'}"
      ]
     },
     "execution_count": 159,
     "metadata": {},
     "output_type": "execute_result"
    }
   ],
   "source": [
    "tt = {\n",
    "    'a': 3,\n",
    "    1: 'aksk',\n",
    "    (3,2): 'haha'\n",
    "}\n",
    "\n",
    "tt"
   ]
  },
  {
   "cell_type": "code",
   "execution_count": null,
   "metadata": {},
   "outputs": [],
   "source": []
  },
  {
   "cell_type": "code",
   "execution_count": null,
   "metadata": {},
   "outputs": [],
   "source": []
  },
  {
   "cell_type": "code",
   "execution_count": null,
   "metadata": {},
   "outputs": [],
   "source": []
  },
  {
   "cell_type": "code",
   "execution_count": null,
   "metadata": {},
   "outputs": [],
   "source": []
  },
  {
   "cell_type": "code",
   "execution_count": null,
   "metadata": {},
   "outputs": [],
   "source": []
  },
  {
   "cell_type": "code",
   "execution_count": null,
   "metadata": {},
   "outputs": [],
   "source": []
  },
  {
   "cell_type": "markdown",
   "metadata": {},
   "source": [
    "### 리스트 응용\n",
    "---"
   ]
  },
  {
   "cell_type": "markdown",
   "metadata": {},
   "source": [
    "# 연습문제 7\n",
    "randint함수를 사용하여 정수(1~1000)로 이루어진 길이가 100개인 리스트 a를 만들고   \n",
    "가장 큰 수를 구하는 코드를 작성하시오.  \n",
    "\n",
    "예) a=[32, 45, 2, 5, 76] 일때, 출력결과는 76이 나와야 함.  \n",
    "\n",
    "\n",
    "\n"
   ]
  },
  {
   "cell_type": "code",
   "execution_count": null,
   "metadata": {},
   "outputs": [],
   "source": [
    "import random\n",
    "a = []\n",
    "# 코드 작성\n"
   ]
  },
  {
   "cell_type": "markdown",
   "metadata": {},
   "source": [
    "## 리스트의 가장 큰 수 & 작은 수"
   ]
  },
  {
   "cell_type": "code",
   "execution_count": null,
   "metadata": {},
   "outputs": [],
   "source": [
    "a = [32, 45, 2, 5, 76]\n",
    "small = a[0]\n",
    "for i in a:\n",
    "    if i < small:\n",
    "        small = i\n",
    "\n",
    "print(small)"
   ]
  },
  {
   "cell_type": "code",
   "execution_count": null,
   "metadata": {},
   "outputs": [],
   "source": [
    "max(a)"
   ]
  },
  {
   "cell_type": "code",
   "execution_count": null,
   "metadata": {},
   "outputs": [],
   "source": [
    "min(a)"
   ]
  },
  {
   "cell_type": "code",
   "execution_count": null,
   "metadata": {},
   "outputs": [],
   "source": [
    "sorted(a)[0] # 작은 수 \n"
   ]
  },
  {
   "cell_type": "code",
   "execution_count": null,
   "metadata": {},
   "outputs": [],
   "source": [
    "sorted(a)[-1] # 큰 수 "
   ]
  },
  {
   "cell_type": "markdown",
   "metadata": {},
   "source": [
    "# 연습문제 8\n",
    "randint함수를 사용하여 정수(1~1000)로 이루어진 길이가 100개인 리스트 a를 만들고 \n",
    "리스트의 모든 요소의 합계를 구하는 코드를 작성하시오.\n",
    "\n",
    "예) a=[32, 45, 2, 5, 76] 일때, 출력결과는 160이 나와야 함.\n",
    "\n"
   ]
  },
  {
   "cell_type": "code",
   "execution_count": null,
   "metadata": {},
   "outputs": [],
   "source": [
    "import random\n",
    "a = []\n",
    "# 코드 작성\n",
    "\n",
    "\n"
   ]
  },
  {
   "cell_type": "markdown",
   "metadata": {},
   "source": [
    "# 리스트 컴프리핸션 (list comprehension)\n",
    "한 줄로 리스트 만들기"
   ]
  },
  {
   "cell_type": "code",
   "execution_count": 15,
   "metadata": {},
   "outputs": [
    {
     "name": "stdout",
     "output_type": "stream",
     "text": [
      "[0, 1, 2, 3, 4, 5, 6, 7, 8, 9]\n"
     ]
    }
   ],
   "source": [
    "a = [i for i in range(10)]\n",
    "print(a)"
   ]
  },
  {
   "cell_type": "code",
   "execution_count": 16,
   "metadata": {},
   "outputs": [
    {
     "name": "stdout",
     "output_type": "stream",
     "text": [
      "[3, 4, 5, 6, 7, 8, 9, 10, 11, 12]\n"
     ]
    }
   ],
   "source": [
    "a = [i+3 for i in range(10)]\n",
    "print(a)"
   ]
  },
  {
   "cell_type": "code",
   "execution_count": 17,
   "metadata": {},
   "outputs": [
    {
     "name": "stdout",
     "output_type": "stream",
     "text": [
      "[9, 15, 21, 30, 6, 9]\n"
     ]
    }
   ],
   "source": [
    "a = [3, 5, 7, 10, 2, 3]\n",
    "\n",
    "b = [i*3 for i in a]\n",
    "print(b)"
   ]
  },
  {
   "cell_type": "markdown",
   "metadata": {},
   "source": [
    "## 리스트 컴프리핸션(with if)"
   ]
  },
  {
   "cell_type": "code",
   "execution_count": 5,
   "metadata": {},
   "outputs": [
    {
     "data": {
      "text/plain": [
       "[0, 2, 4, 6, 8]"
      ]
     },
     "execution_count": 5,
     "metadata": {},
     "output_type": "execute_result"
    }
   ],
   "source": [
    "a = [i for i in range(10) if i % 2==0]\n",
    "a \n",
    "\n",
    "# a = []\n",
    "\n",
    "# for i in range(10):\n",
    "#     if i%2==0:\n",
    "#         a.append(i)"
   ]
  },
  {
   "cell_type": "code",
   "execution_count": 6,
   "metadata": {},
   "outputs": [
    {
     "name": "stdout",
     "output_type": "stream",
     "text": [
      "[3, 5, 7, 3]\n"
     ]
    }
   ],
   "source": [
    "a = [3, 5, 7, 10, 2, 3]\n",
    "\n",
    "b = [i for i in a if i%2==1]\n",
    "print(b)"
   ]
  },
  {
   "cell_type": "markdown",
   "metadata": {},
   "source": [
    "## 리스트 컴프리핸션(with if)"
   ]
  },
  {
   "cell_type": "code",
   "execution_count": 7,
   "metadata": {},
   "outputs": [
    {
     "name": "stdout",
     "output_type": "stream",
     "text": [
      "[10, 20, 30, 40, 50, 60, 70, 80, 90, 11, 22, 33, 44, 55, 66, 77, 88, 99, 12, 24, 36, 48, 60, 72, 84, 96, 108, 13, 26, 39, 52, 65, 78, 91, 104, 117, 14, 28, 42, 56, 70, 84, 98, 112, 126, 15, 30, 45, 60, 75, 90, 105, 120, 135, 16, 32, 48, 64, 80, 96, 112, 128, 144, 17, 34, 51, 68, 85, 102, 119, 136, 153, 18, 36, 54, 72, 90, 108, 126, 144, 162, 19, 38, 57, 76, 95, 114, 133, 152, 171]\n"
     ]
    }
   ],
   "source": [
    "a = [i * j for i in range(10, 20) for j in range(1, 10)]\n",
    "print(a)"
   ]
  },
  {
   "cell_type": "code",
   "execution_count": 8,
   "metadata": {},
   "outputs": [
    {
     "name": "stdout",
     "output_type": "stream",
     "text": [
      "[10, 20, 30, 40, 50, 60, 70, 80, 90, 11, 22, 33, 44, 55, 66, 77, 88, 99, 12, 24, 36, 48, 60, 72, 84, 96, 108, 13, 26, 39, 52, 65, 78, 91, 104, 117, 14, 28, 42, 56, 70, 84, 98, 112, 126, 15, 30, 45, 60, 75, 90, 105, 120, 135, 16, 32, 48, 64, 80, 96, 112, 128, 144, 17, 34, 51, 68, 85, 102, 119, 136, 153, 18, 36, 54, 72, 90, 108, 126, 144, 162, 19, 38, 57, 76, 95, 114, 133, 152, 171]\n"
     ]
    }
   ],
   "source": [
    "# 이중 for문 과 동일함\n",
    "b = []\n",
    "for i in range(10,20):\n",
    "    for j in range(1, 10):\n",
    "        b.append(i*j)\n",
    "        \n",
    "print(b)"
   ]
  },
  {
   "cell_type": "code",
   "execution_count": 9,
   "metadata": {},
   "outputs": [
    {
     "name": "stdout",
     "output_type": "stream",
     "text": [
      "[1, 2, 3, 4, 5, 6, 7, 8, 9, 2, 4, 6, 8, 10, 12, 14, 16, 18, 3, 6, 9, 12, 15, 18, 21, 24, 27, 4, 8, 12, 16, 20, 24, 28, 32, 36, 5, 10, 15, 20, 25, 30, 35, 40, 45, 6, 12, 18, 24, 30, 36, 42, 48, 54, 7, 14, 21, 28, 35, 42, 49, 56, 63, 8, 16, 24, 32, 40, 48, 56, 64, 72, 9, 18, 27, 36, 45, 54, 63, 72, 81, 2, 4, 6, 8, 10, 12, 14, 16, 18, 4, 8, 12, 16, 20, 24, 28, 32, 36, 6, 12, 18, 24, 30, 36, 42, 48, 54, 8, 16, 24, 32, 40, 48, 56, 64, 72, 10, 20, 30, 40, 50, 60, 70, 80, 90, 12, 24, 36, 48, 60, 72, 84, 96, 108, 14, 28, 42, 56, 70, 84, 98, 112, 126, 16, 32, 48, 64, 80, 96, 112, 128, 144, 18, 36, 54, 72, 90, 108, 126, 144, 162, 3, 6, 9, 12, 15, 18, 21, 24, 27, 6, 12, 18, 24, 30, 36, 42, 48, 54, 9, 18, 27, 36, 45, 54, 63, 72, 81, 12, 24, 36, 48, 60, 72, 84, 96, 108, 15, 30, 45, 60, 75, 90, 105, 120, 135, 18, 36, 54, 72, 90, 108, 126, 144, 162, 21, 42, 63, 84, 105, 126, 147, 168, 189, 24, 48, 72, 96, 120, 144, 168, 192, 216, 27, 54, 81, 108, 135, 162, 189, 216, 243, 4, 8, 12, 16, 20, 24, 28, 32, 36, 8, 16, 24, 32, 40, 48, 56, 64, 72, 12, 24, 36, 48, 60, 72, 84, 96, 108, 16, 32, 48, 64, 80, 96, 112, 128, 144, 20, 40, 60, 80, 100, 120, 140, 160, 180, 24, 48, 72, 96, 120, 144, 168, 192, 216, 28, 56, 84, 112, 140, 168, 196, 224, 252, 32, 64, 96, 128, 160, 192, 224, 256, 288, 36, 72, 108, 144, 180, 216, 252, 288, 324, 5, 10, 15, 20, 25, 30, 35, 40, 45, 10, 20, 30, 40, 50, 60, 70, 80, 90, 15, 30, 45, 60, 75, 90, 105, 120, 135, 20, 40, 60, 80, 100, 120, 140, 160, 180, 25, 50, 75, 100, 125, 150, 175, 200, 225, 30, 60, 90, 120, 150, 180, 210, 240, 270, 35, 70, 105, 140, 175, 210, 245, 280, 315, 40, 80, 120, 160, 200, 240, 280, 320, 360, 45, 90, 135, 180, 225, 270, 315, 360, 405, 6, 12, 18, 24, 30, 36, 42, 48, 54, 12, 24, 36, 48, 60, 72, 84, 96, 108, 18, 36, 54, 72, 90, 108, 126, 144, 162, 24, 48, 72, 96, 120, 144, 168, 192, 216, 30, 60, 90, 120, 150, 180, 210, 240, 270, 36, 72, 108, 144, 180, 216, 252, 288, 324, 42, 84, 126, 168, 210, 252, 294, 336, 378, 48, 96, 144, 192, 240, 288, 336, 384, 432, 54, 108, 162, 216, 270, 324, 378, 432, 486, 7, 14, 21, 28, 35, 42, 49, 56, 63, 14, 28, 42, 56, 70, 84, 98, 112, 126, 21, 42, 63, 84, 105, 126, 147, 168, 189, 28, 56, 84, 112, 140, 168, 196, 224, 252, 35, 70, 105, 140, 175, 210, 245, 280, 315, 42, 84, 126, 168, 210, 252, 294, 336, 378, 49, 98, 147, 196, 245, 294, 343, 392, 441, 56, 112, 168, 224, 280, 336, 392, 448, 504, 63, 126, 189, 252, 315, 378, 441, 504, 567, 8, 16, 24, 32, 40, 48, 56, 64, 72, 16, 32, 48, 64, 80, 96, 112, 128, 144, 24, 48, 72, 96, 120, 144, 168, 192, 216, 32, 64, 96, 128, 160, 192, 224, 256, 288, 40, 80, 120, 160, 200, 240, 280, 320, 360, 48, 96, 144, 192, 240, 288, 336, 384, 432, 56, 112, 168, 224, 280, 336, 392, 448, 504, 64, 128, 192, 256, 320, 384, 448, 512, 576, 72, 144, 216, 288, 360, 432, 504, 576, 648, 9, 18, 27, 36, 45, 54, 63, 72, 81, 18, 36, 54, 72, 90, 108, 126, 144, 162, 27, 54, 81, 108, 135, 162, 189, 216, 243, 36, 72, 108, 144, 180, 216, 252, 288, 324, 45, 90, 135, 180, 225, 270, 315, 360, 405, 54, 108, 162, 216, 270, 324, 378, 432, 486, 63, 126, 189, 252, 315, 378, 441, 504, 567, 72, 144, 216, 288, 360, 432, 504, 576, 648, 81, 162, 243, 324, 405, 486, 567, 648, 729]\n"
     ]
    }
   ],
   "source": [
    "a = [i * j * k for i in range(1, 10) for j in range(1, 10) for k in range(1, 10)] # 3중 for문\n",
    "print(a)\n",
    "\n"
   ]
  },
  {
   "cell_type": "code",
   "execution_count": 10,
   "metadata": {},
   "outputs": [
    {
     "name": "stdout",
     "output_type": "stream",
     "text": [
      "[2, 6, 10, 14, 18, 6, 18, 30, 42, 54, 10, 30, 50, 70, 90, 14, 42, 70, 98, 126, 18, 54, 90, 126, 162, 4, 12, 20, 28, 36, 12, 36, 60, 84, 108, 20, 60, 100, 140, 180, 28, 84, 140, 196, 252, 36, 108, 180, 252, 324, 6, 18, 30, 42, 54, 18, 54, 90, 126, 162, 30, 90, 150, 210, 270, 42, 126, 210, 294, 378, 54, 162, 270, 378, 486, 8, 24, 40, 56, 72, 24, 72, 120, 168, 216, 40, 120, 200, 280, 360, 56, 168, 280, 392, 504, 72, 216, 360, 504, 648]\n"
     ]
    }
   ],
   "source": [
    "a = [i * j * k for i in range(1, 10) if i%2==0 for j in range(1, 10) if j%2==1 for k in range(1, 10) if k%2==1] # 3중 for문 중간 중간 if문\n",
    "print(a)\n",
    "\n",
    "a = []\n",
    "for i in range(1,10):\n",
    "    if i%2==0:\n",
    "        for j in range(1,10):\n",
    "            if i%2==1:\n",
    "                for k in range(1,10):\n",
    "                    if i%2==0:\n",
    "                        a.append(i*j*k)\n",
    "                        \n",
    "                        "
   ]
  },
  {
   "cell_type": "markdown",
   "metadata": {},
   "source": [
    "## list to dict"
   ]
  },
  {
   "cell_type": "code",
   "execution_count": 11,
   "metadata": {},
   "outputs": [],
   "source": [
    "keys = ['name', 'age', 'address']\n",
    "users = ['tom', 20, 'Dongjak-gu, Seoul, Korea']"
   ]
  },
  {
   "cell_type": "code",
   "execution_count": 12,
   "metadata": {},
   "outputs": [
    {
     "name": "stdout",
     "output_type": "stream",
     "text": [
      "{'name': 'tom', 'age': 20, 'address': 'Dongjak-gu, Seoul, Korea'}\n",
      "<class 'dict'>\n"
     ]
    }
   ],
   "source": [
    "\n",
    "user_dict = {keys[i]: users[i] for i in range(len(keys))}\n",
    "print(user_dict)\n",
    "print(type(user_dict))"
   ]
  },
  {
   "cell_type": "code",
   "execution_count": 13,
   "metadata": {},
   "outputs": [
    {
     "name": "stdout",
     "output_type": "stream",
     "text": [
      "{'name': 'tom', 'age': 20, 'address': 'Dongjak-gu, Seoul, Korea'}\n"
     ]
    }
   ],
   "source": [
    "keys = ['name', 'age', 'address']\n",
    "users = ['tom', 20, 'Dongjak-gu, Seoul, Korea']\n",
    "\n",
    "user_dict = {key: users[idx] for idx, key in enumerate(keys)}\n",
    "print(user_dict)"
   ]
  },
  {
   "cell_type": "markdown",
   "metadata": {},
   "source": [
    "### zip()"
   ]
  },
  {
   "cell_type": "code",
   "execution_count": 14,
   "metadata": {},
   "outputs": [
    {
     "data": {
      "text/plain": [
       "<zip at 0x108bea140>"
      ]
     },
     "execution_count": 14,
     "metadata": {},
     "output_type": "execute_result"
    }
   ],
   "source": [
    "keys = ['name', 'age', 'address']\n",
    "users = ['tom', 20, 'Dongjak-gu, Seoul, Korea']\n",
    "a=zip(keys, users)\n",
    "\n",
    "a"
   ]
  },
  {
   "cell_type": "code",
   "execution_count": 15,
   "metadata": {
    "scrolled": true
   },
   "outputs": [
    {
     "name": "stdout",
     "output_type": "stream",
     "text": [
      "{'name': 'tom', 'age': 20, 'address': 'Dongjak-gu, Seoul, Korea'}\n"
     ]
    }
   ],
   "source": [
    "user_dict2 = dict(zip(keys, users))\n",
    "\n",
    "print(user_dict2)"
   ]
  },
  {
   "cell_type": "code",
   "execution_count": 34,
   "metadata": {
    "scrolled": true
   },
   "outputs": [
    {
     "name": "stdout",
     "output_type": "stream",
     "text": [
      "[('name', 'tom'), ('age', 20), ('address', 'Dongjak-gu, Seoul, Korea')]\n"
     ]
    },
    {
     "data": {
      "text/plain": [
       "'tom'"
      ]
     },
     "execution_count": 34,
     "metadata": {},
     "output_type": "execute_result"
    }
   ],
   "source": [
    "user_list = list(zip(keys, users))\n",
    "print(user_list)\n",
    "\n",
    "user_list[0][1]"
   ]
  },
  {
   "cell_type": "markdown",
   "metadata": {},
   "source": [
    "# 연습문제 9-1\n",
    "word = [“school”, “game”, “piano”, “science”, “hotel”, “mountain”] 중   \n",
    "글자수가 6글자 이상인 문자를 모아 새로운 리스트를 생성하세요  \n",
    "**(리스트 컴프리핸션을 사용해주세요)**\n"
   ]
  },
  {
   "cell_type": "code",
   "execution_count": null,
   "metadata": {},
   "outputs": [],
   "source": [
    "word = ['school', 'game', 'piano', 'science', 'hotel', 'mountain']\n",
    "\n",
    "# 코드 작성\n"
   ]
  },
  {
   "cell_type": "markdown",
   "metadata": {},
   "source": [
    "# 연습문제 9-2\n",
    "word = [“school”, “game”, “piano”, “science”, “hotel”, “mountian”] 리스트의  \n",
    "글자수가 들어가있는 새로운 리스트를 생성하세요  \n",
    "**(리스트 컴프리핸션을 사용해주세요)**\n",
    "\n"
   ]
  },
  {
   "cell_type": "code",
   "execution_count": null,
   "metadata": {},
   "outputs": [],
   "source": [
    "word = ['school', 'game', 'piano', 'science', 'hotel', 'mountain']\n",
    "\n",
    "# 코드 작성"
   ]
  },
  {
   "cell_type": "markdown",
   "metadata": {},
   "source": [
    "# 2차원 리스트 응용"
   ]
  },
  {
   "cell_type": "code",
   "execution_count": null,
   "metadata": {},
   "outputs": [],
   "source": []
  },
  {
   "cell_type": "code",
   "execution_count": null,
   "metadata": {},
   "outputs": [],
   "source": []
  },
  {
   "cell_type": "code",
   "execution_count": null,
   "metadata": {},
   "outputs": [],
   "source": []
  },
  {
   "cell_type": "code",
   "execution_count": null,
   "metadata": {},
   "outputs": [],
   "source": []
  },
  {
   "cell_type": "code",
   "execution_count": null,
   "metadata": {},
   "outputs": [],
   "source": []
  },
  {
   "cell_type": "markdown",
   "metadata": {},
   "source": [
    "# break, continue"
   ]
  },
  {
   "cell_type": "markdown",
   "metadata": {},
   "source": [
    "## break"
   ]
  },
  {
   "cell_type": "code",
   "execution_count": 43,
   "metadata": {},
   "outputs": [
    {
     "name": "stdout",
     "output_type": "stream",
     "text": [
      "0\n",
      "1\n",
      "2\n"
     ]
    }
   ],
   "source": [
    "for i in range(5):\n",
    "    \n",
    "    if i == 3:\n",
    "        break\n",
    "    print(i)    "
   ]
  },
  {
   "cell_type": "code",
   "execution_count": null,
   "metadata": {},
   "outputs": [],
   "source": [
    "for i in range(5):\n",
    "    print(i)\n",
    "    \n",
    "    if i == 3:\n",
    "        break"
   ]
  },
  {
   "cell_type": "markdown",
   "metadata": {},
   "source": [
    "## continue"
   ]
  },
  {
   "cell_type": "code",
   "execution_count": 44,
   "metadata": {},
   "outputs": [
    {
     "name": "stdout",
     "output_type": "stream",
     "text": [
      "0\n",
      "1\n",
      "2\n",
      "4\n"
     ]
    }
   ],
   "source": [
    "for i in range(5):\n",
    "    if i==3:\n",
    "        continue\n",
    "\n",
    "    print(i)"
   ]
  },
  {
   "cell_type": "code",
   "execution_count": 46,
   "metadata": {},
   "outputs": [
    {
     "name": "stdout",
     "output_type": "stream",
     "text": [
      "번호를 입력하세요: 2\n",
      "번호를 입력하세요: 3\n",
      "번호를 입력하세요: 4\n",
      "번호를 입력하세요: 1\n"
     ]
    }
   ],
   "source": [
    "while True:\n",
    "    num = int(input(\"번호를 입력하세요: \"))\n",
    "    if num == 1:\n",
    "        break\n",
    "\n",
    "\n",
    "# while num!=1:\n",
    "    \n",
    "    \n",
    "    "
   ]
  },
  {
   "cell_type": "code",
   "execution_count": null,
   "metadata": {},
   "outputs": [],
   "source": []
  },
  {
   "cell_type": "code",
   "execution_count": null,
   "metadata": {},
   "outputs": [],
   "source": []
  }
 ],
 "metadata": {
  "kernelspec": {
   "display_name": "Python 3",
   "language": "python",
   "name": "python3"
  },
  "language_info": {
   "codemirror_mode": {
    "name": "ipython",
    "version": 3
   },
   "file_extension": ".py",
   "mimetype": "text/x-python",
   "name": "python",
   "nbconvert_exporter": "python",
   "pygments_lexer": "ipython3",
   "version": "3.7.5"
  }
 },
 "nbformat": 4,
 "nbformat_minor": 2
}
