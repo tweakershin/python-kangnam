{
 "cells": [
  {
   "cell_type": "markdown",
   "metadata": {},
   "source": [
    "# 공공데이터 포털 - 대기오염 정보 조회"
   ]
  },
  {
   "cell_type": "code",
   "execution_count": 1,
   "metadata": {},
   "outputs": [],
   "source": [
    "import requests\n",
    "from bs4 import BeautifulSoup\n",
    "import urllib"
   ]
  },
  {
   "cell_type": "code",
   "execution_count": 2,
   "metadata": {},
   "outputs": [
    {
     "data": {
      "text/plain": [
       "'SMztkO/RplKDzZj8SHdevEKE+doy1WPBhMXJC3+hvcQ9rfimRPD7q+LXisApMi+7ikhmboBsaBZ8wYCeV6zTKw=='"
      ]
     },
     "execution_count": 2,
     "metadata": {},
     "output_type": "execute_result"
    }
   ],
   "source": [
    "BASE_ENDPOINT = 'http://openapi.airkorea.or.kr/openapi/services/rest/ArpltnInforInqireSvc/'\n",
    "# 이미 encode된 문자열.\n",
    "MY_API_KEY = \"SMztkO%2FRplKDzZj8SHdevEKE%2Bdoy1WPBhMXJC3%2BhvcQ9rfimRPD7q%2BLXisApMi%2B7ikhmboBsaBZ8wYCeV6zTKw%3D%3D\"\n",
    "\n",
    "# decode 함\n",
    "\n",
    "MY_API_KEY = urllib.parse.unquote(MY_API_KEY)\n",
    "MY_API_KEY"
   ]
  },
  {
   "cell_type": "markdown",
   "metadata": {},
   "source": [
    "## 1. 측정소별 실시간 측정정보 조회 "
   ]
  },
  {
   "cell_type": "code",
   "execution_count": 3,
   "metadata": {},
   "outputs": [],
   "source": [
    "OPERATION_NAME = 'getMsrstnAcctoRltmMesureDnsty'"
   ]
  },
  {
   "cell_type": "code",
   "execution_count": 4,
   "metadata": {},
   "outputs": [
    {
     "data": {
      "text/plain": [
       "'http://openapi.airkorea.or.kr/openapi/services/rest/ArpltnInforInqireSvc/getMsrstnAcctoRltmMesureDnsty'"
      ]
     },
     "execution_count": 4,
     "metadata": {},
     "output_type": "execute_result"
    }
   ],
   "source": [
    "endpoint = urllib.parse.urljoin(BASE_ENDPOINT, OPERATION_NAME)\n",
    "endpoint"
   ]
  },
  {
   "cell_type": "code",
   "execution_count": 18,
   "metadata": {},
   "outputs": [],
   "source": [
    "\n",
    "params = {\n",
    "    'ServiceKey': MY_API_KEY,\n",
    "    'numOfRows': 10,\n",
    "    'pageNo':1,\n",
    "    'stationName':'강남구',\n",
    "    'dataTerm': 'daily',\n",
    "    'ver': '1.3'\n",
    "}\n"
   ]
  },
  {
   "cell_type": "code",
   "execution_count": 19,
   "metadata": {},
   "outputs": [
    {
     "data": {
      "text/plain": [
       "<Response [200]>"
      ]
     },
     "execution_count": 19,
     "metadata": {},
     "output_type": "execute_result"
    }
   ],
   "source": [
    "resp = requests.get(endpoint, params)\n",
    "resp"
   ]
  },
  {
   "cell_type": "code",
   "execution_count": 20,
   "metadata": {},
   "outputs": [
    {
     "data": {
      "text/plain": [
       "b'<?xml version=\"1.0\" encoding=\"UTF-8\"?>\\r\\n\\r\\n\\r\\n\\r\\n\\r\\n<response>\\r\\n\\t<header>\\r\\n\\t\\t<resultCode>00</resultCode>\\r\\n\\t\\t<resultMsg>NORMAL SERVICE.</resultMsg>\\r\\n\\t</header>\\r\\n\\t<body>\\r\\n\\t\\t<items>\\r\\n\\t\\t\\t\\r\\n\\t\\t\\t\\t<item>\\r\\n\\t\\t\\t\\t\\t<dataTime>2019-06-10 16:00</dataTime>\\r\\n\\t\\t\\t\\t\\t\\r\\n                        <mangName>\\xeb\\x8f\\x84\\xec\\x8b\\x9c\\xeb\\x8c\\x80\\xea\\xb8\\xb0</mangName>\\r\\n                    \\r\\n\\t\\t\\t\\t\\t<so2Value>0.004</so2Value>\\r\\n\\t\\t\\t\\t\\t<coValue>0.2</coValue>\\r\\n\\t\\t\\t\\t\\t<o3Value>0.020</o3Value>\\r\\n\\t\\t\\t\\t\\t<no2Value>0.015</no2Value>\\r\\n\\t\\t\\t\\t\\t<pm10Value>7</pm10Value>\\r\\n\\t\\t\\t\\t\\t\\r\\n                        <pm10Value24>7</pm10Value24>\\r\\n                    \\r\\n\\t\\t\\t\\t\\t\\r\\n                        <pm25Value>3</pm25Value>\\r\\n                    \\r\\n                    \\r\\n                        <pm25Value24>3</pm25Value24>\\r\\n                    \\r\\n\\t\\t\\t\\t\\t<khaiValue>33</khaiValue>\\r\\n\\t\\t\\t\\t\\t<khaiGrade>1</khaiGrade>\\r\\n\\t\\t\\t\\t\\t<so2Grade>1</so2Grade>\\r\\n\\t\\t\\t\\t\\t<coGrade>1</coGrade>\\r\\n\\t\\t\\t\\t\\t<o3Grade>1</o3Grade>\\r\\n\\t\\t\\t\\t\\t<no2Grade>1</no2Grade>\\r\\n\\t\\t\\t\\t\\t<pm10Grade>1</pm10Grade>\\r\\n\\t\\t\\t\\t\\t\\r\\n                        <pm25Grade>1</pm25Grade>\\r\\n                    \\r\\n                    \\r\\n                        <pm10Grade1h>1</pm10Grade1h>\\r\\n                        <pm25Grade1h>1</pm25Grade1h>\\r\\n                    \\r\\n\\t\\t\\t\\t</item>\\r\\n\\t\\t\\t\\r\\n\\t\\t\\t\\t<item>\\r\\n\\t\\t\\t\\t\\t<dataTime>2019-06-10 15:00</dataTime>\\r\\n\\t\\t\\t\\t\\t\\r\\n                        <mangName>\\xeb\\x8f\\x84\\xec\\x8b\\x9c\\xeb\\x8c\\x80\\xea\\xb8\\xb0</mangName>\\r\\n                    \\r\\n\\t\\t\\t\\t\\t<so2Value>0.005</so2Value>\\r\\n\\t\\t\\t\\t\\t<coValue>0.3</coValue>\\r\\n\\t\\t\\t\\t\\t<o3Value>0.024</o3Value>\\r\\n\\t\\t\\t\\t\\t<no2Value>0.013</no2Value>\\r\\n\\t\\t\\t\\t\\t<pm10Value>7</pm10Value>\\r\\n\\t\\t\\t\\t\\t\\r\\n                        <pm10Value24>7</pm10Value24>\\r\\n                    \\r\\n\\t\\t\\t\\t\\t\\r\\n                        <pm25Value>3</pm25Value>\\r\\n                    \\r\\n                    \\r\\n                        <pm25Value24>3</pm25Value24>\\r\\n                    \\r\\n\\t\\t\\t\\t\\t<khaiValue>40</khaiValue>\\r\\n\\t\\t\\t\\t\\t<khaiGrade>1</khaiGrade>\\r\\n\\t\\t\\t\\t\\t<so2Grade>1</so2Grade>\\r\\n\\t\\t\\t\\t\\t<coGrade>1</coGrade>\\r\\n\\t\\t\\t\\t\\t<o3Grade>1</o3Grade>\\r\\n\\t\\t\\t\\t\\t<no2Grade>1</no2Grade>\\r\\n\\t\\t\\t\\t\\t<pm10Grade>1</pm10Grade>\\r\\n\\t\\t\\t\\t\\t\\r\\n                        <pm25Grade>1</pm25Grade>\\r\\n                    \\r\\n                    \\r\\n                        <pm10Grade1h>1</pm10Grade1h>\\r\\n                        <pm25Grade1h>1</pm25Grade1h>\\r\\n                    \\r\\n\\t\\t\\t\\t</item>\\r\\n\\t\\t\\t\\r\\n\\t\\t\\t\\t<item>\\r\\n\\t\\t\\t\\t\\t<dataTime>2019-06-10 14:00</dataTime>\\r\\n\\t\\t\\t\\t\\t\\r\\n                        <mangName>\\xeb\\x8f\\x84\\xec\\x8b\\x9c\\xeb\\x8c\\x80\\xea\\xb8\\xb0</mangName>\\r\\n                    \\r\\n\\t\\t\\t\\t\\t<so2Value>0.004</so2Value>\\r\\n\\t\\t\\t\\t\\t<coValue>0.2</coValue>\\r\\n\\t\\t\\t\\t\\t<o3Value>0.023</o3Value>\\r\\n\\t\\t\\t\\t\\t<no2Value>0.012</no2Value>\\r\\n\\t\\t\\t\\t\\t<pm10Value>7</pm10Value>\\r\\n\\t\\t\\t\\t\\t\\r\\n                        <pm10Value24>7</pm10Value24>\\r\\n                    \\r\\n\\t\\t\\t\\t\\t\\r\\n                        <pm25Value>3</pm25Value>\\r\\n                    \\r\\n                    \\r\\n                        <pm25Value24>3</pm25Value24>\\r\\n                    \\r\\n\\t\\t\\t\\t\\t<khaiValue>38</khaiValue>\\r\\n\\t\\t\\t\\t\\t<khaiGrade>1</khaiGrade>\\r\\n\\t\\t\\t\\t\\t<so2Grade>1</so2Grade>\\r\\n\\t\\t\\t\\t\\t<coGrade>1</coGrade>\\r\\n\\t\\t\\t\\t\\t<o3Grade>1</o3Grade>\\r\\n\\t\\t\\t\\t\\t<no2Grade>1</no2Grade>\\r\\n\\t\\t\\t\\t\\t<pm10Grade>1</pm10Grade>\\r\\n\\t\\t\\t\\t\\t\\r\\n                        <pm25Grade>1</pm25Grade>\\r\\n                    \\r\\n                    \\r\\n                        <pm10Grade1h>1</pm10Grade1h>\\r\\n                        <pm25Grade1h>1</pm25Grade1h>\\r\\n                    \\r\\n\\t\\t\\t\\t</item>\\r\\n\\t\\t\\t\\r\\n\\t\\t\\t\\t<item>\\r\\n\\t\\t\\t\\t\\t<dataTime>2019-06-10 13:00</dataTime>\\r\\n\\t\\t\\t\\t\\t\\r\\n                        <mangName>\\xeb\\x8f\\x84\\xec\\x8b\\x9c\\xeb\\x8c\\x80\\xea\\xb8\\xb0</mangName>\\r\\n                    \\r\\n\\t\\t\\t\\t\\t<so2Value>0.005</so2Value>\\r\\n\\t\\t\\t\\t\\t<coValue>0.2</coValue>\\r\\n\\t\\t\\t\\t\\t<o3Value>0.023</o3Value>\\r\\n\\t\\t\\t\\t\\t<no2Value>0.013</no2Value>\\r\\n\\t\\t\\t\\t\\t<pm10Value>-</pm10Value>\\r\\n\\t\\t\\t\\t\\t\\r\\n                        <pm10Value24>7</pm10Value24>\\r\\n                    \\r\\n\\t\\t\\t\\t\\t\\r\\n                        <pm25Value>2</pm25Value>\\r\\n                    \\r\\n                    \\r\\n                        <pm25Value24>3</pm25Value24>\\r\\n                    \\r\\n\\t\\t\\t\\t\\t<khaiValue>38</khaiValue>\\r\\n\\t\\t\\t\\t\\t<khaiGrade>1</khaiGrade>\\r\\n\\t\\t\\t\\t\\t<so2Grade>1</so2Grade>\\r\\n\\t\\t\\t\\t\\t<coGrade>1</coGrade>\\r\\n\\t\\t\\t\\t\\t<o3Grade>1</o3Grade>\\r\\n\\t\\t\\t\\t\\t<no2Grade>1</no2Grade>\\r\\n\\t\\t\\t\\t\\t<pm10Grade>1</pm10Grade>\\r\\n\\t\\t\\t\\t\\t\\r\\n                        <pm25Grade>1</pm25Grade>\\r\\n                    \\r\\n                    \\r\\n                        <pm10Grade1h></pm10Grade1h>\\r\\n                        <pm25Grade1h>1</pm25Grade1h>\\r\\n                    \\r\\n\\t\\t\\t\\t</item>\\r\\n\\t\\t\\t\\r\\n\\t\\t\\t\\t<item>\\r\\n\\t\\t\\t\\t\\t<dataTime>2019-06-10 12:00</dataTime>\\r\\n\\t\\t\\t\\t\\t\\r\\n                        <mangName>\\xeb\\x8f\\x84\\xec\\x8b\\x9c\\xeb\\x8c\\x80\\xea\\xb8\\xb0</mangName>\\r\\n                    \\r\\n\\t\\t\\t\\t\\t<so2Value>0.005</so2Value>\\r\\n\\t\\t\\t\\t\\t<coValue>0.2</coValue>\\r\\n\\t\\t\\t\\t\\t<o3Value>0.019</o3Value>\\r\\n\\t\\t\\t\\t\\t<no2Value>0.014</no2Value>\\r\\n\\t\\t\\t\\t\\t<pm10Value>7</pm10Value>\\r\\n\\t\\t\\t\\t\\t\\r\\n                        <pm10Value24>8</pm10Value24>\\r\\n                    \\r\\n\\t\\t\\t\\t\\t\\r\\n                        <pm25Value>3</pm25Value>\\r\\n                    \\r\\n                    \\r\\n                        <pm25Value24>4</pm25Value24>\\r\\n                    \\r\\n\\t\\t\\t\\t\\t<khaiValue>32</khaiValue>\\r\\n\\t\\t\\t\\t\\t<khaiGrade>1</khaiGrade>\\r\\n\\t\\t\\t\\t\\t<so2Grade>1</so2Grade>\\r\\n\\t\\t\\t\\t\\t<coGrade>1</coGrade>\\r\\n\\t\\t\\t\\t\\t<o3Grade>1</o3Grade>\\r\\n\\t\\t\\t\\t\\t<no2Grade>1</no2Grade>\\r\\n\\t\\t\\t\\t\\t<pm10Grade>1</pm10Grade>\\r\\n\\t\\t\\t\\t\\t\\r\\n                        <pm25Grade>1</pm25Grade>\\r\\n                    \\r\\n                    \\r\\n                        <pm10Grade1h>1</pm10Grade1h>\\r\\n                        <pm25Grade1h>1</pm25Grade1h>\\r\\n                    \\r\\n\\t\\t\\t\\t</item>\\r\\n\\t\\t\\t\\r\\n\\t\\t\\t\\t<item>\\r\\n\\t\\t\\t\\t\\t<dataTime>2019-06-10 11:00</dataTime>\\r\\n\\t\\t\\t\\t\\t\\r\\n                        <mangName>\\xeb\\x8f\\x84\\xec\\x8b\\x9c\\xeb\\x8c\\x80\\xea\\xb8\\xb0</mangName>\\r\\n                    \\r\\n\\t\\t\\t\\t\\t<so2Value>0.004</so2Value>\\r\\n\\t\\t\\t\\t\\t<coValue>0.2</coValue>\\r\\n\\t\\t\\t\\t\\t<o3Value>0.016</o3Value>\\r\\n\\t\\t\\t\\t\\t<no2Value>0.015</no2Value>\\r\\n\\t\\t\\t\\t\\t<pm10Value>6</pm10Value>\\r\\n\\t\\t\\t\\t\\t\\r\\n                        <pm10Value24>8</pm10Value24>\\r\\n                    \\r\\n\\t\\t\\t\\t\\t\\r\\n                        <pm25Value>2</pm25Value>\\r\\n                    \\r\\n                    \\r\\n                        <pm25Value24>4</pm25Value24>\\r\\n                    \\r\\n\\t\\t\\t\\t\\t<khaiValue>27</khaiValue>\\r\\n\\t\\t\\t\\t\\t<khaiGrade>1</khaiGrade>\\r\\n\\t\\t\\t\\t\\t<so2Grade>1</so2Grade>\\r\\n\\t\\t\\t\\t\\t<coGrade>1</coGrade>\\r\\n\\t\\t\\t\\t\\t<o3Grade>1</o3Grade>\\r\\n\\t\\t\\t\\t\\t<no2Grade>1</no2Grade>\\r\\n\\t\\t\\t\\t\\t<pm10Grade>1</pm10Grade>\\r\\n\\t\\t\\t\\t\\t\\r\\n                        <pm25Grade>1</pm25Grade>\\r\\n                    \\r\\n                    \\r\\n                        <pm10Grade1h>1</pm10Grade1h>\\r\\n                        <pm25Grade1h>1</pm25Grade1h>\\r\\n                    \\r\\n\\t\\t\\t\\t</item>\\r\\n\\t\\t\\t\\r\\n\\t\\t\\t\\t<item>\\r\\n\\t\\t\\t\\t\\t<dataTime>2019-06-10 10:00</dataTime>\\r\\n\\t\\t\\t\\t\\t\\r\\n                        <mangName>\\xeb\\x8f\\x84\\xec\\x8b\\x9c\\xeb\\x8c\\x80\\xea\\xb8\\xb0</mangName>\\r\\n                    \\r\\n\\t\\t\\t\\t\\t<so2Value>0.004</so2Value>\\r\\n\\t\\t\\t\\t\\t<coValue>0.3</coValue>\\r\\n\\t\\t\\t\\t\\t<o3Value>0.015</o3Value>\\r\\n\\t\\t\\t\\t\\t<no2Value>0.016</no2Value>\\r\\n\\t\\t\\t\\t\\t<pm10Value>7</pm10Value>\\r\\n\\t\\t\\t\\t\\t\\r\\n                        <pm10Value24>8</pm10Value24>\\r\\n                    \\r\\n\\t\\t\\t\\t\\t\\r\\n                        <pm25Value>3</pm25Value>\\r\\n                    \\r\\n                    \\r\\n                        <pm25Value24>4</pm25Value24>\\r\\n                    \\r\\n\\t\\t\\t\\t\\t<khaiValue>27</khaiValue>\\r\\n\\t\\t\\t\\t\\t<khaiGrade>1</khaiGrade>\\r\\n\\t\\t\\t\\t\\t<so2Grade>1</so2Grade>\\r\\n\\t\\t\\t\\t\\t<coGrade>1</coGrade>\\r\\n\\t\\t\\t\\t\\t<o3Grade>1</o3Grade>\\r\\n\\t\\t\\t\\t\\t<no2Grade>1</no2Grade>\\r\\n\\t\\t\\t\\t\\t<pm10Grade>1</pm10Grade>\\r\\n\\t\\t\\t\\t\\t\\r\\n                        <pm25Grade>1</pm25Grade>\\r\\n                    \\r\\n                    \\r\\n                        <pm10Grade1h>1</pm10Grade1h>\\r\\n                        <pm25Grade1h>1</pm25Grade1h>\\r\\n                    \\r\\n\\t\\t\\t\\t</item>\\r\\n\\t\\t\\t\\r\\n\\t\\t\\t\\t<item>\\r\\n\\t\\t\\t\\t\\t<dataTime>2019-06-10 09:00</dataTime>\\r\\n\\t\\t\\t\\t\\t\\r\\n                        <mangName>\\xeb\\x8f\\x84\\xec\\x8b\\x9c\\xeb\\x8c\\x80\\xea\\xb8\\xb0</mangName>\\r\\n                    \\r\\n\\t\\t\\t\\t\\t<so2Value>0.004</so2Value>\\r\\n\\t\\t\\t\\t\\t<coValue>0.3</coValue>\\r\\n\\t\\t\\t\\t\\t<o3Value>0.010</o3Value>\\r\\n\\t\\t\\t\\t\\t<no2Value>0.019</no2Value>\\r\\n\\t\\t\\t\\t\\t<pm10Value>9</pm10Value>\\r\\n\\t\\t\\t\\t\\t\\r\\n                        <pm10Value24>9</pm10Value24>\\r\\n                    \\r\\n\\t\\t\\t\\t\\t\\r\\n                        <pm25Value>4</pm25Value>\\r\\n                    \\r\\n                    \\r\\n                        <pm25Value24>5</pm25Value24>\\r\\n                    \\r\\n\\t\\t\\t\\t\\t<khaiValue>32</khaiValue>\\r\\n\\t\\t\\t\\t\\t<khaiGrade>1</khaiGrade>\\r\\n\\t\\t\\t\\t\\t<so2Grade>1</so2Grade>\\r\\n\\t\\t\\t\\t\\t<coGrade>1</coGrade>\\r\\n\\t\\t\\t\\t\\t<o3Grade>1</o3Grade>\\r\\n\\t\\t\\t\\t\\t<no2Grade>1</no2Grade>\\r\\n\\t\\t\\t\\t\\t<pm10Grade>1</pm10Grade>\\r\\n\\t\\t\\t\\t\\t\\r\\n                        <pm25Grade>1</pm25Grade>\\r\\n                    \\r\\n                    \\r\\n                        <pm10Grade1h>1</pm10Grade1h>\\r\\n                        <pm25Grade1h>1</pm25Grade1h>\\r\\n                    \\r\\n\\t\\t\\t\\t</item>\\r\\n\\t\\t\\t\\r\\n\\t\\t\\t\\t<item>\\r\\n\\t\\t\\t\\t\\t<dataTime>2019-06-10 08:00</dataTime>\\r\\n\\t\\t\\t\\t\\t\\r\\n                        <mangName>\\xeb\\x8f\\x84\\xec\\x8b\\x9c\\xeb\\x8c\\x80\\xea\\xb8\\xb0</mangName>\\r\\n                    \\r\\n\\t\\t\\t\\t\\t<so2Value>0.003</so2Value>\\r\\n\\t\\t\\t\\t\\t<coValue>0.3</coValue>\\r\\n\\t\\t\\t\\t\\t<o3Value>0.012</o3Value>\\r\\n\\t\\t\\t\\t\\t<no2Value>0.020</no2Value>\\r\\n\\t\\t\\t\\t\\t<pm10Value>7</pm10Value>\\r\\n\\t\\t\\t\\t\\t\\r\\n                        <pm10Value24>9</pm10Value24>\\r\\n                    \\r\\n\\t\\t\\t\\t\\t\\r\\n                        <pm25Value>3</pm25Value>\\r\\n                    \\r\\n                    \\r\\n                        <pm25Value24>5</pm25Value24>\\r\\n                    \\r\\n\\t\\t\\t\\t\\t<khaiValue>33</khaiValue>\\r\\n\\t\\t\\t\\t\\t<khaiGrade>1</khaiGrade>\\r\\n\\t\\t\\t\\t\\t<so2Grade>1</so2Grade>\\r\\n\\t\\t\\t\\t\\t<coGrade>1</coGrade>\\r\\n\\t\\t\\t\\t\\t<o3Grade>1</o3Grade>\\r\\n\\t\\t\\t\\t\\t<no2Grade>1</no2Grade>\\r\\n\\t\\t\\t\\t\\t<pm10Grade>1</pm10Grade>\\r\\n\\t\\t\\t\\t\\t\\r\\n                        <pm25Grade>1</pm25Grade>\\r\\n                    \\r\\n                    \\r\\n                        <pm10Grade1h>1</pm10Grade1h>\\r\\n                        <pm25Grade1h>1</pm25Grade1h>\\r\\n                    \\r\\n\\t\\t\\t\\t</item>\\r\\n\\t\\t\\t\\r\\n\\t\\t\\t\\t<item>\\r\\n\\t\\t\\t\\t\\t<dataTime>2019-06-10 07:00</dataTime>\\r\\n\\t\\t\\t\\t\\t\\r\\n                        <mangName>\\xeb\\x8f\\x84\\xec\\x8b\\x9c\\xeb\\x8c\\x80\\xea\\xb8\\xb0</mangName>\\r\\n                    \\r\\n\\t\\t\\t\\t\\t<so2Value>0.005</so2Value>\\r\\n\\t\\t\\t\\t\\t<coValue>0.2</coValue>\\r\\n\\t\\t\\t\\t\\t<o3Value>0.012</o3Value>\\r\\n\\t\\t\\t\\t\\t<no2Value>0.017</no2Value>\\r\\n\\t\\t\\t\\t\\t<pm10Value>9</pm10Value>\\r\\n\\t\\t\\t\\t\\t\\r\\n                        <pm10Value24>10</pm10Value24>\\r\\n                    \\r\\n\\t\\t\\t\\t\\t\\r\\n                        <pm25Value>5</pm25Value>\\r\\n                    \\r\\n                    \\r\\n                        <pm25Value24>6</pm25Value24>\\r\\n                    \\r\\n\\t\\t\\t\\t\\t<khaiValue>28</khaiValue>\\r\\n\\t\\t\\t\\t\\t<khaiGrade>1</khaiGrade>\\r\\n\\t\\t\\t\\t\\t<so2Grade>1</so2Grade>\\r\\n\\t\\t\\t\\t\\t<coGrade>1</coGrade>\\r\\n\\t\\t\\t\\t\\t<o3Grade>1</o3Grade>\\r\\n\\t\\t\\t\\t\\t<no2Grade>1</no2Grade>\\r\\n\\t\\t\\t\\t\\t<pm10Grade>1</pm10Grade>\\r\\n\\t\\t\\t\\t\\t\\r\\n                        <pm25Grade>1</pm25Grade>\\r\\n                    \\r\\n                    \\r\\n                        <pm10Grade1h>1</pm10Grade1h>\\r\\n                        <pm25Grade1h>1</pm25Grade1h>\\r\\n                    \\r\\n\\t\\t\\t\\t</item>\\r\\n\\t\\t\\t\\r\\n\\t\\t</items>\\r\\n\\t\\t\\t<numOfRows>10</numOfRows>\\r\\n\\t\\t\\t<pageNo>1</pageNo>\\r\\n\\t\\t\\t<totalCount>23</totalCount>\\r\\n\\t</body>\\r\\n</response>\\r\\n'"
      ]
     },
     "execution_count": 20,
     "metadata": {},
     "output_type": "execute_result"
    }
   ],
   "source": [
    "resp.content"
   ]
  },
  {
   "cell_type": "code",
   "execution_count": 8,
   "metadata": {
    "scrolled": true
   },
   "outputs": [
    {
     "data": {
      "text/plain": [
       "'http://openapi.airkorea.or.kr/openapi/services/rest/ArpltnInforInqireSvc/getMsrstnAcctoRltmMesureDnsty?ServiceKey=SMztkO%2FRplKDzZj8SHdevEKE%2Bdoy1WPBhMXJC3%2BhvcQ9rfimRPD7q%2BLXisApMi%2B7ikhmboBsaBZ8wYCeV6zTKw%3D%3D&numOfRows=10&pageNo=1&stationName=%EA%B0%95%EB%82%A8%EA%B5%AC&dataTerm=daily&ver=1.3'"
      ]
     },
     "execution_count": 8,
     "metadata": {},
     "output_type": "execute_result"
    }
   ],
   "source": [
    "resp.request.url"
   ]
  },
  {
   "cell_type": "code",
   "execution_count": 22,
   "metadata": {},
   "outputs": [
    {
     "data": {
      "text/plain": [
       "b'<?xml version=\"1.0\" encoding=\"UTF-8\"?>\\r\\n\\r\\n\\r\\n\\r\\n\\r\\n<response>\\r\\n\\t<header>\\r\\n\\t\\t<resultCode>00</resultCode>\\r\\n\\t\\t<resultMsg>NORMAL SERVICE.</resultMsg>\\r\\n\\t</header>\\r\\n\\t<body>\\r\\n\\t\\t<items>\\r\\n\\t\\t\\t\\r\\n\\t\\t\\t\\t<item>\\r\\n\\t\\t\\t\\t\\t<dataTime>2019-06-10 16:00</dataTime>\\r\\n\\t\\t\\t\\t\\t\\r\\n                        <mangName>\\xeb\\x8f\\x84\\xec\\x8b\\x9c\\xeb\\x8c\\x80\\xea\\xb8\\xb0</mangName>\\r\\n                    \\r\\n\\t\\t\\t\\t\\t<so2Value>0.004</so2Value>\\r\\n\\t\\t\\t\\t\\t<coValue>0.2</coValue>\\r\\n\\t\\t\\t\\t\\t<o3Value>0.020</o3Value>\\r\\n\\t\\t\\t\\t\\t<no2Value>0.015</no2Value>\\r\\n\\t\\t\\t\\t\\t<pm10Value>7</pm10Value>\\r\\n\\t\\t\\t\\t\\t\\r\\n                        <pm10Value24>7</pm10Value24>\\r\\n                    \\r\\n\\t\\t\\t\\t\\t\\r\\n                        <pm25Value>3</pm25Value>\\r\\n                    \\r\\n                    \\r\\n                        <pm25Value24>3</pm25Value24>\\r\\n                    \\r\\n\\t\\t\\t\\t\\t<khaiValue>33</khaiValue>\\r\\n\\t\\t\\t\\t\\t<khaiGrade>1</khaiGrade>\\r\\n\\t\\t\\t\\t\\t<so2Grade>1</so2Grade>\\r\\n\\t\\t\\t\\t\\t<coGrade>1</coGrade>\\r\\n\\t\\t\\t\\t\\t<o3Grade>1</o3Grade>\\r\\n\\t\\t\\t\\t\\t<no2Grade>1</no2Grade>\\r\\n\\t\\t\\t\\t\\t<pm10Grade>1</pm10Grade>\\r\\n\\t\\t\\t\\t\\t\\r\\n                        <pm25Grade>1</pm25Grade>\\r\\n                    \\r\\n                    \\r\\n                        <pm10Grade1h>1</pm10Grade1h>\\r\\n                        <pm25Grade1h>1</pm25Grade1h>\\r\\n                    \\r\\n\\t\\t\\t\\t</item>\\r\\n\\t\\t\\t\\r\\n\\t\\t\\t\\t<item>\\r\\n\\t\\t\\t\\t\\t<dataTime>2019-06-10 15:00</dataTime>\\r\\n\\t\\t\\t\\t\\t\\r\\n                        <mangName>\\xeb\\x8f\\x84\\xec\\x8b\\x9c\\xeb\\x8c\\x80\\xea\\xb8\\xb0</mangName>\\r\\n                    \\r\\n\\t\\t\\t\\t\\t<so2Value>0.005</so2Value>\\r\\n\\t\\t\\t\\t\\t<coValue>0.3</coValue>\\r\\n\\t\\t\\t\\t\\t<o3Value>0.024</o3Value>\\r\\n\\t\\t\\t\\t\\t<no2Value>0.013</no2Value>\\r\\n\\t\\t\\t\\t\\t<pm10Value>7</pm10Value>\\r\\n\\t\\t\\t\\t\\t\\r\\n                        <pm10Value24>7</pm10Value24>\\r\\n                    \\r\\n\\t\\t\\t\\t\\t\\r\\n                        <pm25Value>3</pm25Value>\\r\\n                    \\r\\n                    \\r\\n                        <pm25Value24>3</pm25Value24>\\r\\n                    \\r\\n\\t\\t\\t\\t\\t<khaiValue>40</khaiValue>\\r\\n\\t\\t\\t\\t\\t<khaiGrade>1</khaiGrade>\\r\\n\\t\\t\\t\\t\\t<so2Grade>1</so2Grade>\\r\\n\\t\\t\\t\\t\\t<coGrade>1</coGrade>\\r\\n\\t\\t\\t\\t\\t<o3Grade>1</o3Grade>\\r\\n\\t\\t\\t\\t\\t<no2Grade>1</no2Grade>\\r\\n\\t\\t\\t\\t\\t<pm10Grade>1</pm10Grade>\\r\\n\\t\\t\\t\\t\\t\\r\\n                        <pm25Grade>1</pm25Grade>\\r\\n                    \\r\\n                    \\r\\n                        <pm10Grade1h>1</pm10Grade1h>\\r\\n                        <pm25Grade1h>1</pm25Grade1h>\\r\\n                    \\r\\n\\t\\t\\t\\t</item>\\r\\n\\t\\t\\t\\r\\n\\t\\t\\t\\t<item>\\r\\n\\t\\t\\t\\t\\t<dataTime>2019-06-10 14:00</dataTime>\\r\\n\\t\\t\\t\\t\\t\\r\\n                        <mangName>\\xeb\\x8f\\x84\\xec\\x8b\\x9c\\xeb\\x8c\\x80\\xea\\xb8\\xb0</mangName>\\r\\n                    \\r\\n\\t\\t\\t\\t\\t<so2Value>0.004</so2Value>\\r\\n\\t\\t\\t\\t\\t<coValue>0.2</coValue>\\r\\n\\t\\t\\t\\t\\t<o3Value>0.023</o3Value>\\r\\n\\t\\t\\t\\t\\t<no2Value>0.012</no2Value>\\r\\n\\t\\t\\t\\t\\t<pm10Value>7</pm10Value>\\r\\n\\t\\t\\t\\t\\t\\r\\n                        <pm10Value24>7</pm10Value24>\\r\\n                    \\r\\n\\t\\t\\t\\t\\t\\r\\n                        <pm25Value>3</pm25Value>\\r\\n                    \\r\\n                    \\r\\n                        <pm25Value24>3</pm25Value24>\\r\\n                    \\r\\n\\t\\t\\t\\t\\t<khaiValue>38</khaiValue>\\r\\n\\t\\t\\t\\t\\t<khaiGrade>1</khaiGrade>\\r\\n\\t\\t\\t\\t\\t<so2Grade>1</so2Grade>\\r\\n\\t\\t\\t\\t\\t<coGrade>1</coGrade>\\r\\n\\t\\t\\t\\t\\t<o3Grade>1</o3Grade>\\r\\n\\t\\t\\t\\t\\t<no2Grade>1</no2Grade>\\r\\n\\t\\t\\t\\t\\t<pm10Grade>1</pm10Grade>\\r\\n\\t\\t\\t\\t\\t\\r\\n                        <pm25Grade>1</pm25Grade>\\r\\n                    \\r\\n                    \\r\\n                        <pm10Grade1h>1</pm10Grade1h>\\r\\n                        <pm25Grade1h>1</pm25Grade1h>\\r\\n                    \\r\\n\\t\\t\\t\\t</item>\\r\\n\\t\\t\\t\\r\\n\\t\\t\\t\\t<item>\\r\\n\\t\\t\\t\\t\\t<dataTime>2019-06-10 13:00</dataTime>\\r\\n\\t\\t\\t\\t\\t\\r\\n                        <mangName>\\xeb\\x8f\\x84\\xec\\x8b\\x9c\\xeb\\x8c\\x80\\xea\\xb8\\xb0</mangName>\\r\\n                    \\r\\n\\t\\t\\t\\t\\t<so2Value>0.005</so2Value>\\r\\n\\t\\t\\t\\t\\t<coValue>0.2</coValue>\\r\\n\\t\\t\\t\\t\\t<o3Value>0.023</o3Value>\\r\\n\\t\\t\\t\\t\\t<no2Value>0.013</no2Value>\\r\\n\\t\\t\\t\\t\\t<pm10Value>-</pm10Value>\\r\\n\\t\\t\\t\\t\\t\\r\\n                        <pm10Value24>7</pm10Value24>\\r\\n                    \\r\\n\\t\\t\\t\\t\\t\\r\\n                        <pm25Value>2</pm25Value>\\r\\n                    \\r\\n                    \\r\\n                        <pm25Value24>3</pm25Value24>\\r\\n                    \\r\\n\\t\\t\\t\\t\\t<khaiValue>38</khaiValue>\\r\\n\\t\\t\\t\\t\\t<khaiGrade>1</khaiGrade>\\r\\n\\t\\t\\t\\t\\t<so2Grade>1</so2Grade>\\r\\n\\t\\t\\t\\t\\t<coGrade>1</coGrade>\\r\\n\\t\\t\\t\\t\\t<o3Grade>1</o3Grade>\\r\\n\\t\\t\\t\\t\\t<no2Grade>1</no2Grade>\\r\\n\\t\\t\\t\\t\\t<pm10Grade>1</pm10Grade>\\r\\n\\t\\t\\t\\t\\t\\r\\n                        <pm25Grade>1</pm25Grade>\\r\\n                    \\r\\n                    \\r\\n                        <pm10Grade1h></pm10Grade1h>\\r\\n                        <pm25Grade1h>1</pm25Grade1h>\\r\\n                    \\r\\n\\t\\t\\t\\t</item>\\r\\n\\t\\t\\t\\r\\n\\t\\t\\t\\t<item>\\r\\n\\t\\t\\t\\t\\t<dataTime>2019-06-10 12:00</dataTime>\\r\\n\\t\\t\\t\\t\\t\\r\\n                        <mangName>\\xeb\\x8f\\x84\\xec\\x8b\\x9c\\xeb\\x8c\\x80\\xea\\xb8\\xb0</mangName>\\r\\n                    \\r\\n\\t\\t\\t\\t\\t<so2Value>0.005</so2Value>\\r\\n\\t\\t\\t\\t\\t<coValue>0.2</coValue>\\r\\n\\t\\t\\t\\t\\t<o3Value>0.019</o3Value>\\r\\n\\t\\t\\t\\t\\t<no2Value>0.014</no2Value>\\r\\n\\t\\t\\t\\t\\t<pm10Value>7</pm10Value>\\r\\n\\t\\t\\t\\t\\t\\r\\n                        <pm10Value24>8</pm10Value24>\\r\\n                    \\r\\n\\t\\t\\t\\t\\t\\r\\n                        <pm25Value>3</pm25Value>\\r\\n                    \\r\\n                    \\r\\n                        <pm25Value24>4</pm25Value24>\\r\\n                    \\r\\n\\t\\t\\t\\t\\t<khaiValue>32</khaiValue>\\r\\n\\t\\t\\t\\t\\t<khaiGrade>1</khaiGrade>\\r\\n\\t\\t\\t\\t\\t<so2Grade>1</so2Grade>\\r\\n\\t\\t\\t\\t\\t<coGrade>1</coGrade>\\r\\n\\t\\t\\t\\t\\t<o3Grade>1</o3Grade>\\r\\n\\t\\t\\t\\t\\t<no2Grade>1</no2Grade>\\r\\n\\t\\t\\t\\t\\t<pm10Grade>1</pm10Grade>\\r\\n\\t\\t\\t\\t\\t\\r\\n                        <pm25Grade>1</pm25Grade>\\r\\n                    \\r\\n                    \\r\\n                        <pm10Grade1h>1</pm10Grade1h>\\r\\n                        <pm25Grade1h>1</pm25Grade1h>\\r\\n                    \\r\\n\\t\\t\\t\\t</item>\\r\\n\\t\\t\\t\\r\\n\\t\\t\\t\\t<item>\\r\\n\\t\\t\\t\\t\\t<dataTime>2019-06-10 11:00</dataTime>\\r\\n\\t\\t\\t\\t\\t\\r\\n                        <mangName>\\xeb\\x8f\\x84\\xec\\x8b\\x9c\\xeb\\x8c\\x80\\xea\\xb8\\xb0</mangName>\\r\\n                    \\r\\n\\t\\t\\t\\t\\t<so2Value>0.004</so2Value>\\r\\n\\t\\t\\t\\t\\t<coValue>0.2</coValue>\\r\\n\\t\\t\\t\\t\\t<o3Value>0.016</o3Value>\\r\\n\\t\\t\\t\\t\\t<no2Value>0.015</no2Value>\\r\\n\\t\\t\\t\\t\\t<pm10Value>6</pm10Value>\\r\\n\\t\\t\\t\\t\\t\\r\\n                        <pm10Value24>8</pm10Value24>\\r\\n                    \\r\\n\\t\\t\\t\\t\\t\\r\\n                        <pm25Value>2</pm25Value>\\r\\n                    \\r\\n                    \\r\\n                        <pm25Value24>4</pm25Value24>\\r\\n                    \\r\\n\\t\\t\\t\\t\\t<khaiValue>27</khaiValue>\\r\\n\\t\\t\\t\\t\\t<khaiGrade>1</khaiGrade>\\r\\n\\t\\t\\t\\t\\t<so2Grade>1</so2Grade>\\r\\n\\t\\t\\t\\t\\t<coGrade>1</coGrade>\\r\\n\\t\\t\\t\\t\\t<o3Grade>1</o3Grade>\\r\\n\\t\\t\\t\\t\\t<no2Grade>1</no2Grade>\\r\\n\\t\\t\\t\\t\\t<pm10Grade>1</pm10Grade>\\r\\n\\t\\t\\t\\t\\t\\r\\n                        <pm25Grade>1</pm25Grade>\\r\\n                    \\r\\n                    \\r\\n                        <pm10Grade1h>1</pm10Grade1h>\\r\\n                        <pm25Grade1h>1</pm25Grade1h>\\r\\n                    \\r\\n\\t\\t\\t\\t</item>\\r\\n\\t\\t\\t\\r\\n\\t\\t\\t\\t<item>\\r\\n\\t\\t\\t\\t\\t<dataTime>2019-06-10 10:00</dataTime>\\r\\n\\t\\t\\t\\t\\t\\r\\n                        <mangName>\\xeb\\x8f\\x84\\xec\\x8b\\x9c\\xeb\\x8c\\x80\\xea\\xb8\\xb0</mangName>\\r\\n                    \\r\\n\\t\\t\\t\\t\\t<so2Value>0.004</so2Value>\\r\\n\\t\\t\\t\\t\\t<coValue>0.3</coValue>\\r\\n\\t\\t\\t\\t\\t<o3Value>0.015</o3Value>\\r\\n\\t\\t\\t\\t\\t<no2Value>0.016</no2Value>\\r\\n\\t\\t\\t\\t\\t<pm10Value>7</pm10Value>\\r\\n\\t\\t\\t\\t\\t\\r\\n                        <pm10Value24>8</pm10Value24>\\r\\n                    \\r\\n\\t\\t\\t\\t\\t\\r\\n                        <pm25Value>3</pm25Value>\\r\\n                    \\r\\n                    \\r\\n                        <pm25Value24>4</pm25Value24>\\r\\n                    \\r\\n\\t\\t\\t\\t\\t<khaiValue>27</khaiValue>\\r\\n\\t\\t\\t\\t\\t<khaiGrade>1</khaiGrade>\\r\\n\\t\\t\\t\\t\\t<so2Grade>1</so2Grade>\\r\\n\\t\\t\\t\\t\\t<coGrade>1</coGrade>\\r\\n\\t\\t\\t\\t\\t<o3Grade>1</o3Grade>\\r\\n\\t\\t\\t\\t\\t<no2Grade>1</no2Grade>\\r\\n\\t\\t\\t\\t\\t<pm10Grade>1</pm10Grade>\\r\\n\\t\\t\\t\\t\\t\\r\\n                        <pm25Grade>1</pm25Grade>\\r\\n                    \\r\\n                    \\r\\n                        <pm10Grade1h>1</pm10Grade1h>\\r\\n                        <pm25Grade1h>1</pm25Grade1h>\\r\\n                    \\r\\n\\t\\t\\t\\t</item>\\r\\n\\t\\t\\t\\r\\n\\t\\t\\t\\t<item>\\r\\n\\t\\t\\t\\t\\t<dataTime>2019-06-10 09:00</dataTime>\\r\\n\\t\\t\\t\\t\\t\\r\\n                        <mangName>\\xeb\\x8f\\x84\\xec\\x8b\\x9c\\xeb\\x8c\\x80\\xea\\xb8\\xb0</mangName>\\r\\n                    \\r\\n\\t\\t\\t\\t\\t<so2Value>0.004</so2Value>\\r\\n\\t\\t\\t\\t\\t<coValue>0.3</coValue>\\r\\n\\t\\t\\t\\t\\t<o3Value>0.010</o3Value>\\r\\n\\t\\t\\t\\t\\t<no2Value>0.019</no2Value>\\r\\n\\t\\t\\t\\t\\t<pm10Value>9</pm10Value>\\r\\n\\t\\t\\t\\t\\t\\r\\n                        <pm10Value24>9</pm10Value24>\\r\\n                    \\r\\n\\t\\t\\t\\t\\t\\r\\n                        <pm25Value>4</pm25Value>\\r\\n                    \\r\\n                    \\r\\n                        <pm25Value24>5</pm25Value24>\\r\\n                    \\r\\n\\t\\t\\t\\t\\t<khaiValue>32</khaiValue>\\r\\n\\t\\t\\t\\t\\t<khaiGrade>1</khaiGrade>\\r\\n\\t\\t\\t\\t\\t<so2Grade>1</so2Grade>\\r\\n\\t\\t\\t\\t\\t<coGrade>1</coGrade>\\r\\n\\t\\t\\t\\t\\t<o3Grade>1</o3Grade>\\r\\n\\t\\t\\t\\t\\t<no2Grade>1</no2Grade>\\r\\n\\t\\t\\t\\t\\t<pm10Grade>1</pm10Grade>\\r\\n\\t\\t\\t\\t\\t\\r\\n                        <pm25Grade>1</pm25Grade>\\r\\n                    \\r\\n                    \\r\\n                        <pm10Grade1h>1</pm10Grade1h>\\r\\n                        <pm25Grade1h>1</pm25Grade1h>\\r\\n                    \\r\\n\\t\\t\\t\\t</item>\\r\\n\\t\\t\\t\\r\\n\\t\\t\\t\\t<item>\\r\\n\\t\\t\\t\\t\\t<dataTime>2019-06-10 08:00</dataTime>\\r\\n\\t\\t\\t\\t\\t\\r\\n                        <mangName>\\xeb\\x8f\\x84\\xec\\x8b\\x9c\\xeb\\x8c\\x80\\xea\\xb8\\xb0</mangName>\\r\\n                    \\r\\n\\t\\t\\t\\t\\t<so2Value>0.003</so2Value>\\r\\n\\t\\t\\t\\t\\t<coValue>0.3</coValue>\\r\\n\\t\\t\\t\\t\\t<o3Value>0.012</o3Value>\\r\\n\\t\\t\\t\\t\\t<no2Value>0.020</no2Value>\\r\\n\\t\\t\\t\\t\\t<pm10Value>7</pm10Value>\\r\\n\\t\\t\\t\\t\\t\\r\\n                        <pm10Value24>9</pm10Value24>\\r\\n                    \\r\\n\\t\\t\\t\\t\\t\\r\\n                        <pm25Value>3</pm25Value>\\r\\n                    \\r\\n                    \\r\\n                        <pm25Value24>5</pm25Value24>\\r\\n                    \\r\\n\\t\\t\\t\\t\\t<khaiValue>33</khaiValue>\\r\\n\\t\\t\\t\\t\\t<khaiGrade>1</khaiGrade>\\r\\n\\t\\t\\t\\t\\t<so2Grade>1</so2Grade>\\r\\n\\t\\t\\t\\t\\t<coGrade>1</coGrade>\\r\\n\\t\\t\\t\\t\\t<o3Grade>1</o3Grade>\\r\\n\\t\\t\\t\\t\\t<no2Grade>1</no2Grade>\\r\\n\\t\\t\\t\\t\\t<pm10Grade>1</pm10Grade>\\r\\n\\t\\t\\t\\t\\t\\r\\n                        <pm25Grade>1</pm25Grade>\\r\\n                    \\r\\n                    \\r\\n                        <pm10Grade1h>1</pm10Grade1h>\\r\\n                        <pm25Grade1h>1</pm25Grade1h>\\r\\n                    \\r\\n\\t\\t\\t\\t</item>\\r\\n\\t\\t\\t\\r\\n\\t\\t\\t\\t<item>\\r\\n\\t\\t\\t\\t\\t<dataTime>2019-06-10 07:00</dataTime>\\r\\n\\t\\t\\t\\t\\t\\r\\n                        <mangName>\\xeb\\x8f\\x84\\xec\\x8b\\x9c\\xeb\\x8c\\x80\\xea\\xb8\\xb0</mangName>\\r\\n                    \\r\\n\\t\\t\\t\\t\\t<so2Value>0.005</so2Value>\\r\\n\\t\\t\\t\\t\\t<coValue>0.2</coValue>\\r\\n\\t\\t\\t\\t\\t<o3Value>0.012</o3Value>\\r\\n\\t\\t\\t\\t\\t<no2Value>0.017</no2Value>\\r\\n\\t\\t\\t\\t\\t<pm10Value>9</pm10Value>\\r\\n\\t\\t\\t\\t\\t\\r\\n                        <pm10Value24>10</pm10Value24>\\r\\n                    \\r\\n\\t\\t\\t\\t\\t\\r\\n                        <pm25Value>5</pm25Value>\\r\\n                    \\r\\n                    \\r\\n                        <pm25Value24>6</pm25Value24>\\r\\n                    \\r\\n\\t\\t\\t\\t\\t<khaiValue>28</khaiValue>\\r\\n\\t\\t\\t\\t\\t<khaiGrade>1</khaiGrade>\\r\\n\\t\\t\\t\\t\\t<so2Grade>1</so2Grade>\\r\\n\\t\\t\\t\\t\\t<coGrade>1</coGrade>\\r\\n\\t\\t\\t\\t\\t<o3Grade>1</o3Grade>\\r\\n\\t\\t\\t\\t\\t<no2Grade>1</no2Grade>\\r\\n\\t\\t\\t\\t\\t<pm10Grade>1</pm10Grade>\\r\\n\\t\\t\\t\\t\\t\\r\\n                        <pm25Grade>1</pm25Grade>\\r\\n                    \\r\\n                    \\r\\n                        <pm10Grade1h>1</pm10Grade1h>\\r\\n                        <pm25Grade1h>1</pm25Grade1h>\\r\\n                    \\r\\n\\t\\t\\t\\t</item>\\r\\n\\t\\t\\t\\r\\n\\t\\t</items>\\r\\n\\t\\t\\t<numOfRows>10</numOfRows>\\r\\n\\t\\t\\t<pageNo>1</pageNo>\\r\\n\\t\\t\\t<totalCount>23</totalCount>\\r\\n\\t</body>\\r\\n</response>\\r\\n'"
      ]
     },
     "execution_count": 22,
     "metadata": {},
     "output_type": "execute_result"
    }
   ],
   "source": [
    "resp.content"
   ]
  },
  {
   "cell_type": "code",
   "execution_count": null,
   "metadata": {},
   "outputs": [],
   "source": []
  },
  {
   "cell_type": "code",
   "execution_count": 9,
   "metadata": {},
   "outputs": [],
   "source": [
    "soup = BeautifulSoup(resp.content, 'xml')"
   ]
  },
  {
   "cell_type": "code",
   "execution_count": 10,
   "metadata": {},
   "outputs": [
    {
     "data": {
      "text/plain": [
       "<?xml version=\"1.0\" encoding=\"utf-8\"?>\n",
       "<response>\n",
       "<header>\n",
       "<resultCode>00</resultCode>\n",
       "<resultMsg>NORMAL SERVICE.</resultMsg>\n",
       "</header>\n",
       "<body>\n",
       "<items>\n",
       "<item>\n",
       "<dataTime>2019-06-10 15:00</dataTime>\n",
       "<mangName>도시대기</mangName>\n",
       "<so2Value>0.005</so2Value>\n",
       "<coValue>0.3</coValue>\n",
       "<o3Value>0.024</o3Value>\n",
       "<no2Value>0.013</no2Value>\n",
       "<pm10Value>7</pm10Value>\n",
       "<pm10Value24>7</pm10Value24>\n",
       "<pm25Value>3</pm25Value>\n",
       "<pm25Value24>3</pm25Value24>\n",
       "<khaiValue>40</khaiValue>\n",
       "<khaiGrade>1</khaiGrade>\n",
       "<so2Grade>1</so2Grade>\n",
       "<coGrade>1</coGrade>\n",
       "<o3Grade>1</o3Grade>\n",
       "<no2Grade>1</no2Grade>\n",
       "<pm10Grade>1</pm10Grade>\n",
       "<pm25Grade>1</pm25Grade>\n",
       "<pm10Grade1h>1</pm10Grade1h>\n",
       "<pm25Grade1h>1</pm25Grade1h>\n",
       "</item>\n",
       "<item>\n",
       "<dataTime>2019-06-10 14:00</dataTime>\n",
       "<mangName>도시대기</mangName>\n",
       "<so2Value>0.004</so2Value>\n",
       "<coValue>0.2</coValue>\n",
       "<o3Value>0.023</o3Value>\n",
       "<no2Value>0.012</no2Value>\n",
       "<pm10Value>7</pm10Value>\n",
       "<pm10Value24>7</pm10Value24>\n",
       "<pm25Value>3</pm25Value>\n",
       "<pm25Value24>3</pm25Value24>\n",
       "<khaiValue>38</khaiValue>\n",
       "<khaiGrade>1</khaiGrade>\n",
       "<so2Grade>1</so2Grade>\n",
       "<coGrade>1</coGrade>\n",
       "<o3Grade>1</o3Grade>\n",
       "<no2Grade>1</no2Grade>\n",
       "<pm10Grade>1</pm10Grade>\n",
       "<pm25Grade>1</pm25Grade>\n",
       "<pm10Grade1h>1</pm10Grade1h>\n",
       "<pm25Grade1h>1</pm25Grade1h>\n",
       "</item>\n",
       "<item>\n",
       "<dataTime>2019-06-10 13:00</dataTime>\n",
       "<mangName>도시대기</mangName>\n",
       "<so2Value>0.005</so2Value>\n",
       "<coValue>0.2</coValue>\n",
       "<o3Value>0.023</o3Value>\n",
       "<no2Value>0.013</no2Value>\n",
       "<pm10Value>-</pm10Value>\n",
       "<pm10Value24>7</pm10Value24>\n",
       "<pm25Value>2</pm25Value>\n",
       "<pm25Value24>3</pm25Value24>\n",
       "<khaiValue>38</khaiValue>\n",
       "<khaiGrade>1</khaiGrade>\n",
       "<so2Grade>1</so2Grade>\n",
       "<coGrade>1</coGrade>\n",
       "<o3Grade>1</o3Grade>\n",
       "<no2Grade>1</no2Grade>\n",
       "<pm10Grade>1</pm10Grade>\n",
       "<pm25Grade>1</pm25Grade>\n",
       "<pm10Grade1h/>\n",
       "<pm25Grade1h>1</pm25Grade1h>\n",
       "</item>\n",
       "<item>\n",
       "<dataTime>2019-06-10 12:00</dataTime>\n",
       "<mangName>도시대기</mangName>\n",
       "<so2Value>0.005</so2Value>\n",
       "<coValue>0.2</coValue>\n",
       "<o3Value>0.019</o3Value>\n",
       "<no2Value>0.014</no2Value>\n",
       "<pm10Value>7</pm10Value>\n",
       "<pm10Value24>8</pm10Value24>\n",
       "<pm25Value>3</pm25Value>\n",
       "<pm25Value24>4</pm25Value24>\n",
       "<khaiValue>32</khaiValue>\n",
       "<khaiGrade>1</khaiGrade>\n",
       "<so2Grade>1</so2Grade>\n",
       "<coGrade>1</coGrade>\n",
       "<o3Grade>1</o3Grade>\n",
       "<no2Grade>1</no2Grade>\n",
       "<pm10Grade>1</pm10Grade>\n",
       "<pm25Grade>1</pm25Grade>\n",
       "<pm10Grade1h>1</pm10Grade1h>\n",
       "<pm25Grade1h>1</pm25Grade1h>\n",
       "</item>\n",
       "<item>\n",
       "<dataTime>2019-06-10 11:00</dataTime>\n",
       "<mangName>도시대기</mangName>\n",
       "<so2Value>0.004</so2Value>\n",
       "<coValue>0.2</coValue>\n",
       "<o3Value>0.016</o3Value>\n",
       "<no2Value>0.015</no2Value>\n",
       "<pm10Value>6</pm10Value>\n",
       "<pm10Value24>8</pm10Value24>\n",
       "<pm25Value>2</pm25Value>\n",
       "<pm25Value24>4</pm25Value24>\n",
       "<khaiValue>27</khaiValue>\n",
       "<khaiGrade>1</khaiGrade>\n",
       "<so2Grade>1</so2Grade>\n",
       "<coGrade>1</coGrade>\n",
       "<o3Grade>1</o3Grade>\n",
       "<no2Grade>1</no2Grade>\n",
       "<pm10Grade>1</pm10Grade>\n",
       "<pm25Grade>1</pm25Grade>\n",
       "<pm10Grade1h>1</pm10Grade1h>\n",
       "<pm25Grade1h>1</pm25Grade1h>\n",
       "</item>\n",
       "<item>\n",
       "<dataTime>2019-06-10 10:00</dataTime>\n",
       "<mangName>도시대기</mangName>\n",
       "<so2Value>0.004</so2Value>\n",
       "<coValue>0.3</coValue>\n",
       "<o3Value>0.015</o3Value>\n",
       "<no2Value>0.016</no2Value>\n",
       "<pm10Value>7</pm10Value>\n",
       "<pm10Value24>8</pm10Value24>\n",
       "<pm25Value>3</pm25Value>\n",
       "<pm25Value24>4</pm25Value24>\n",
       "<khaiValue>27</khaiValue>\n",
       "<khaiGrade>1</khaiGrade>\n",
       "<so2Grade>1</so2Grade>\n",
       "<coGrade>1</coGrade>\n",
       "<o3Grade>1</o3Grade>\n",
       "<no2Grade>1</no2Grade>\n",
       "<pm10Grade>1</pm10Grade>\n",
       "<pm25Grade>1</pm25Grade>\n",
       "<pm10Grade1h>1</pm10Grade1h>\n",
       "<pm25Grade1h>1</pm25Grade1h>\n",
       "</item>\n",
       "<item>\n",
       "<dataTime>2019-06-10 09:00</dataTime>\n",
       "<mangName>도시대기</mangName>\n",
       "<so2Value>0.004</so2Value>\n",
       "<coValue>0.3</coValue>\n",
       "<o3Value>0.010</o3Value>\n",
       "<no2Value>0.019</no2Value>\n",
       "<pm10Value>9</pm10Value>\n",
       "<pm10Value24>9</pm10Value24>\n",
       "<pm25Value>4</pm25Value>\n",
       "<pm25Value24>5</pm25Value24>\n",
       "<khaiValue>32</khaiValue>\n",
       "<khaiGrade>1</khaiGrade>\n",
       "<so2Grade>1</so2Grade>\n",
       "<coGrade>1</coGrade>\n",
       "<o3Grade>1</o3Grade>\n",
       "<no2Grade>1</no2Grade>\n",
       "<pm10Grade>1</pm10Grade>\n",
       "<pm25Grade>1</pm25Grade>\n",
       "<pm10Grade1h>1</pm10Grade1h>\n",
       "<pm25Grade1h>1</pm25Grade1h>\n",
       "</item>\n",
       "<item>\n",
       "<dataTime>2019-06-10 08:00</dataTime>\n",
       "<mangName>도시대기</mangName>\n",
       "<so2Value>0.003</so2Value>\n",
       "<coValue>0.3</coValue>\n",
       "<o3Value>0.012</o3Value>\n",
       "<no2Value>0.020</no2Value>\n",
       "<pm10Value>7</pm10Value>\n",
       "<pm10Value24>9</pm10Value24>\n",
       "<pm25Value>3</pm25Value>\n",
       "<pm25Value24>5</pm25Value24>\n",
       "<khaiValue>33</khaiValue>\n",
       "<khaiGrade>1</khaiGrade>\n",
       "<so2Grade>1</so2Grade>\n",
       "<coGrade>1</coGrade>\n",
       "<o3Grade>1</o3Grade>\n",
       "<no2Grade>1</no2Grade>\n",
       "<pm10Grade>1</pm10Grade>\n",
       "<pm25Grade>1</pm25Grade>\n",
       "<pm10Grade1h>1</pm10Grade1h>\n",
       "<pm25Grade1h>1</pm25Grade1h>\n",
       "</item>\n",
       "<item>\n",
       "<dataTime>2019-06-10 07:00</dataTime>\n",
       "<mangName>도시대기</mangName>\n",
       "<so2Value>0.005</so2Value>\n",
       "<coValue>0.2</coValue>\n",
       "<o3Value>0.012</o3Value>\n",
       "<no2Value>0.017</no2Value>\n",
       "<pm10Value>9</pm10Value>\n",
       "<pm10Value24>10</pm10Value24>\n",
       "<pm25Value>5</pm25Value>\n",
       "<pm25Value24>6</pm25Value24>\n",
       "<khaiValue>28</khaiValue>\n",
       "<khaiGrade>1</khaiGrade>\n",
       "<so2Grade>1</so2Grade>\n",
       "<coGrade>1</coGrade>\n",
       "<o3Grade>1</o3Grade>\n",
       "<no2Grade>1</no2Grade>\n",
       "<pm10Grade>1</pm10Grade>\n",
       "<pm25Grade>1</pm25Grade>\n",
       "<pm10Grade1h>1</pm10Grade1h>\n",
       "<pm25Grade1h>1</pm25Grade1h>\n",
       "</item>\n",
       "<item>\n",
       "<dataTime>2019-06-10 06:00</dataTime>\n",
       "<mangName>도시대기</mangName>\n",
       "<so2Value>0.004</so2Value>\n",
       "<coValue>0.2</coValue>\n",
       "<o3Value>0.021</o3Value>\n",
       "<no2Value>0.009</no2Value>\n",
       "<pm10Value>7</pm10Value>\n",
       "<pm10Value24>10</pm10Value24>\n",
       "<pm25Value>4</pm25Value>\n",
       "<pm25Value24>7</pm25Value24>\n",
       "<khaiValue>35</khaiValue>\n",
       "<khaiGrade>1</khaiGrade>\n",
       "<so2Grade>1</so2Grade>\n",
       "<coGrade>1</coGrade>\n",
       "<o3Grade>1</o3Grade>\n",
       "<no2Grade>1</no2Grade>\n",
       "<pm10Grade>1</pm10Grade>\n",
       "<pm25Grade>1</pm25Grade>\n",
       "<pm10Grade1h>1</pm10Grade1h>\n",
       "<pm25Grade1h>1</pm25Grade1h>\n",
       "</item>\n",
       "</items>\n",
       "<numOfRows>10</numOfRows>\n",
       "<pageNo>1</pageNo>\n",
       "<totalCount>23</totalCount>\n",
       "</body>\n",
       "</response>"
      ]
     },
     "execution_count": 10,
     "metadata": {},
     "output_type": "execute_result"
    }
   ],
   "source": [
    "soup"
   ]
  },
  {
   "cell_type": "code",
   "execution_count": 11,
   "metadata": {},
   "outputs": [
    {
     "data": {
      "text/plain": [
       "[<item>\n",
       " <dataTime>2019-06-10 15:00</dataTime>\n",
       " <mangName>도시대기</mangName>\n",
       " <so2Value>0.005</so2Value>\n",
       " <coValue>0.3</coValue>\n",
       " <o3Value>0.024</o3Value>\n",
       " <no2Value>0.013</no2Value>\n",
       " <pm10Value>7</pm10Value>\n",
       " <pm10Value24>7</pm10Value24>\n",
       " <pm25Value>3</pm25Value>\n",
       " <pm25Value24>3</pm25Value24>\n",
       " <khaiValue>40</khaiValue>\n",
       " <khaiGrade>1</khaiGrade>\n",
       " <so2Grade>1</so2Grade>\n",
       " <coGrade>1</coGrade>\n",
       " <o3Grade>1</o3Grade>\n",
       " <no2Grade>1</no2Grade>\n",
       " <pm10Grade>1</pm10Grade>\n",
       " <pm25Grade>1</pm25Grade>\n",
       " <pm10Grade1h>1</pm10Grade1h>\n",
       " <pm25Grade1h>1</pm25Grade1h>\n",
       " </item>, <item>\n",
       " <dataTime>2019-06-10 14:00</dataTime>\n",
       " <mangName>도시대기</mangName>\n",
       " <so2Value>0.004</so2Value>\n",
       " <coValue>0.2</coValue>\n",
       " <o3Value>0.023</o3Value>\n",
       " <no2Value>0.012</no2Value>\n",
       " <pm10Value>7</pm10Value>\n",
       " <pm10Value24>7</pm10Value24>\n",
       " <pm25Value>3</pm25Value>\n",
       " <pm25Value24>3</pm25Value24>\n",
       " <khaiValue>38</khaiValue>\n",
       " <khaiGrade>1</khaiGrade>\n",
       " <so2Grade>1</so2Grade>\n",
       " <coGrade>1</coGrade>\n",
       " <o3Grade>1</o3Grade>\n",
       " <no2Grade>1</no2Grade>\n",
       " <pm10Grade>1</pm10Grade>\n",
       " <pm25Grade>1</pm25Grade>\n",
       " <pm10Grade1h>1</pm10Grade1h>\n",
       " <pm25Grade1h>1</pm25Grade1h>\n",
       " </item>, <item>\n",
       " <dataTime>2019-06-10 13:00</dataTime>\n",
       " <mangName>도시대기</mangName>\n",
       " <so2Value>0.005</so2Value>\n",
       " <coValue>0.2</coValue>\n",
       " <o3Value>0.023</o3Value>\n",
       " <no2Value>0.013</no2Value>\n",
       " <pm10Value>-</pm10Value>\n",
       " <pm10Value24>7</pm10Value24>\n",
       " <pm25Value>2</pm25Value>\n",
       " <pm25Value24>3</pm25Value24>\n",
       " <khaiValue>38</khaiValue>\n",
       " <khaiGrade>1</khaiGrade>\n",
       " <so2Grade>1</so2Grade>\n",
       " <coGrade>1</coGrade>\n",
       " <o3Grade>1</o3Grade>\n",
       " <no2Grade>1</no2Grade>\n",
       " <pm10Grade>1</pm10Grade>\n",
       " <pm25Grade>1</pm25Grade>\n",
       " <pm10Grade1h/>\n",
       " <pm25Grade1h>1</pm25Grade1h>\n",
       " </item>, <item>\n",
       " <dataTime>2019-06-10 12:00</dataTime>\n",
       " <mangName>도시대기</mangName>\n",
       " <so2Value>0.005</so2Value>\n",
       " <coValue>0.2</coValue>\n",
       " <o3Value>0.019</o3Value>\n",
       " <no2Value>0.014</no2Value>\n",
       " <pm10Value>7</pm10Value>\n",
       " <pm10Value24>8</pm10Value24>\n",
       " <pm25Value>3</pm25Value>\n",
       " <pm25Value24>4</pm25Value24>\n",
       " <khaiValue>32</khaiValue>\n",
       " <khaiGrade>1</khaiGrade>\n",
       " <so2Grade>1</so2Grade>\n",
       " <coGrade>1</coGrade>\n",
       " <o3Grade>1</o3Grade>\n",
       " <no2Grade>1</no2Grade>\n",
       " <pm10Grade>1</pm10Grade>\n",
       " <pm25Grade>1</pm25Grade>\n",
       " <pm10Grade1h>1</pm10Grade1h>\n",
       " <pm25Grade1h>1</pm25Grade1h>\n",
       " </item>, <item>\n",
       " <dataTime>2019-06-10 11:00</dataTime>\n",
       " <mangName>도시대기</mangName>\n",
       " <so2Value>0.004</so2Value>\n",
       " <coValue>0.2</coValue>\n",
       " <o3Value>0.016</o3Value>\n",
       " <no2Value>0.015</no2Value>\n",
       " <pm10Value>6</pm10Value>\n",
       " <pm10Value24>8</pm10Value24>\n",
       " <pm25Value>2</pm25Value>\n",
       " <pm25Value24>4</pm25Value24>\n",
       " <khaiValue>27</khaiValue>\n",
       " <khaiGrade>1</khaiGrade>\n",
       " <so2Grade>1</so2Grade>\n",
       " <coGrade>1</coGrade>\n",
       " <o3Grade>1</o3Grade>\n",
       " <no2Grade>1</no2Grade>\n",
       " <pm10Grade>1</pm10Grade>\n",
       " <pm25Grade>1</pm25Grade>\n",
       " <pm10Grade1h>1</pm10Grade1h>\n",
       " <pm25Grade1h>1</pm25Grade1h>\n",
       " </item>, <item>\n",
       " <dataTime>2019-06-10 10:00</dataTime>\n",
       " <mangName>도시대기</mangName>\n",
       " <so2Value>0.004</so2Value>\n",
       " <coValue>0.3</coValue>\n",
       " <o3Value>0.015</o3Value>\n",
       " <no2Value>0.016</no2Value>\n",
       " <pm10Value>7</pm10Value>\n",
       " <pm10Value24>8</pm10Value24>\n",
       " <pm25Value>3</pm25Value>\n",
       " <pm25Value24>4</pm25Value24>\n",
       " <khaiValue>27</khaiValue>\n",
       " <khaiGrade>1</khaiGrade>\n",
       " <so2Grade>1</so2Grade>\n",
       " <coGrade>1</coGrade>\n",
       " <o3Grade>1</o3Grade>\n",
       " <no2Grade>1</no2Grade>\n",
       " <pm10Grade>1</pm10Grade>\n",
       " <pm25Grade>1</pm25Grade>\n",
       " <pm10Grade1h>1</pm10Grade1h>\n",
       " <pm25Grade1h>1</pm25Grade1h>\n",
       " </item>, <item>\n",
       " <dataTime>2019-06-10 09:00</dataTime>\n",
       " <mangName>도시대기</mangName>\n",
       " <so2Value>0.004</so2Value>\n",
       " <coValue>0.3</coValue>\n",
       " <o3Value>0.010</o3Value>\n",
       " <no2Value>0.019</no2Value>\n",
       " <pm10Value>9</pm10Value>\n",
       " <pm10Value24>9</pm10Value24>\n",
       " <pm25Value>4</pm25Value>\n",
       " <pm25Value24>5</pm25Value24>\n",
       " <khaiValue>32</khaiValue>\n",
       " <khaiGrade>1</khaiGrade>\n",
       " <so2Grade>1</so2Grade>\n",
       " <coGrade>1</coGrade>\n",
       " <o3Grade>1</o3Grade>\n",
       " <no2Grade>1</no2Grade>\n",
       " <pm10Grade>1</pm10Grade>\n",
       " <pm25Grade>1</pm25Grade>\n",
       " <pm10Grade1h>1</pm10Grade1h>\n",
       " <pm25Grade1h>1</pm25Grade1h>\n",
       " </item>, <item>\n",
       " <dataTime>2019-06-10 08:00</dataTime>\n",
       " <mangName>도시대기</mangName>\n",
       " <so2Value>0.003</so2Value>\n",
       " <coValue>0.3</coValue>\n",
       " <o3Value>0.012</o3Value>\n",
       " <no2Value>0.020</no2Value>\n",
       " <pm10Value>7</pm10Value>\n",
       " <pm10Value24>9</pm10Value24>\n",
       " <pm25Value>3</pm25Value>\n",
       " <pm25Value24>5</pm25Value24>\n",
       " <khaiValue>33</khaiValue>\n",
       " <khaiGrade>1</khaiGrade>\n",
       " <so2Grade>1</so2Grade>\n",
       " <coGrade>1</coGrade>\n",
       " <o3Grade>1</o3Grade>\n",
       " <no2Grade>1</no2Grade>\n",
       " <pm10Grade>1</pm10Grade>\n",
       " <pm25Grade>1</pm25Grade>\n",
       " <pm10Grade1h>1</pm10Grade1h>\n",
       " <pm25Grade1h>1</pm25Grade1h>\n",
       " </item>, <item>\n",
       " <dataTime>2019-06-10 07:00</dataTime>\n",
       " <mangName>도시대기</mangName>\n",
       " <so2Value>0.005</so2Value>\n",
       " <coValue>0.2</coValue>\n",
       " <o3Value>0.012</o3Value>\n",
       " <no2Value>0.017</no2Value>\n",
       " <pm10Value>9</pm10Value>\n",
       " <pm10Value24>10</pm10Value24>\n",
       " <pm25Value>5</pm25Value>\n",
       " <pm25Value24>6</pm25Value24>\n",
       " <khaiValue>28</khaiValue>\n",
       " <khaiGrade>1</khaiGrade>\n",
       " <so2Grade>1</so2Grade>\n",
       " <coGrade>1</coGrade>\n",
       " <o3Grade>1</o3Grade>\n",
       " <no2Grade>1</no2Grade>\n",
       " <pm10Grade>1</pm10Grade>\n",
       " <pm25Grade>1</pm25Grade>\n",
       " <pm10Grade1h>1</pm10Grade1h>\n",
       " <pm25Grade1h>1</pm25Grade1h>\n",
       " </item>, <item>\n",
       " <dataTime>2019-06-10 06:00</dataTime>\n",
       " <mangName>도시대기</mangName>\n",
       " <so2Value>0.004</so2Value>\n",
       " <coValue>0.2</coValue>\n",
       " <o3Value>0.021</o3Value>\n",
       " <no2Value>0.009</no2Value>\n",
       " <pm10Value>7</pm10Value>\n",
       " <pm10Value24>10</pm10Value24>\n",
       " <pm25Value>4</pm25Value>\n",
       " <pm25Value24>7</pm25Value24>\n",
       " <khaiValue>35</khaiValue>\n",
       " <khaiGrade>1</khaiGrade>\n",
       " <so2Grade>1</so2Grade>\n",
       " <coGrade>1</coGrade>\n",
       " <o3Grade>1</o3Grade>\n",
       " <no2Grade>1</no2Grade>\n",
       " <pm10Grade>1</pm10Grade>\n",
       " <pm25Grade>1</pm25Grade>\n",
       " <pm10Grade1h>1</pm10Grade1h>\n",
       " <pm25Grade1h>1</pm25Grade1h>\n",
       " </item>]"
      ]
     },
     "execution_count": 11,
     "metadata": {},
     "output_type": "execute_result"
    }
   ],
   "source": [
    "soup.find_all('item')"
   ]
  },
  {
   "cell_type": "markdown",
   "metadata": {},
   "source": [
    "### Json으로\n",
    "(&_returnType=json)"
   ]
  },
  {
   "cell_type": "code",
   "execution_count": 12,
   "metadata": {},
   "outputs": [],
   "source": [
    "params = {\n",
    "    'ServiceKey': MY_API_KEY,\n",
    "    'numOfRows': 10,\n",
    "    'pageNo':1,\n",
    "    'stationName':'강남구',\n",
    "    'dataTerm': 'daily',\n",
    "    'ver': '1.3',\n",
    "    '_returnType': 'json'\n",
    "}\n",
    "# params['_returnType'] = 'json'"
   ]
  },
  {
   "cell_type": "code",
   "execution_count": 13,
   "metadata": {},
   "outputs": [
    {
     "data": {
      "text/plain": [
       "<Response [200]>"
      ]
     },
     "execution_count": 13,
     "metadata": {},
     "output_type": "execute_result"
    }
   ],
   "source": [
    "resp = requests.get(endpoint, params)\n",
    "resp"
   ]
  },
  {
   "cell_type": "code",
   "execution_count": 14,
   "metadata": {},
   "outputs": [
    {
     "data": {
      "text/plain": [
       "b'{\"list\":[{\"_returnType\":\"json\",\"coGrade\":\"1\",\"coValue\":\"0.3\",\"dataTerm\":\"\",\"dataTime\":\"2019-06-10 15:00\",\"khaiGrade\":\"1\",\"khaiValue\":\"40\",\"mangName\":\"\\xeb\\x8f\\x84\\xec\\x8b\\x9c\\xeb\\x8c\\x80\\xea\\xb8\\xb0\",\"no2Grade\":\"1\",\"no2Value\":\"0.013\",\"numOfRows\":\"10\",\"o3Grade\":\"1\",\"o3Value\":\"0.024\",\"pageNo\":\"1\",\"pm10Grade\":\"1\",\"pm10Grade1h\":\"1\",\"pm10Value\":\"7\",\"pm10Value24\":\"7\",\"pm25Grade\":\"1\",\"pm25Grade1h\":\"1\",\"pm25Value\":\"3\",\"pm25Value24\":\"3\",\"resultCode\":\"\",\"resultMsg\":\"\",\"rnum\":0,\"serviceKey\":\"\",\"sidoName\":\"\",\"so2Grade\":\"1\",\"so2Value\":\"0.005\",\"stationCode\":\"\",\"stationName\":\"\",\"totalCount\":\"\",\"ver\":\"\"},{\"_returnType\":\"json\",\"coGrade\":\"1\",\"coValue\":\"0.2\",\"dataTerm\":\"\",\"dataTime\":\"2019-06-10 14:00\",\"khaiGrade\":\"1\",\"khaiValue\":\"38\",\"mangName\":\"\\xeb\\x8f\\x84\\xec\\x8b\\x9c\\xeb\\x8c\\x80\\xea\\xb8\\xb0\",\"no2Grade\":\"1\",\"no2Value\":\"0.012\",\"numOfRows\":\"10\",\"o3Grade\":\"1\",\"o3Value\":\"0.023\",\"pageNo\":\"1\",\"pm10Grade\":\"1\",\"pm10Grade1h\":\"1\",\"pm10Value\":\"7\",\"pm10Value24\":\"7\",\"pm25Grade\":\"1\",\"pm25Grade1h\":\"1\",\"pm25Value\":\"3\",\"pm25Value24\":\"3\",\"resultCode\":\"\",\"resultMsg\":\"\",\"rnum\":0,\"serviceKey\":\"\",\"sidoName\":\"\",\"so2Grade\":\"1\",\"so2Value\":\"0.004\",\"stationCode\":\"\",\"stationName\":\"\",\"totalCount\":\"\",\"ver\":\"\"},{\"_returnType\":\"json\",\"coGrade\":\"1\",\"coValue\":\"0.2\",\"dataTerm\":\"\",\"dataTime\":\"2019-06-10 13:00\",\"khaiGrade\":\"1\",\"khaiValue\":\"38\",\"mangName\":\"\\xeb\\x8f\\x84\\xec\\x8b\\x9c\\xeb\\x8c\\x80\\xea\\xb8\\xb0\",\"no2Grade\":\"1\",\"no2Value\":\"0.013\",\"numOfRows\":\"10\",\"o3Grade\":\"1\",\"o3Value\":\"0.023\",\"pageNo\":\"1\",\"pm10Grade\":\"1\",\"pm10Grade1h\":\"\",\"pm10Value\":\"-\",\"pm10Value24\":\"7\",\"pm25Grade\":\"1\",\"pm25Grade1h\":\"1\",\"pm25Value\":\"2\",\"pm25Value24\":\"3\",\"resultCode\":\"\",\"resultMsg\":\"\",\"rnum\":0,\"serviceKey\":\"\",\"sidoName\":\"\",\"so2Grade\":\"1\",\"so2Value\":\"0.005\",\"stationCode\":\"\",\"stationName\":\"\",\"totalCount\":\"\",\"ver\":\"\"},{\"_returnType\":\"json\",\"coGrade\":\"1\",\"coValue\":\"0.2\",\"dataTerm\":\"\",\"dataTime\":\"2019-06-10 12:00\",\"khaiGrade\":\"1\",\"khaiValue\":\"32\",\"mangName\":\"\\xeb\\x8f\\x84\\xec\\x8b\\x9c\\xeb\\x8c\\x80\\xea\\xb8\\xb0\",\"no2Grade\":\"1\",\"no2Value\":\"0.014\",\"numOfRows\":\"10\",\"o3Grade\":\"1\",\"o3Value\":\"0.019\",\"pageNo\":\"1\",\"pm10Grade\":\"1\",\"pm10Grade1h\":\"1\",\"pm10Value\":\"7\",\"pm10Value24\":\"8\",\"pm25Grade\":\"1\",\"pm25Grade1h\":\"1\",\"pm25Value\":\"3\",\"pm25Value24\":\"4\",\"resultCode\":\"\",\"resultMsg\":\"\",\"rnum\":0,\"serviceKey\":\"\",\"sidoName\":\"\",\"so2Grade\":\"1\",\"so2Value\":\"0.005\",\"stationCode\":\"\",\"stationName\":\"\",\"totalCount\":\"\",\"ver\":\"\"},{\"_returnType\":\"json\",\"coGrade\":\"1\",\"coValue\":\"0.2\",\"dataTerm\":\"\",\"dataTime\":\"2019-06-10 11:00\",\"khaiGrade\":\"1\",\"khaiValue\":\"27\",\"mangName\":\"\\xeb\\x8f\\x84\\xec\\x8b\\x9c\\xeb\\x8c\\x80\\xea\\xb8\\xb0\",\"no2Grade\":\"1\",\"no2Value\":\"0.015\",\"numOfRows\":\"10\",\"o3Grade\":\"1\",\"o3Value\":\"0.016\",\"pageNo\":\"1\",\"pm10Grade\":\"1\",\"pm10Grade1h\":\"1\",\"pm10Value\":\"6\",\"pm10Value24\":\"8\",\"pm25Grade\":\"1\",\"pm25Grade1h\":\"1\",\"pm25Value\":\"2\",\"pm25Value24\":\"4\",\"resultCode\":\"\",\"resultMsg\":\"\",\"rnum\":0,\"serviceKey\":\"\",\"sidoName\":\"\",\"so2Grade\":\"1\",\"so2Value\":\"0.004\",\"stationCode\":\"\",\"stationName\":\"\",\"totalCount\":\"\",\"ver\":\"\"},{\"_returnType\":\"json\",\"coGrade\":\"1\",\"coValue\":\"0.3\",\"dataTerm\":\"\",\"dataTime\":\"2019-06-10 10:00\",\"khaiGrade\":\"1\",\"khaiValue\":\"27\",\"mangName\":\"\\xeb\\x8f\\x84\\xec\\x8b\\x9c\\xeb\\x8c\\x80\\xea\\xb8\\xb0\",\"no2Grade\":\"1\",\"no2Value\":\"0.016\",\"numOfRows\":\"10\",\"o3Grade\":\"1\",\"o3Value\":\"0.015\",\"pageNo\":\"1\",\"pm10Grade\":\"1\",\"pm10Grade1h\":\"1\",\"pm10Value\":\"7\",\"pm10Value24\":\"8\",\"pm25Grade\":\"1\",\"pm25Grade1h\":\"1\",\"pm25Value\":\"3\",\"pm25Value24\":\"4\",\"resultCode\":\"\",\"resultMsg\":\"\",\"rnum\":0,\"serviceKey\":\"\",\"sidoName\":\"\",\"so2Grade\":\"1\",\"so2Value\":\"0.004\",\"stationCode\":\"\",\"stationName\":\"\",\"totalCount\":\"\",\"ver\":\"\"},{\"_returnType\":\"json\",\"coGrade\":\"1\",\"coValue\":\"0.3\",\"dataTerm\":\"\",\"dataTime\":\"2019-06-10 09:00\",\"khaiGrade\":\"1\",\"khaiValue\":\"32\",\"mangName\":\"\\xeb\\x8f\\x84\\xec\\x8b\\x9c\\xeb\\x8c\\x80\\xea\\xb8\\xb0\",\"no2Grade\":\"1\",\"no2Value\":\"0.019\",\"numOfRows\":\"10\",\"o3Grade\":\"1\",\"o3Value\":\"0.010\",\"pageNo\":\"1\",\"pm10Grade\":\"1\",\"pm10Grade1h\":\"1\",\"pm10Value\":\"9\",\"pm10Value24\":\"9\",\"pm25Grade\":\"1\",\"pm25Grade1h\":\"1\",\"pm25Value\":\"4\",\"pm25Value24\":\"5\",\"resultCode\":\"\",\"resultMsg\":\"\",\"rnum\":0,\"serviceKey\":\"\",\"sidoName\":\"\",\"so2Grade\":\"1\",\"so2Value\":\"0.004\",\"stationCode\":\"\",\"stationName\":\"\",\"totalCount\":\"\",\"ver\":\"\"},{\"_returnType\":\"json\",\"coGrade\":\"1\",\"coValue\":\"0.3\",\"dataTerm\":\"\",\"dataTime\":\"2019-06-10 08:00\",\"khaiGrade\":\"1\",\"khaiValue\":\"33\",\"mangName\":\"\\xeb\\x8f\\x84\\xec\\x8b\\x9c\\xeb\\x8c\\x80\\xea\\xb8\\xb0\",\"no2Grade\":\"1\",\"no2Value\":\"0.020\",\"numOfRows\":\"10\",\"o3Grade\":\"1\",\"o3Value\":\"0.012\",\"pageNo\":\"1\",\"pm10Grade\":\"1\",\"pm10Grade1h\":\"1\",\"pm10Value\":\"7\",\"pm10Value24\":\"9\",\"pm25Grade\":\"1\",\"pm25Grade1h\":\"1\",\"pm25Value\":\"3\",\"pm25Value24\":\"5\",\"resultCode\":\"\",\"resultMsg\":\"\",\"rnum\":0,\"serviceKey\":\"\",\"sidoName\":\"\",\"so2Grade\":\"1\",\"so2Value\":\"0.003\",\"stationCode\":\"\",\"stationName\":\"\",\"totalCount\":\"\",\"ver\":\"\"},{\"_returnType\":\"json\",\"coGrade\":\"1\",\"coValue\":\"0.2\",\"dataTerm\":\"\",\"dataTime\":\"2019-06-10 07:00\",\"khaiGrade\":\"1\",\"khaiValue\":\"28\",\"mangName\":\"\\xeb\\x8f\\x84\\xec\\x8b\\x9c\\xeb\\x8c\\x80\\xea\\xb8\\xb0\",\"no2Grade\":\"1\",\"no2Value\":\"0.017\",\"numOfRows\":\"10\",\"o3Grade\":\"1\",\"o3Value\":\"0.012\",\"pageNo\":\"1\",\"pm10Grade\":\"1\",\"pm10Grade1h\":\"1\",\"pm10Value\":\"9\",\"pm10Value24\":\"10\",\"pm25Grade\":\"1\",\"pm25Grade1h\":\"1\",\"pm25Value\":\"5\",\"pm25Value24\":\"6\",\"resultCode\":\"\",\"resultMsg\":\"\",\"rnum\":0,\"serviceKey\":\"\",\"sidoName\":\"\",\"so2Grade\":\"1\",\"so2Value\":\"0.005\",\"stationCode\":\"\",\"stationName\":\"\",\"totalCount\":\"\",\"ver\":\"\"},{\"_returnType\":\"json\",\"coGrade\":\"1\",\"coValue\":\"0.2\",\"dataTerm\":\"\",\"dataTime\":\"2019-06-10 06:00\",\"khaiGrade\":\"1\",\"khaiValue\":\"35\",\"mangName\":\"\\xeb\\x8f\\x84\\xec\\x8b\\x9c\\xeb\\x8c\\x80\\xea\\xb8\\xb0\",\"no2Grade\":\"1\",\"no2Value\":\"0.009\",\"numOfRows\":\"10\",\"o3Grade\":\"1\",\"o3Value\":\"0.021\",\"pageNo\":\"1\",\"pm10Grade\":\"1\",\"pm10Grade1h\":\"1\",\"pm10Value\":\"7\",\"pm10Value24\":\"10\",\"pm25Grade\":\"1\",\"pm25Grade1h\":\"1\",\"pm25Value\":\"4\",\"pm25Value24\":\"7\",\"resultCode\":\"\",\"resultMsg\":\"\",\"rnum\":0,\"serviceKey\":\"\",\"sidoName\":\"\",\"so2Grade\":\"1\",\"so2Value\":\"0.004\",\"stationCode\":\"\",\"stationName\":\"\",\"totalCount\":\"\",\"ver\":\"\"}],\"parm\":{\"_returnType\":\"json\",\"coGrade\":\"\",\"coValue\":\"\",\"dataTerm\":\"DAILY\",\"dataTime\":\"\",\"khaiGrade\":\"\",\"khaiValue\":\"\",\"mangName\":\"\",\"no2Grade\":\"\",\"no2Value\":\"\",\"numOfRows\":\"10\",\"o3Grade\":\"\",\"o3Value\":\"\",\"pageNo\":\"1\",\"pm10Grade\":\"\",\"pm10Grade1h\":\"\",\"pm10Value\":\"\",\"pm10Value24\":\"\",\"pm25Grade\":\"\",\"pm25Grade1h\":\"\",\"pm25Value\":\"\",\"pm25Value24\":\"\",\"resultCode\":\"\",\"resultMsg\":\"\",\"rnum\":0,\"serviceKey\":\"SMztkO/RplKDzZj8SHdevEKE+doy1WPBhMXJC3+hvcQ9rfimRPD7q+LXisApMi+7ikhmboBsaBZ8wYCeV6zTKw==\",\"sidoName\":\"\",\"so2Grade\":\"\",\"so2Value\":\"\",\"stationCode\":\"\",\"stationName\":\"\\xea\\xb0\\x95\\xeb\\x82\\xa8\\xea\\xb5\\xac\",\"totalCount\":\"\",\"ver\":\"1.3\"},\"ArpltnInforInqireSvcVo\":{\"_returnType\":\"json\",\"coGrade\":\"\",\"coValue\":\"\",\"dataTerm\":\"DAILY\",\"dataTime\":\"\",\"khaiGrade\":\"\",\"khaiValue\":\"\",\"mangName\":\"\",\"no2Grade\":\"\",\"no2Value\":\"\",\"numOfRows\":\"10\",\"o3Grade\":\"\",\"o3Value\":\"\",\"pageNo\":\"1\",\"pm10Grade\":\"\",\"pm10Grade1h\":\"\",\"pm10Value\":\"\",\"pm10Value24\":\"\",\"pm25Grade\":\"\",\"pm25Grade1h\":\"\",\"pm25Value\":\"\",\"pm25Value24\":\"\",\"resultCode\":\"\",\"resultMsg\":\"\",\"rnum\":0,\"serviceKey\":\"SMztkO/RplKDzZj8SHdevEKE+doy1WPBhMXJC3+hvcQ9rfimRPD7q+LXisApMi+7ikhmboBsaBZ8wYCeV6zTKw==\",\"sidoName\":\"\",\"so2Grade\":\"\",\"so2Value\":\"\",\"stationCode\":\"\",\"stationName\":\"\\xea\\xb0\\x95\\xeb\\x82\\xa8\\xea\\xb5\\xac\",\"totalCount\":\"\",\"ver\":\"1.3\"},\"totalCount\":23}'"
      ]
     },
     "execution_count": 14,
     "metadata": {},
     "output_type": "execute_result"
    }
   ],
   "source": [
    "resp.content"
   ]
  },
  {
   "cell_type": "code",
   "execution_count": 30,
   "metadata": {},
   "outputs": [
    {
     "data": {
      "text/plain": [
       "{'list': [{'_returnType': 'json',\n",
       "   'coGrade': '1',\n",
       "   'coValue': '0.3',\n",
       "   'dataTerm': '',\n",
       "   'dataTime': '2019-06-10 10:00',\n",
       "   'khaiGrade': '1',\n",
       "   'khaiValue': '27',\n",
       "   'mangName': '도시대기',\n",
       "   'no2Grade': '1',\n",
       "   'no2Value': '0.016',\n",
       "   'numOfRows': '10',\n",
       "   'o3Grade': '1',\n",
       "   'o3Value': '0.015',\n",
       "   'pageNo': '1',\n",
       "   'pm10Grade': '1',\n",
       "   'pm10Grade1h': '1',\n",
       "   'pm10Value': '7',\n",
       "   'pm10Value24': '8',\n",
       "   'pm25Grade': '1',\n",
       "   'pm25Grade1h': '1',\n",
       "   'pm25Value': '3',\n",
       "   'pm25Value24': '4',\n",
       "   'resultCode': '',\n",
       "   'resultMsg': '',\n",
       "   'rnum': 0,\n",
       "   'serviceKey': '',\n",
       "   'sidoName': '',\n",
       "   'so2Grade': '1',\n",
       "   'so2Value': '0.004',\n",
       "   'stationCode': '',\n",
       "   'stationName': '',\n",
       "   'totalCount': '',\n",
       "   'ver': ''},\n",
       "  {'_returnType': 'json',\n",
       "   'coGrade': '1',\n",
       "   'coValue': '0.3',\n",
       "   'dataTerm': '',\n",
       "   'dataTime': '2019-06-10 09:00',\n",
       "   'khaiGrade': '1',\n",
       "   'khaiValue': '32',\n",
       "   'mangName': '도시대기',\n",
       "   'no2Grade': '1',\n",
       "   'no2Value': '0.019',\n",
       "   'numOfRows': '10',\n",
       "   'o3Grade': '1',\n",
       "   'o3Value': '0.010',\n",
       "   'pageNo': '1',\n",
       "   'pm10Grade': '1',\n",
       "   'pm10Grade1h': '1',\n",
       "   'pm10Value': '9',\n",
       "   'pm10Value24': '9',\n",
       "   'pm25Grade': '1',\n",
       "   'pm25Grade1h': '1',\n",
       "   'pm25Value': '4',\n",
       "   'pm25Value24': '5',\n",
       "   'resultCode': '',\n",
       "   'resultMsg': '',\n",
       "   'rnum': 0,\n",
       "   'serviceKey': '',\n",
       "   'sidoName': '',\n",
       "   'so2Grade': '1',\n",
       "   'so2Value': '0.004',\n",
       "   'stationCode': '',\n",
       "   'stationName': '',\n",
       "   'totalCount': '',\n",
       "   'ver': ''},\n",
       "  {'_returnType': 'json',\n",
       "   'coGrade': '1',\n",
       "   'coValue': '0.3',\n",
       "   'dataTerm': '',\n",
       "   'dataTime': '2019-06-10 08:00',\n",
       "   'khaiGrade': '1',\n",
       "   'khaiValue': '33',\n",
       "   'mangName': '도시대기',\n",
       "   'no2Grade': '1',\n",
       "   'no2Value': '0.020',\n",
       "   'numOfRows': '10',\n",
       "   'o3Grade': '1',\n",
       "   'o3Value': '0.012',\n",
       "   'pageNo': '1',\n",
       "   'pm10Grade': '1',\n",
       "   'pm10Grade1h': '1',\n",
       "   'pm10Value': '7',\n",
       "   'pm10Value24': '9',\n",
       "   'pm25Grade': '1',\n",
       "   'pm25Grade1h': '1',\n",
       "   'pm25Value': '3',\n",
       "   'pm25Value24': '5',\n",
       "   'resultCode': '',\n",
       "   'resultMsg': '',\n",
       "   'rnum': 0,\n",
       "   'serviceKey': '',\n",
       "   'sidoName': '',\n",
       "   'so2Grade': '1',\n",
       "   'so2Value': '0.003',\n",
       "   'stationCode': '',\n",
       "   'stationName': '',\n",
       "   'totalCount': '',\n",
       "   'ver': ''},\n",
       "  {'_returnType': 'json',\n",
       "   'coGrade': '1',\n",
       "   'coValue': '0.2',\n",
       "   'dataTerm': '',\n",
       "   'dataTime': '2019-06-10 07:00',\n",
       "   'khaiGrade': '1',\n",
       "   'khaiValue': '28',\n",
       "   'mangName': '도시대기',\n",
       "   'no2Grade': '1',\n",
       "   'no2Value': '0.017',\n",
       "   'numOfRows': '10',\n",
       "   'o3Grade': '1',\n",
       "   'o3Value': '0.012',\n",
       "   'pageNo': '1',\n",
       "   'pm10Grade': '1',\n",
       "   'pm10Grade1h': '1',\n",
       "   'pm10Value': '9',\n",
       "   'pm10Value24': '10',\n",
       "   'pm25Grade': '1',\n",
       "   'pm25Grade1h': '1',\n",
       "   'pm25Value': '5',\n",
       "   'pm25Value24': '6',\n",
       "   'resultCode': '',\n",
       "   'resultMsg': '',\n",
       "   'rnum': 0,\n",
       "   'serviceKey': '',\n",
       "   'sidoName': '',\n",
       "   'so2Grade': '1',\n",
       "   'so2Value': '0.005',\n",
       "   'stationCode': '',\n",
       "   'stationName': '',\n",
       "   'totalCount': '',\n",
       "   'ver': ''},\n",
       "  {'_returnType': 'json',\n",
       "   'coGrade': '1',\n",
       "   'coValue': '0.2',\n",
       "   'dataTerm': '',\n",
       "   'dataTime': '2019-06-10 06:00',\n",
       "   'khaiGrade': '1',\n",
       "   'khaiValue': '35',\n",
       "   'mangName': '도시대기',\n",
       "   'no2Grade': '1',\n",
       "   'no2Value': '0.009',\n",
       "   'numOfRows': '10',\n",
       "   'o3Grade': '1',\n",
       "   'o3Value': '0.021',\n",
       "   'pageNo': '1',\n",
       "   'pm10Grade': '1',\n",
       "   'pm10Grade1h': '1',\n",
       "   'pm10Value': '7',\n",
       "   'pm10Value24': '10',\n",
       "   'pm25Grade': '1',\n",
       "   'pm25Grade1h': '1',\n",
       "   'pm25Value': '4',\n",
       "   'pm25Value24': '7',\n",
       "   'resultCode': '',\n",
       "   'resultMsg': '',\n",
       "   'rnum': 0,\n",
       "   'serviceKey': '',\n",
       "   'sidoName': '',\n",
       "   'so2Grade': '1',\n",
       "   'so2Value': '0.004',\n",
       "   'stationCode': '',\n",
       "   'stationName': '',\n",
       "   'totalCount': '',\n",
       "   'ver': ''},\n",
       "  {'_returnType': 'json',\n",
       "   'coGrade': '1',\n",
       "   'coValue': '0.2',\n",
       "   'dataTerm': '',\n",
       "   'dataTime': '2019-06-10 05:00',\n",
       "   'khaiGrade': '1',\n",
       "   'khaiValue': '42',\n",
       "   'mangName': '도시대기',\n",
       "   'no2Grade': '1',\n",
       "   'no2Value': '0.007',\n",
       "   'numOfRows': '10',\n",
       "   'o3Grade': '1',\n",
       "   'o3Value': '0.025',\n",
       "   'pageNo': '1',\n",
       "   'pm10Grade': '1',\n",
       "   'pm10Grade1h': '1',\n",
       "   'pm10Value': '9',\n",
       "   'pm10Value24': '12',\n",
       "   'pm25Grade': '1',\n",
       "   'pm25Grade1h': '1',\n",
       "   'pm25Value': '4',\n",
       "   'pm25Value24': '8',\n",
       "   'resultCode': '',\n",
       "   'resultMsg': '',\n",
       "   'rnum': 0,\n",
       "   'serviceKey': '',\n",
       "   'sidoName': '',\n",
       "   'so2Grade': '1',\n",
       "   'so2Value': '0.005',\n",
       "   'stationCode': '',\n",
       "   'stationName': '',\n",
       "   'totalCount': '',\n",
       "   'ver': ''},\n",
       "  {'_returnType': 'json',\n",
       "   'coGrade': '1',\n",
       "   'coValue': '0.2',\n",
       "   'dataTerm': '',\n",
       "   'dataTime': '2019-06-10 04:00',\n",
       "   'khaiGrade': '1',\n",
       "   'khaiValue': '37',\n",
       "   'mangName': '도시대기',\n",
       "   'no2Grade': '1',\n",
       "   'no2Value': '0.006',\n",
       "   'numOfRows': '10',\n",
       "   'o3Grade': '1',\n",
       "   'o3Value': '0.022',\n",
       "   'pageNo': '1',\n",
       "   'pm10Grade': '1',\n",
       "   'pm10Grade1h': '1',\n",
       "   'pm10Value': '7',\n",
       "   'pm10Value24': '13',\n",
       "   'pm25Grade': '1',\n",
       "   'pm25Grade1h': '1',\n",
       "   'pm25Value': '5',\n",
       "   'pm25Value24': '9',\n",
       "   'resultCode': '',\n",
       "   'resultMsg': '',\n",
       "   'rnum': 0,\n",
       "   'serviceKey': '',\n",
       "   'sidoName': '',\n",
       "   'so2Grade': '1',\n",
       "   'so2Value': '0.004',\n",
       "   'stationCode': '',\n",
       "   'stationName': '',\n",
       "   'totalCount': '',\n",
       "   'ver': ''},\n",
       "  {'_returnType': 'json',\n",
       "   'coGrade': '1',\n",
       "   'coValue': '0.2',\n",
       "   'dataTerm': '',\n",
       "   'dataTime': '2019-06-10 03:00',\n",
       "   'khaiGrade': '1',\n",
       "   'khaiValue': '45',\n",
       "   'mangName': '도시대기',\n",
       "   'no2Grade': '1',\n",
       "   'no2Value': '0.006',\n",
       "   'numOfRows': '10',\n",
       "   'o3Grade': '1',\n",
       "   'o3Value': '0.027',\n",
       "   'pageNo': '1',\n",
       "   'pm10Grade': '1',\n",
       "   'pm10Grade1h': '1',\n",
       "   'pm10Value': '9',\n",
       "   'pm10Value24': '15',\n",
       "   'pm25Grade': '1',\n",
       "   'pm25Grade1h': '1',\n",
       "   'pm25Value': '6',\n",
       "   'pm25Value24': '10',\n",
       "   'resultCode': '',\n",
       "   'resultMsg': '',\n",
       "   'rnum': 0,\n",
       "   'serviceKey': '',\n",
       "   'sidoName': '',\n",
       "   'so2Grade': '1',\n",
       "   'so2Value': '0.004',\n",
       "   'stationCode': '',\n",
       "   'stationName': '',\n",
       "   'totalCount': '',\n",
       "   'ver': ''},\n",
       "  {'_returnType': 'json',\n",
       "   'coGrade': '1',\n",
       "   'coValue': '0.2',\n",
       "   'dataTerm': '',\n",
       "   'dataTime': '2019-06-10 02:00',\n",
       "   'khaiGrade': '2',\n",
       "   'khaiValue': '51',\n",
       "   'mangName': '도시대기',\n",
       "   'no2Grade': '1',\n",
       "   'no2Value': '0.007',\n",
       "   'numOfRows': '10',\n",
       "   'o3Grade': '2',\n",
       "   'o3Value': '0.031',\n",
       "   'pageNo': '1',\n",
       "   'pm10Grade': '1',\n",
       "   'pm10Grade1h': '1',\n",
       "   'pm10Value': '10',\n",
       "   'pm10Value24': '16',\n",
       "   'pm25Grade': '1',\n",
       "   'pm25Grade1h': '1',\n",
       "   'pm25Value': '6',\n",
       "   'pm25Value24': '11',\n",
       "   'resultCode': '',\n",
       "   'resultMsg': '',\n",
       "   'rnum': 0,\n",
       "   'serviceKey': '',\n",
       "   'sidoName': '',\n",
       "   'so2Grade': '1',\n",
       "   'so2Value': '0.005',\n",
       "   'stationCode': '',\n",
       "   'stationName': '',\n",
       "   'totalCount': '',\n",
       "   'ver': ''},\n",
       "  {'_returnType': 'json',\n",
       "   'coGrade': '1',\n",
       "   'coValue': '0.2',\n",
       "   'dataTerm': '',\n",
       "   'dataTime': '2019-06-10 01:00',\n",
       "   'khaiGrade': '1',\n",
       "   'khaiValue': '45',\n",
       "   'mangName': '도시대기',\n",
       "   'no2Grade': '1',\n",
       "   'no2Value': '0.007',\n",
       "   'numOfRows': '10',\n",
       "   'o3Grade': '1',\n",
       "   'o3Value': '0.027',\n",
       "   'pageNo': '1',\n",
       "   'pm10Grade': '1',\n",
       "   'pm10Grade1h': '1',\n",
       "   'pm10Value': '13',\n",
       "   'pm10Value24': '18',\n",
       "   'pm25Grade': '1',\n",
       "   'pm25Grade1h': '1',\n",
       "   'pm25Value': '7',\n",
       "   'pm25Value24': '12',\n",
       "   'resultCode': '',\n",
       "   'resultMsg': '',\n",
       "   'rnum': 0,\n",
       "   'serviceKey': '',\n",
       "   'sidoName': '',\n",
       "   'so2Grade': '1',\n",
       "   'so2Value': '0.004',\n",
       "   'stationCode': '',\n",
       "   'stationName': '',\n",
       "   'totalCount': '',\n",
       "   'ver': ''}],\n",
       " 'parm': {'_returnType': 'json',\n",
       "  'coGrade': '',\n",
       "  'coValue': '',\n",
       "  'dataTerm': 'DAILY',\n",
       "  'dataTime': '',\n",
       "  'khaiGrade': '',\n",
       "  'khaiValue': '',\n",
       "  'mangName': '',\n",
       "  'no2Grade': '',\n",
       "  'no2Value': '',\n",
       "  'numOfRows': '10',\n",
       "  'o3Grade': '',\n",
       "  'o3Value': '',\n",
       "  'pageNo': '1',\n",
       "  'pm10Grade': '',\n",
       "  'pm10Grade1h': '',\n",
       "  'pm10Value': '',\n",
       "  'pm10Value24': '',\n",
       "  'pm25Grade': '',\n",
       "  'pm25Grade1h': '',\n",
       "  'pm25Value': '',\n",
       "  'pm25Value24': '',\n",
       "  'resultCode': '',\n",
       "  'resultMsg': '',\n",
       "  'rnum': 0,\n",
       "  'serviceKey': 'SMztkO/RplKDzZj8SHdevEKE+doy1WPBhMXJC3+hvcQ9rfimRPD7q+LXisApMi+7ikhmboBsaBZ8wYCeV6zTKw==',\n",
       "  'sidoName': '',\n",
       "  'so2Grade': '',\n",
       "  'so2Value': '',\n",
       "  'stationCode': '',\n",
       "  'stationName': '강남구',\n",
       "  'totalCount': '',\n",
       "  'ver': '1.3'},\n",
       " 'ArpltnInforInqireSvcVo': {'_returnType': 'json',\n",
       "  'coGrade': '',\n",
       "  'coValue': '',\n",
       "  'dataTerm': 'DAILY',\n",
       "  'dataTime': '',\n",
       "  'khaiGrade': '',\n",
       "  'khaiValue': '',\n",
       "  'mangName': '',\n",
       "  'no2Grade': '',\n",
       "  'no2Value': '',\n",
       "  'numOfRows': '10',\n",
       "  'o3Grade': '',\n",
       "  'o3Value': '',\n",
       "  'pageNo': '1',\n",
       "  'pm10Grade': '',\n",
       "  'pm10Grade1h': '',\n",
       "  'pm10Value': '',\n",
       "  'pm10Value24': '',\n",
       "  'pm25Grade': '',\n",
       "  'pm25Grade1h': '',\n",
       "  'pm25Value': '',\n",
       "  'pm25Value24': '',\n",
       "  'resultCode': '',\n",
       "  'resultMsg': '',\n",
       "  'rnum': 0,\n",
       "  'serviceKey': 'SMztkO/RplKDzZj8SHdevEKE+doy1WPBhMXJC3+hvcQ9rfimRPD7q+LXisApMi+7ikhmboBsaBZ8wYCeV6zTKw==',\n",
       "  'sidoName': '',\n",
       "  'so2Grade': '',\n",
       "  'so2Value': '',\n",
       "  'stationCode': '',\n",
       "  'stationName': '강남구',\n",
       "  'totalCount': '',\n",
       "  'ver': '1.3'},\n",
       " 'totalCount': 23}"
      ]
     },
     "execution_count": 30,
     "metadata": {},
     "output_type": "execute_result"
    }
   ],
   "source": [
    "resp.json()"
   ]
  },
  {
   "cell_type": "markdown",
   "metadata": {},
   "source": [
    "## Function 만들기 "
   ]
  },
  {
   "cell_type": "code",
   "execution_count": 36,
   "metadata": {},
   "outputs": [],
   "source": [
    "# ServiceKey\n",
    "# numOfRows\n",
    "# pageNo\n",
    "# stationName\n",
    "# dataTerm\n",
    "# ver\n",
    "BASE_ENDPOINT = 'http://openapi.airkorea.or.kr/openapi/services/rest/ArpltnInforInqireSvc/'\n",
    "def get_measure(serviceKey, numOfRows, pageNo, stationName, dataTerm, ver, returnType):\n",
    "    OPERATION_NAME = 'getMsrstnAcctoRltmMesureDnsty'\n",
    "    endpoint = urllib.parse.urljoin(BASE_ENDPOINT, OPERATION_NAME)\n",
    "    \n",
    "    params = {\n",
    "        'serviceKey': serviceKey,\n",
    "        'numOfRows': numOfRows,\n",
    "        'pageNo': pageNo,\n",
    "        'stationName': stationName,\n",
    "        'dataTerm': dataTerm,\n",
    "        'ver': ver,\n",
    "        '_returnType': returnType\n",
    "    }\n",
    "    \n",
    "    resp = requests.get(endpoint, params)\n",
    "    \n",
    "    if resp.status_code == 200:\n",
    "        return resp.content\n",
    "    \n",
    "    return False \n"
   ]
  },
  {
   "cell_type": "code",
   "execution_count": 38,
   "metadata": {},
   "outputs": [],
   "source": [
    "measure_list = get_measure(MY_API_KEY, 100, 1, \"강남구\", 'month', '1.0', 'json')"
   ]
  },
  {
   "cell_type": "code",
   "execution_count": 45,
   "metadata": {},
   "outputs": [],
   "source": [
    "import json"
   ]
  },
  {
   "cell_type": "code",
   "execution_count": 47,
   "metadata": {},
   "outputs": [],
   "source": [
    "json_list = json.loads(measure_list)\n"
   ]
  },
  {
   "cell_type": "code",
   "execution_count": 48,
   "metadata": {},
   "outputs": [],
   "source": [
    "temp_dict = {\n",
    "    'name': 'younsoo',\n",
    "    'location': 'seoul',\n",
    "    'friends': ['영진', '수지','철수', '영희']\n",
    "}"
   ]
  },
  {
   "cell_type": "code",
   "execution_count": null,
   "metadata": {},
   "outputs": [],
   "source": []
  },
  {
   "cell_type": "code",
   "execution_count": 49,
   "metadata": {},
   "outputs": [],
   "source": [
    "file = json.dumps(temp_dict)"
   ]
  },
  {
   "cell_type": "code",
   "execution_count": 50,
   "metadata": {},
   "outputs": [
    {
     "data": {
      "text/plain": [
       "'{\"name\": \"younsoo\", \"location\": \"seoul\", \"friends\": [\"\\\\uc601\\\\uc9c4\", \"\\\\uc218\\\\uc9c0\", \"\\\\ucca0\\\\uc218\", \"\\\\uc601\\\\ud76c\"]}'"
      ]
     },
     "execution_count": 50,
     "metadata": {},
     "output_type": "execute_result"
    }
   ],
   "source": [
    "file"
   ]
  },
  {
   "cell_type": "code",
   "execution_count": null,
   "metadata": {},
   "outputs": [],
   "source": []
  },
  {
   "cell_type": "code",
   "execution_count": 44,
   "metadata": {},
   "outputs": [
    {
     "ename": "TypeError",
     "evalue": "byte indices must be integers or slices, not str",
     "output_type": "error",
     "traceback": [
      "\u001b[1;31m---------------------------------------------------------------------------\u001b[0m",
      "\u001b[1;31mTypeError\u001b[0m                                 Traceback (most recent call last)",
      "\u001b[1;32m<ipython-input-44-94ade799ea13>\u001b[0m in \u001b[0;36m<module>\u001b[1;34m\u001b[0m\n\u001b[1;32m----> 1\u001b[1;33m \u001b[0mmeasure_list\u001b[0m\u001b[1;33m[\u001b[0m\u001b[1;34m'list'\u001b[0m\u001b[1;33m]\u001b[0m\u001b[1;33m\u001b[0m\u001b[1;33m\u001b[0m\u001b[0m\n\u001b[0m",
      "\u001b[1;31mTypeError\u001b[0m: byte indices must be integers or slices, not str"
     ]
    }
   ],
   "source": [
    "measure_list['list']"
   ]
  },
  {
   "cell_type": "code",
   "execution_count": 34,
   "metadata": {},
   "outputs": [
    {
     "data": {
      "text/plain": [
       "200"
      ]
     },
     "execution_count": 34,
     "metadata": {},
     "output_type": "execute_result"
    }
   ],
   "source": [
    "resp.status_code"
   ]
  },
  {
   "cell_type": "markdown",
   "metadata": {},
   "source": [
    "# xmltodict \n",
    "### xml을 dictionary로"
   ]
  },
  {
   "cell_type": "code",
   "execution_count": 33,
   "metadata": {},
   "outputs": [
    {
     "data": {
      "text/plain": [
       "<Response [200]>"
      ]
     },
     "execution_count": 33,
     "metadata": {},
     "output_type": "execute_result"
    }
   ],
   "source": [
    "params = {\n",
    "    'ServiceKey': MY_API_KEY,\n",
    "    'numOfRows': 10,\n",
    "    'pageNo':1,\n",
    "    'stationName':'강남구',\n",
    "    'dataTerm': 'daily',\n",
    "    'ver': '1.3'\n",
    "}\n",
    "resp = requests.get(endpoint, params)\n",
    "resp"
   ]
  },
  {
   "cell_type": "code",
   "execution_count": 34,
   "metadata": {},
   "outputs": [
    {
     "data": {
      "text/plain": [
       "b'<?xml version=\"1.0\" encoding=\"UTF-8\"?>\\r\\n\\r\\n\\r\\n\\r\\n\\r\\n<response>\\r\\n\\t<header>\\r\\n\\t\\t<resultCode>00</resultCode>\\r\\n\\t\\t<resultMsg>NORMAL SERVICE.</resultMsg>\\r\\n\\t</header>\\r\\n\\t<body>\\r\\n\\t\\t<items>\\r\\n\\t\\t\\t\\r\\n\\t\\t\\t\\t<item>\\r\\n\\t\\t\\t\\t\\t<dataTime>2019-06-10 17:00</dataTime>\\r\\n\\t\\t\\t\\t\\t\\r\\n                        <mangName>\\xeb\\x8f\\x84\\xec\\x8b\\x9c\\xeb\\x8c\\x80\\xea\\xb8\\xb0</mangName>\\r\\n                    \\r\\n\\t\\t\\t\\t\\t<so2Value>0.004</so2Value>\\r\\n\\t\\t\\t\\t\\t<coValue>0.2</coValue>\\r\\n\\t\\t\\t\\t\\t<o3Value>0.024</o3Value>\\r\\n\\t\\t\\t\\t\\t<no2Value>0.013</no2Value>\\r\\n\\t\\t\\t\\t\\t<pm10Value>9</pm10Value>\\r\\n\\t\\t\\t\\t\\t\\r\\n                        <pm10Value24>7</pm10Value24>\\r\\n                    \\r\\n\\t\\t\\t\\t\\t\\r\\n                        <pm25Value>3</pm25Value>\\r\\n                    \\r\\n                    \\r\\n                        <pm25Value24>3</pm25Value24>\\r\\n                    \\r\\n\\t\\t\\t\\t\\t<khaiValue>40</khaiValue>\\r\\n\\t\\t\\t\\t\\t<khaiGrade>1</khaiGrade>\\r\\n\\t\\t\\t\\t\\t<so2Grade>1</so2Grade>\\r\\n\\t\\t\\t\\t\\t<coGrade>1</coGrade>\\r\\n\\t\\t\\t\\t\\t<o3Grade>1</o3Grade>\\r\\n\\t\\t\\t\\t\\t<no2Grade>1</no2Grade>\\r\\n\\t\\t\\t\\t\\t<pm10Grade>1</pm10Grade>\\r\\n\\t\\t\\t\\t\\t\\r\\n                        <pm25Grade>1</pm25Grade>\\r\\n                    \\r\\n                    \\r\\n                        <pm10Grade1h>1</pm10Grade1h>\\r\\n                        <pm25Grade1h>1</pm25Grade1h>\\r\\n                    \\r\\n\\t\\t\\t\\t</item>\\r\\n\\t\\t\\t\\r\\n\\t\\t\\t\\t<item>\\r\\n\\t\\t\\t\\t\\t<dataTime>2019-06-10 16:00</dataTime>\\r\\n\\t\\t\\t\\t\\t\\r\\n                        <mangName>\\xeb\\x8f\\x84\\xec\\x8b\\x9c\\xeb\\x8c\\x80\\xea\\xb8\\xb0</mangName>\\r\\n                    \\r\\n\\t\\t\\t\\t\\t<so2Value>0.004</so2Value>\\r\\n\\t\\t\\t\\t\\t<coValue>0.2</coValue>\\r\\n\\t\\t\\t\\t\\t<o3Value>0.020</o3Value>\\r\\n\\t\\t\\t\\t\\t<no2Value>0.015</no2Value>\\r\\n\\t\\t\\t\\t\\t<pm10Value>7</pm10Value>\\r\\n\\t\\t\\t\\t\\t\\r\\n                        <pm10Value24>7</pm10Value24>\\r\\n                    \\r\\n\\t\\t\\t\\t\\t\\r\\n                        <pm25Value>3</pm25Value>\\r\\n                    \\r\\n                    \\r\\n                        <pm25Value24>3</pm25Value24>\\r\\n                    \\r\\n\\t\\t\\t\\t\\t<khaiValue>33</khaiValue>\\r\\n\\t\\t\\t\\t\\t<khaiGrade>1</khaiGrade>\\r\\n\\t\\t\\t\\t\\t<so2Grade>1</so2Grade>\\r\\n\\t\\t\\t\\t\\t<coGrade>1</coGrade>\\r\\n\\t\\t\\t\\t\\t<o3Grade>1</o3Grade>\\r\\n\\t\\t\\t\\t\\t<no2Grade>1</no2Grade>\\r\\n\\t\\t\\t\\t\\t<pm10Grade>1</pm10Grade>\\r\\n\\t\\t\\t\\t\\t\\r\\n                        <pm25Grade>1</pm25Grade>\\r\\n                    \\r\\n                    \\r\\n                        <pm10Grade1h>1</pm10Grade1h>\\r\\n                        <pm25Grade1h>1</pm25Grade1h>\\r\\n                    \\r\\n\\t\\t\\t\\t</item>\\r\\n\\t\\t\\t\\r\\n\\t\\t\\t\\t<item>\\r\\n\\t\\t\\t\\t\\t<dataTime>2019-06-10 15:00</dataTime>\\r\\n\\t\\t\\t\\t\\t\\r\\n                        <mangName>\\xeb\\x8f\\x84\\xec\\x8b\\x9c\\xeb\\x8c\\x80\\xea\\xb8\\xb0</mangName>\\r\\n                    \\r\\n\\t\\t\\t\\t\\t<so2Value>0.005</so2Value>\\r\\n\\t\\t\\t\\t\\t<coValue>0.3</coValue>\\r\\n\\t\\t\\t\\t\\t<o3Value>0.024</o3Value>\\r\\n\\t\\t\\t\\t\\t<no2Value>0.013</no2Value>\\r\\n\\t\\t\\t\\t\\t<pm10Value>7</pm10Value>\\r\\n\\t\\t\\t\\t\\t\\r\\n                        <pm10Value24>7</pm10Value24>\\r\\n                    \\r\\n\\t\\t\\t\\t\\t\\r\\n                        <pm25Value>3</pm25Value>\\r\\n                    \\r\\n                    \\r\\n                        <pm25Value24>3</pm25Value24>\\r\\n                    \\r\\n\\t\\t\\t\\t\\t<khaiValue>40</khaiValue>\\r\\n\\t\\t\\t\\t\\t<khaiGrade>1</khaiGrade>\\r\\n\\t\\t\\t\\t\\t<so2Grade>1</so2Grade>\\r\\n\\t\\t\\t\\t\\t<coGrade>1</coGrade>\\r\\n\\t\\t\\t\\t\\t<o3Grade>1</o3Grade>\\r\\n\\t\\t\\t\\t\\t<no2Grade>1</no2Grade>\\r\\n\\t\\t\\t\\t\\t<pm10Grade>1</pm10Grade>\\r\\n\\t\\t\\t\\t\\t\\r\\n                        <pm25Grade>1</pm25Grade>\\r\\n                    \\r\\n                    \\r\\n                        <pm10Grade1h>1</pm10Grade1h>\\r\\n                        <pm25Grade1h>1</pm25Grade1h>\\r\\n                    \\r\\n\\t\\t\\t\\t</item>\\r\\n\\t\\t\\t\\r\\n\\t\\t\\t\\t<item>\\r\\n\\t\\t\\t\\t\\t<dataTime>2019-06-10 14:00</dataTime>\\r\\n\\t\\t\\t\\t\\t\\r\\n                        <mangName>\\xeb\\x8f\\x84\\xec\\x8b\\x9c\\xeb\\x8c\\x80\\xea\\xb8\\xb0</mangName>\\r\\n                    \\r\\n\\t\\t\\t\\t\\t<so2Value>0.004</so2Value>\\r\\n\\t\\t\\t\\t\\t<coValue>0.2</coValue>\\r\\n\\t\\t\\t\\t\\t<o3Value>0.023</o3Value>\\r\\n\\t\\t\\t\\t\\t<no2Value>0.012</no2Value>\\r\\n\\t\\t\\t\\t\\t<pm10Value>7</pm10Value>\\r\\n\\t\\t\\t\\t\\t\\r\\n                        <pm10Value24>7</pm10Value24>\\r\\n                    \\r\\n\\t\\t\\t\\t\\t\\r\\n                        <pm25Value>3</pm25Value>\\r\\n                    \\r\\n                    \\r\\n                        <pm25Value24>3</pm25Value24>\\r\\n                    \\r\\n\\t\\t\\t\\t\\t<khaiValue>38</khaiValue>\\r\\n\\t\\t\\t\\t\\t<khaiGrade>1</khaiGrade>\\r\\n\\t\\t\\t\\t\\t<so2Grade>1</so2Grade>\\r\\n\\t\\t\\t\\t\\t<coGrade>1</coGrade>\\r\\n\\t\\t\\t\\t\\t<o3Grade>1</o3Grade>\\r\\n\\t\\t\\t\\t\\t<no2Grade>1</no2Grade>\\r\\n\\t\\t\\t\\t\\t<pm10Grade>1</pm10Grade>\\r\\n\\t\\t\\t\\t\\t\\r\\n                        <pm25Grade>1</pm25Grade>\\r\\n                    \\r\\n                    \\r\\n                        <pm10Grade1h>1</pm10Grade1h>\\r\\n                        <pm25Grade1h>1</pm25Grade1h>\\r\\n                    \\r\\n\\t\\t\\t\\t</item>\\r\\n\\t\\t\\t\\r\\n\\t\\t\\t\\t<item>\\r\\n\\t\\t\\t\\t\\t<dataTime>2019-06-10 13:00</dataTime>\\r\\n\\t\\t\\t\\t\\t\\r\\n                        <mangName>\\xeb\\x8f\\x84\\xec\\x8b\\x9c\\xeb\\x8c\\x80\\xea\\xb8\\xb0</mangName>\\r\\n                    \\r\\n\\t\\t\\t\\t\\t<so2Value>0.005</so2Value>\\r\\n\\t\\t\\t\\t\\t<coValue>0.2</coValue>\\r\\n\\t\\t\\t\\t\\t<o3Value>0.023</o3Value>\\r\\n\\t\\t\\t\\t\\t<no2Value>0.013</no2Value>\\r\\n\\t\\t\\t\\t\\t<pm10Value>-</pm10Value>\\r\\n\\t\\t\\t\\t\\t\\r\\n                        <pm10Value24>7</pm10Value24>\\r\\n                    \\r\\n\\t\\t\\t\\t\\t\\r\\n                        <pm25Value>2</pm25Value>\\r\\n                    \\r\\n                    \\r\\n                        <pm25Value24>3</pm25Value24>\\r\\n                    \\r\\n\\t\\t\\t\\t\\t<khaiValue>38</khaiValue>\\r\\n\\t\\t\\t\\t\\t<khaiGrade>1</khaiGrade>\\r\\n\\t\\t\\t\\t\\t<so2Grade>1</so2Grade>\\r\\n\\t\\t\\t\\t\\t<coGrade>1</coGrade>\\r\\n\\t\\t\\t\\t\\t<o3Grade>1</o3Grade>\\r\\n\\t\\t\\t\\t\\t<no2Grade>1</no2Grade>\\r\\n\\t\\t\\t\\t\\t<pm10Grade>1</pm10Grade>\\r\\n\\t\\t\\t\\t\\t\\r\\n                        <pm25Grade>1</pm25Grade>\\r\\n                    \\r\\n                    \\r\\n                        <pm10Grade1h></pm10Grade1h>\\r\\n                        <pm25Grade1h>1</pm25Grade1h>\\r\\n                    \\r\\n\\t\\t\\t\\t</item>\\r\\n\\t\\t\\t\\r\\n\\t\\t\\t\\t<item>\\r\\n\\t\\t\\t\\t\\t<dataTime>2019-06-10 12:00</dataTime>\\r\\n\\t\\t\\t\\t\\t\\r\\n                        <mangName>\\xeb\\x8f\\x84\\xec\\x8b\\x9c\\xeb\\x8c\\x80\\xea\\xb8\\xb0</mangName>\\r\\n                    \\r\\n\\t\\t\\t\\t\\t<so2Value>0.005</so2Value>\\r\\n\\t\\t\\t\\t\\t<coValue>0.2</coValue>\\r\\n\\t\\t\\t\\t\\t<o3Value>0.019</o3Value>\\r\\n\\t\\t\\t\\t\\t<no2Value>0.014</no2Value>\\r\\n\\t\\t\\t\\t\\t<pm10Value>7</pm10Value>\\r\\n\\t\\t\\t\\t\\t\\r\\n                        <pm10Value24>8</pm10Value24>\\r\\n                    \\r\\n\\t\\t\\t\\t\\t\\r\\n                        <pm25Value>3</pm25Value>\\r\\n                    \\r\\n                    \\r\\n                        <pm25Value24>4</pm25Value24>\\r\\n                    \\r\\n\\t\\t\\t\\t\\t<khaiValue>32</khaiValue>\\r\\n\\t\\t\\t\\t\\t<khaiGrade>1</khaiGrade>\\r\\n\\t\\t\\t\\t\\t<so2Grade>1</so2Grade>\\r\\n\\t\\t\\t\\t\\t<coGrade>1</coGrade>\\r\\n\\t\\t\\t\\t\\t<o3Grade>1</o3Grade>\\r\\n\\t\\t\\t\\t\\t<no2Grade>1</no2Grade>\\r\\n\\t\\t\\t\\t\\t<pm10Grade>1</pm10Grade>\\r\\n\\t\\t\\t\\t\\t\\r\\n                        <pm25Grade>1</pm25Grade>\\r\\n                    \\r\\n                    \\r\\n                        <pm10Grade1h>1</pm10Grade1h>\\r\\n                        <pm25Grade1h>1</pm25Grade1h>\\r\\n                    \\r\\n\\t\\t\\t\\t</item>\\r\\n\\t\\t\\t\\r\\n\\t\\t\\t\\t<item>\\r\\n\\t\\t\\t\\t\\t<dataTime>2019-06-10 11:00</dataTime>\\r\\n\\t\\t\\t\\t\\t\\r\\n                        <mangName>\\xeb\\x8f\\x84\\xec\\x8b\\x9c\\xeb\\x8c\\x80\\xea\\xb8\\xb0</mangName>\\r\\n                    \\r\\n\\t\\t\\t\\t\\t<so2Value>0.004</so2Value>\\r\\n\\t\\t\\t\\t\\t<coValue>0.2</coValue>\\r\\n\\t\\t\\t\\t\\t<o3Value>0.016</o3Value>\\r\\n\\t\\t\\t\\t\\t<no2Value>0.015</no2Value>\\r\\n\\t\\t\\t\\t\\t<pm10Value>6</pm10Value>\\r\\n\\t\\t\\t\\t\\t\\r\\n                        <pm10Value24>8</pm10Value24>\\r\\n                    \\r\\n\\t\\t\\t\\t\\t\\r\\n                        <pm25Value>2</pm25Value>\\r\\n                    \\r\\n                    \\r\\n                        <pm25Value24>4</pm25Value24>\\r\\n                    \\r\\n\\t\\t\\t\\t\\t<khaiValue>27</khaiValue>\\r\\n\\t\\t\\t\\t\\t<khaiGrade>1</khaiGrade>\\r\\n\\t\\t\\t\\t\\t<so2Grade>1</so2Grade>\\r\\n\\t\\t\\t\\t\\t<coGrade>1</coGrade>\\r\\n\\t\\t\\t\\t\\t<o3Grade>1</o3Grade>\\r\\n\\t\\t\\t\\t\\t<no2Grade>1</no2Grade>\\r\\n\\t\\t\\t\\t\\t<pm10Grade>1</pm10Grade>\\r\\n\\t\\t\\t\\t\\t\\r\\n                        <pm25Grade>1</pm25Grade>\\r\\n                    \\r\\n                    \\r\\n                        <pm10Grade1h>1</pm10Grade1h>\\r\\n                        <pm25Grade1h>1</pm25Grade1h>\\r\\n                    \\r\\n\\t\\t\\t\\t</item>\\r\\n\\t\\t\\t\\r\\n\\t\\t\\t\\t<item>\\r\\n\\t\\t\\t\\t\\t<dataTime>2019-06-10 10:00</dataTime>\\r\\n\\t\\t\\t\\t\\t\\r\\n                        <mangName>\\xeb\\x8f\\x84\\xec\\x8b\\x9c\\xeb\\x8c\\x80\\xea\\xb8\\xb0</mangName>\\r\\n                    \\r\\n\\t\\t\\t\\t\\t<so2Value>0.004</so2Value>\\r\\n\\t\\t\\t\\t\\t<coValue>0.3</coValue>\\r\\n\\t\\t\\t\\t\\t<o3Value>0.015</o3Value>\\r\\n\\t\\t\\t\\t\\t<no2Value>0.016</no2Value>\\r\\n\\t\\t\\t\\t\\t<pm10Value>7</pm10Value>\\r\\n\\t\\t\\t\\t\\t\\r\\n                        <pm10Value24>8</pm10Value24>\\r\\n                    \\r\\n\\t\\t\\t\\t\\t\\r\\n                        <pm25Value>3</pm25Value>\\r\\n                    \\r\\n                    \\r\\n                        <pm25Value24>4</pm25Value24>\\r\\n                    \\r\\n\\t\\t\\t\\t\\t<khaiValue>27</khaiValue>\\r\\n\\t\\t\\t\\t\\t<khaiGrade>1</khaiGrade>\\r\\n\\t\\t\\t\\t\\t<so2Grade>1</so2Grade>\\r\\n\\t\\t\\t\\t\\t<coGrade>1</coGrade>\\r\\n\\t\\t\\t\\t\\t<o3Grade>1</o3Grade>\\r\\n\\t\\t\\t\\t\\t<no2Grade>1</no2Grade>\\r\\n\\t\\t\\t\\t\\t<pm10Grade>1</pm10Grade>\\r\\n\\t\\t\\t\\t\\t\\r\\n                        <pm25Grade>1</pm25Grade>\\r\\n                    \\r\\n                    \\r\\n                        <pm10Grade1h>1</pm10Grade1h>\\r\\n                        <pm25Grade1h>1</pm25Grade1h>\\r\\n                    \\r\\n\\t\\t\\t\\t</item>\\r\\n\\t\\t\\t\\r\\n\\t\\t\\t\\t<item>\\r\\n\\t\\t\\t\\t\\t<dataTime>2019-06-10 09:00</dataTime>\\r\\n\\t\\t\\t\\t\\t\\r\\n                        <mangName>\\xeb\\x8f\\x84\\xec\\x8b\\x9c\\xeb\\x8c\\x80\\xea\\xb8\\xb0</mangName>\\r\\n                    \\r\\n\\t\\t\\t\\t\\t<so2Value>0.004</so2Value>\\r\\n\\t\\t\\t\\t\\t<coValue>0.3</coValue>\\r\\n\\t\\t\\t\\t\\t<o3Value>0.010</o3Value>\\r\\n\\t\\t\\t\\t\\t<no2Value>0.019</no2Value>\\r\\n\\t\\t\\t\\t\\t<pm10Value>9</pm10Value>\\r\\n\\t\\t\\t\\t\\t\\r\\n                        <pm10Value24>9</pm10Value24>\\r\\n                    \\r\\n\\t\\t\\t\\t\\t\\r\\n                        <pm25Value>4</pm25Value>\\r\\n                    \\r\\n                    \\r\\n                        <pm25Value24>5</pm25Value24>\\r\\n                    \\r\\n\\t\\t\\t\\t\\t<khaiValue>32</khaiValue>\\r\\n\\t\\t\\t\\t\\t<khaiGrade>1</khaiGrade>\\r\\n\\t\\t\\t\\t\\t<so2Grade>1</so2Grade>\\r\\n\\t\\t\\t\\t\\t<coGrade>1</coGrade>\\r\\n\\t\\t\\t\\t\\t<o3Grade>1</o3Grade>\\r\\n\\t\\t\\t\\t\\t<no2Grade>1</no2Grade>\\r\\n\\t\\t\\t\\t\\t<pm10Grade>1</pm10Grade>\\r\\n\\t\\t\\t\\t\\t\\r\\n                        <pm25Grade>1</pm25Grade>\\r\\n                    \\r\\n                    \\r\\n                        <pm10Grade1h>1</pm10Grade1h>\\r\\n                        <pm25Grade1h>1</pm25Grade1h>\\r\\n                    \\r\\n\\t\\t\\t\\t</item>\\r\\n\\t\\t\\t\\r\\n\\t\\t\\t\\t<item>\\r\\n\\t\\t\\t\\t\\t<dataTime>2019-06-10 08:00</dataTime>\\r\\n\\t\\t\\t\\t\\t\\r\\n                        <mangName>\\xeb\\x8f\\x84\\xec\\x8b\\x9c\\xeb\\x8c\\x80\\xea\\xb8\\xb0</mangName>\\r\\n                    \\r\\n\\t\\t\\t\\t\\t<so2Value>0.003</so2Value>\\r\\n\\t\\t\\t\\t\\t<coValue>0.3</coValue>\\r\\n\\t\\t\\t\\t\\t<o3Value>0.012</o3Value>\\r\\n\\t\\t\\t\\t\\t<no2Value>0.020</no2Value>\\r\\n\\t\\t\\t\\t\\t<pm10Value>7</pm10Value>\\r\\n\\t\\t\\t\\t\\t\\r\\n                        <pm10Value24>9</pm10Value24>\\r\\n                    \\r\\n\\t\\t\\t\\t\\t\\r\\n                        <pm25Value>3</pm25Value>\\r\\n                    \\r\\n                    \\r\\n                        <pm25Value24>5</pm25Value24>\\r\\n                    \\r\\n\\t\\t\\t\\t\\t<khaiValue>33</khaiValue>\\r\\n\\t\\t\\t\\t\\t<khaiGrade>1</khaiGrade>\\r\\n\\t\\t\\t\\t\\t<so2Grade>1</so2Grade>\\r\\n\\t\\t\\t\\t\\t<coGrade>1</coGrade>\\r\\n\\t\\t\\t\\t\\t<o3Grade>1</o3Grade>\\r\\n\\t\\t\\t\\t\\t<no2Grade>1</no2Grade>\\r\\n\\t\\t\\t\\t\\t<pm10Grade>1</pm10Grade>\\r\\n\\t\\t\\t\\t\\t\\r\\n                        <pm25Grade>1</pm25Grade>\\r\\n                    \\r\\n                    \\r\\n                        <pm10Grade1h>1</pm10Grade1h>\\r\\n                        <pm25Grade1h>1</pm25Grade1h>\\r\\n                    \\r\\n\\t\\t\\t\\t</item>\\r\\n\\t\\t\\t\\r\\n\\t\\t</items>\\r\\n\\t\\t\\t<numOfRows>10</numOfRows>\\r\\n\\t\\t\\t<pageNo>1</pageNo>\\r\\n\\t\\t\\t<totalCount>23</totalCount>\\r\\n\\t</body>\\r\\n</response>\\r\\n'"
      ]
     },
     "execution_count": 34,
     "metadata": {},
     "output_type": "execute_result"
    }
   ],
   "source": [
    "resp.content"
   ]
  },
  {
   "cell_type": "code",
   "execution_count": 35,
   "metadata": {},
   "outputs": [],
   "source": [
    "import xmltodict"
   ]
  },
  {
   "cell_type": "code",
   "execution_count": 37,
   "metadata": {},
   "outputs": [],
   "source": [
    "dict1 = xmltodict.parse(resp.content)"
   ]
  },
  {
   "cell_type": "code",
   "execution_count": 40,
   "metadata": {},
   "outputs": [
    {
     "data": {
      "text/plain": [
       "OrderedDict([('item',\n",
       "              [OrderedDict([('dataTime', '2019-06-10 17:00'),\n",
       "                            ('mangName', '도시대기'),\n",
       "                            ('so2Value', '0.004'),\n",
       "                            ('coValue', '0.2'),\n",
       "                            ('o3Value', '0.024'),\n",
       "                            ('no2Value', '0.013'),\n",
       "                            ('pm10Value', '9'),\n",
       "                            ('pm10Value24', '7'),\n",
       "                            ('pm25Value', '3'),\n",
       "                            ('pm25Value24', '3'),\n",
       "                            ('khaiValue', '40'),\n",
       "                            ('khaiGrade', '1'),\n",
       "                            ('so2Grade', '1'),\n",
       "                            ('coGrade', '1'),\n",
       "                            ('o3Grade', '1'),\n",
       "                            ('no2Grade', '1'),\n",
       "                            ('pm10Grade', '1'),\n",
       "                            ('pm25Grade', '1'),\n",
       "                            ('pm10Grade1h', '1'),\n",
       "                            ('pm25Grade1h', '1')]),\n",
       "               OrderedDict([('dataTime', '2019-06-10 16:00'),\n",
       "                            ('mangName', '도시대기'),\n",
       "                            ('so2Value', '0.004'),\n",
       "                            ('coValue', '0.2'),\n",
       "                            ('o3Value', '0.020'),\n",
       "                            ('no2Value', '0.015'),\n",
       "                            ('pm10Value', '7'),\n",
       "                            ('pm10Value24', '7'),\n",
       "                            ('pm25Value', '3'),\n",
       "                            ('pm25Value24', '3'),\n",
       "                            ('khaiValue', '33'),\n",
       "                            ('khaiGrade', '1'),\n",
       "                            ('so2Grade', '1'),\n",
       "                            ('coGrade', '1'),\n",
       "                            ('o3Grade', '1'),\n",
       "                            ('no2Grade', '1'),\n",
       "                            ('pm10Grade', '1'),\n",
       "                            ('pm25Grade', '1'),\n",
       "                            ('pm10Grade1h', '1'),\n",
       "                            ('pm25Grade1h', '1')]),\n",
       "               OrderedDict([('dataTime', '2019-06-10 15:00'),\n",
       "                            ('mangName', '도시대기'),\n",
       "                            ('so2Value', '0.005'),\n",
       "                            ('coValue', '0.3'),\n",
       "                            ('o3Value', '0.024'),\n",
       "                            ('no2Value', '0.013'),\n",
       "                            ('pm10Value', '7'),\n",
       "                            ('pm10Value24', '7'),\n",
       "                            ('pm25Value', '3'),\n",
       "                            ('pm25Value24', '3'),\n",
       "                            ('khaiValue', '40'),\n",
       "                            ('khaiGrade', '1'),\n",
       "                            ('so2Grade', '1'),\n",
       "                            ('coGrade', '1'),\n",
       "                            ('o3Grade', '1'),\n",
       "                            ('no2Grade', '1'),\n",
       "                            ('pm10Grade', '1'),\n",
       "                            ('pm25Grade', '1'),\n",
       "                            ('pm10Grade1h', '1'),\n",
       "                            ('pm25Grade1h', '1')]),\n",
       "               OrderedDict([('dataTime', '2019-06-10 14:00'),\n",
       "                            ('mangName', '도시대기'),\n",
       "                            ('so2Value', '0.004'),\n",
       "                            ('coValue', '0.2'),\n",
       "                            ('o3Value', '0.023'),\n",
       "                            ('no2Value', '0.012'),\n",
       "                            ('pm10Value', '7'),\n",
       "                            ('pm10Value24', '7'),\n",
       "                            ('pm25Value', '3'),\n",
       "                            ('pm25Value24', '3'),\n",
       "                            ('khaiValue', '38'),\n",
       "                            ('khaiGrade', '1'),\n",
       "                            ('so2Grade', '1'),\n",
       "                            ('coGrade', '1'),\n",
       "                            ('o3Grade', '1'),\n",
       "                            ('no2Grade', '1'),\n",
       "                            ('pm10Grade', '1'),\n",
       "                            ('pm25Grade', '1'),\n",
       "                            ('pm10Grade1h', '1'),\n",
       "                            ('pm25Grade1h', '1')]),\n",
       "               OrderedDict([('dataTime', '2019-06-10 13:00'),\n",
       "                            ('mangName', '도시대기'),\n",
       "                            ('so2Value', '0.005'),\n",
       "                            ('coValue', '0.2'),\n",
       "                            ('o3Value', '0.023'),\n",
       "                            ('no2Value', '0.013'),\n",
       "                            ('pm10Value', '-'),\n",
       "                            ('pm10Value24', '7'),\n",
       "                            ('pm25Value', '2'),\n",
       "                            ('pm25Value24', '3'),\n",
       "                            ('khaiValue', '38'),\n",
       "                            ('khaiGrade', '1'),\n",
       "                            ('so2Grade', '1'),\n",
       "                            ('coGrade', '1'),\n",
       "                            ('o3Grade', '1'),\n",
       "                            ('no2Grade', '1'),\n",
       "                            ('pm10Grade', '1'),\n",
       "                            ('pm25Grade', '1'),\n",
       "                            ('pm10Grade1h', None),\n",
       "                            ('pm25Grade1h', '1')]),\n",
       "               OrderedDict([('dataTime', '2019-06-10 12:00'),\n",
       "                            ('mangName', '도시대기'),\n",
       "                            ('so2Value', '0.005'),\n",
       "                            ('coValue', '0.2'),\n",
       "                            ('o3Value', '0.019'),\n",
       "                            ('no2Value', '0.014'),\n",
       "                            ('pm10Value', '7'),\n",
       "                            ('pm10Value24', '8'),\n",
       "                            ('pm25Value', '3'),\n",
       "                            ('pm25Value24', '4'),\n",
       "                            ('khaiValue', '32'),\n",
       "                            ('khaiGrade', '1'),\n",
       "                            ('so2Grade', '1'),\n",
       "                            ('coGrade', '1'),\n",
       "                            ('o3Grade', '1'),\n",
       "                            ('no2Grade', '1'),\n",
       "                            ('pm10Grade', '1'),\n",
       "                            ('pm25Grade', '1'),\n",
       "                            ('pm10Grade1h', '1'),\n",
       "                            ('pm25Grade1h', '1')]),\n",
       "               OrderedDict([('dataTime', '2019-06-10 11:00'),\n",
       "                            ('mangName', '도시대기'),\n",
       "                            ('so2Value', '0.004'),\n",
       "                            ('coValue', '0.2'),\n",
       "                            ('o3Value', '0.016'),\n",
       "                            ('no2Value', '0.015'),\n",
       "                            ('pm10Value', '6'),\n",
       "                            ('pm10Value24', '8'),\n",
       "                            ('pm25Value', '2'),\n",
       "                            ('pm25Value24', '4'),\n",
       "                            ('khaiValue', '27'),\n",
       "                            ('khaiGrade', '1'),\n",
       "                            ('so2Grade', '1'),\n",
       "                            ('coGrade', '1'),\n",
       "                            ('o3Grade', '1'),\n",
       "                            ('no2Grade', '1'),\n",
       "                            ('pm10Grade', '1'),\n",
       "                            ('pm25Grade', '1'),\n",
       "                            ('pm10Grade1h', '1'),\n",
       "                            ('pm25Grade1h', '1')]),\n",
       "               OrderedDict([('dataTime', '2019-06-10 10:00'),\n",
       "                            ('mangName', '도시대기'),\n",
       "                            ('so2Value', '0.004'),\n",
       "                            ('coValue', '0.3'),\n",
       "                            ('o3Value', '0.015'),\n",
       "                            ('no2Value', '0.016'),\n",
       "                            ('pm10Value', '7'),\n",
       "                            ('pm10Value24', '8'),\n",
       "                            ('pm25Value', '3'),\n",
       "                            ('pm25Value24', '4'),\n",
       "                            ('khaiValue', '27'),\n",
       "                            ('khaiGrade', '1'),\n",
       "                            ('so2Grade', '1'),\n",
       "                            ('coGrade', '1'),\n",
       "                            ('o3Grade', '1'),\n",
       "                            ('no2Grade', '1'),\n",
       "                            ('pm10Grade', '1'),\n",
       "                            ('pm25Grade', '1'),\n",
       "                            ('pm10Grade1h', '1'),\n",
       "                            ('pm25Grade1h', '1')]),\n",
       "               OrderedDict([('dataTime', '2019-06-10 09:00'),\n",
       "                            ('mangName', '도시대기'),\n",
       "                            ('so2Value', '0.004'),\n",
       "                            ('coValue', '0.3'),\n",
       "                            ('o3Value', '0.010'),\n",
       "                            ('no2Value', '0.019'),\n",
       "                            ('pm10Value', '9'),\n",
       "                            ('pm10Value24', '9'),\n",
       "                            ('pm25Value', '4'),\n",
       "                            ('pm25Value24', '5'),\n",
       "                            ('khaiValue', '32'),\n",
       "                            ('khaiGrade', '1'),\n",
       "                            ('so2Grade', '1'),\n",
       "                            ('coGrade', '1'),\n",
       "                            ('o3Grade', '1'),\n",
       "                            ('no2Grade', '1'),\n",
       "                            ('pm10Grade', '1'),\n",
       "                            ('pm25Grade', '1'),\n",
       "                            ('pm10Grade1h', '1'),\n",
       "                            ('pm25Grade1h', '1')]),\n",
       "               OrderedDict([('dataTime', '2019-06-10 08:00'),\n",
       "                            ('mangName', '도시대기'),\n",
       "                            ('so2Value', '0.003'),\n",
       "                            ('coValue', '0.3'),\n",
       "                            ('o3Value', '0.012'),\n",
       "                            ('no2Value', '0.020'),\n",
       "                            ('pm10Value', '7'),\n",
       "                            ('pm10Value24', '9'),\n",
       "                            ('pm25Value', '3'),\n",
       "                            ('pm25Value24', '5'),\n",
       "                            ('khaiValue', '33'),\n",
       "                            ('khaiGrade', '1'),\n",
       "                            ('so2Grade', '1'),\n",
       "                            ('coGrade', '1'),\n",
       "                            ('o3Grade', '1'),\n",
       "                            ('no2Grade', '1'),\n",
       "                            ('pm10Grade', '1'),\n",
       "                            ('pm25Grade', '1'),\n",
       "                            ('pm10Grade1h', '1'),\n",
       "                            ('pm25Grade1h', '1')])])])"
      ]
     },
     "execution_count": 40,
     "metadata": {},
     "output_type": "execute_result"
    }
   ],
   "source": [
    "dict1['response']['body']['items']"
   ]
  },
  {
   "cell_type": "markdown",
   "metadata": {},
   "source": [
    "# 2. REST API로 글 쓰기"
   ]
  },
  {
   "cell_type": "markdown",
   "metadata": {},
   "source": [
    "### 네이버 로그인 하기"
   ]
  },
  {
   "cell_type": "code",
   "execution_count": 87,
   "metadata": {},
   "outputs": [],
   "source": [
    "url=\"https://nid.naver.com/oauth2.0/authorize\"\n",
    "state_token = 200\n",
    "client_id = '3EL0G1Oa3zfsRJ9chF9E'\n",
    "client_secret = '38VPm_gbT3'\n",
    "redirect_uri = 'http://127.0.0.1:8080'\n",
    "\n",
    "params ={\n",
    "    'client_id': client_id,\n",
    "    'response_type': 'code',\n",
    "    'redirect_uri': redirect_uri,\n",
    "    'state': state_token\n",
    "}"
   ]
  },
  {
   "cell_type": "code",
   "execution_count": 88,
   "metadata": {},
   "outputs": [],
   "source": [
    "import requests"
   ]
  },
  {
   "cell_type": "code",
   "execution_count": 89,
   "metadata": {},
   "outputs": [],
   "source": [
    "resp = requests.get(url, params)"
   ]
  },
  {
   "cell_type": "code",
   "execution_count": 90,
   "metadata": {},
   "outputs": [
    {
     "data": {
      "text/plain": [
       "b'<!DOCTYPE html>\\n<html lang=\"ko\">\\n<head>\\n\\t<meta charset=\"UTF-8\">\\n\\t<meta http-equiv=\"X-UA-Compatible\" content=\"IE=edge\">\\n\\t<meta name=\"viewport\" content=\"width=device-width, initial-scale=1.0, maximum-scale=1.0, minimum-scale=1.0, user-scalable=no\">\\n\\t<title>\\xeb\\x84\\xa4\\xec\\x9d\\xb4\\xeb\\xb2\\x84 : \\xeb\\xa1\\x9c\\xea\\xb7\\xb8\\xec\\x9d\\xb8</title>\\n\\t<link rel=\"stylesheet\" type=\"text/css\" href=\"/login/css/global/desktop/w_20190509.css?dt=20190509\">\\n</head>\\n<body class=\"popup \">\\n\\n<div id=\"wrap\">\\n    <div id=\"u_skip\">\\n        <a href=\"#content\" onclick=\"document.getElementById(\\'content\\').tabIndex=-1;document.getElementById(\\'content\\').focus();return false;\"><span>\\xeb\\xb3\\xb8\\xeb\\xac\\xb8\\xec\\x9c\\xbc\\xeb\\xa1\\x9c \\xeb\\xb0\\x94\\xeb\\xa1\\x9c\\xea\\xb0\\x80\\xea\\xb8\\xb0</span></a>\\n    </div>\\n\\t<!-- header -->\\n\\t<div id=\"header\">\\n\\t\\t<h1><a href=\"http://www.naver.com\" class=\"sp h_logo\" onclick=\"nclks(\\'log.naver\\',this,event)\"><span class=\"blind\">NAVER</span></a></h1>\\n\\t\\t<div class=\"lang\">\\n\\t\\t\\t<select id=\"locale_switch\" name=\"locale_switch\" title=\"\\xec\\x96\\xb8\\xec\\x96\\xb4\\xec\\x84\\xa0\\xed\\x83\\x9d\" class=\"sel\" onchange=\"switchlocale();nclks_select(this.value,\\'\\',{\\'ko_KR\\':\\'log.lankr\\',\\'en_US\\':\\'log.lanen\\',\\'zh-Hans_CN\\':\\'log.lancn\\',\\'zh-Hant_TW\\':\\'log.lantw\\'},this,event);\">\\n\\t\\t\\t\\t<option value=\"ko_KR\" >\\xed\\x95\\x9c\\xea\\xb5\\xad\\xec\\x96\\xb4</option>\\n\\t\\t\\t\\t<option value=\"en_US\" >English</option>\\n\\t\\t\\t\\t<option value=\"zh-Hans_CN\" >\\xe4\\xb8\\xad\\xe6\\x96\\x87(\\xe7\\xae\\x80\\xe4\\xbd\\x93)</option>\\n\\t\\t\\t\\t<option value=\"zh-Hant_TW\" >\\xe4\\xb8\\xad\\xe6\\x96\\x87(\\xe5\\x8f\\xb0\\xe7\\x81\\xa3)</option>\\n\\t\\t\\t</select>\\n\\t\\t</div>\\n\\t</div>\\n\\t<!-- //header -->\\n\\t<!-- container -->\\n\\t<div id=\"container\">\\n\\t\\t<!-- content -->\\n\\t\\t<div id=\"content\">\\n\\t\\t\\t<div class=\"title\">\\n\\t\\t\\t\\t<p>\\xeb\\x84\\xa4\\xec\\x9d\\xb4\\xeb\\xb2\\x84 \\xeb\\xa1\\x9c\\xea\\xb7\\xb8\\xec\\x9d\\xb8\\xec\\x9c\\xbc\\xeb\\xa1\\x9c <em class=\"sevice\">\\xea\\xb5\\x90\\xec\\x9c\\xa1\\xec\\x9a\\xa9</em> \\xec\\x84\\x9c\\xeb\\xb9\\x84\\xec\\x8a\\xa4\\xeb\\xa5\\xbc \\xec\\x9d\\xb4\\xec\\x9a\\xa9\\xed\\x95\\x98\\xec\\x8b\\xa4 \\xec\\x88\\x98 \\xec\\x9e\\x88\\xec\\x8a\\xb5\\xeb\\x8b\\x88\\xeb\\x8b\\xa4.</p>\\n\\t\\t\\t</div>\\n\\t\\t\\t<form id=\"frmNIDLogin\" name=\"frmNIDLogin\" target=\"_top\" AUTOCOMPLETE=\"off\" action=\"https://nid.naver.com/nidlogin.login\" method=\"POST\" onsubmit=\"return confirmSplitSubmit();\">\\n\\t\\t\\t<input type=\"hidden\" id=\"localechange\" name=\"localechange\" value=\"\">\\n\\t\\t\\t\\t<input type=\"hidden\" name=\"logintp\" id=\"logintp\" value=\"oauth2\">\\n<input type=\"hidden\" name=\"encpw\" id=\"encpw\" value=\"\">\\n<input type=\"hidden\" name=\"enctp\" id=\"enctp\" value=\"1\">\\n<input type=\"hidden\" name=\"svctype\" id=\"svctype\" value=\"64\">\\n<input type=\"hidden\" name=\"smart_LEVEL\" id=\"smart_LEVEL\" value=\"1\">\\n<input type=\"hidden\" name=\"bvsd\" id=\"bvsd\" value=\"\">\\n<input type=\"hidden\" name=\"encnm\" id=\"encnm\" value=\"\">\\n<input type=\"hidden\" name=\"locale\" id=\"locale\" value=\"ko_KR\">\\n<input type=\"hidden\" name=\"client_id\" id=\"client_id\" value=\"3EL0G1Oa3zfsRJ9chF9E\">\\n<input type=\"hidden\" name=\"url\" id=\"url\" value=\"https://nid.naver.com/oauth2.0/authorize?response_type=code&state=200&client_id=3EL0G1Oa3zfsRJ9chF9E&redirect_uri=http%3A%2F%2F127.0.0.1%3A8080&locale=ko_KR&inapp_view=&oauth_os=\">\\n\\n\\t\\t\\t\\t<fieldset class=\"login_form\">\\n\\t\\t\\t\\t\\t<legend class=\"blind\">\\xeb\\xa1\\x9c\\xea\\xb7\\xb8\\xec\\x9d\\xb8</legend>\\n\\t\\t\\t\\t\\t<div class=\"id_area\">\\n\\t\\t\\t\\t\\t\\t<div class=\"input_row\" id=\"id_area\">\\n\\t\\t\\t\\t\\t\\t\\t<span class=\"input_box\">\\n\\t\\t\\t\\t\\t\\t\\t\\t<label for=\"id\" id=\"label_id_area\" class=\"lbl\">\\xec\\x95\\x84\\xec\\x9d\\xb4\\xeb\\x94\\x94</label>\\n\\t\\t\\t\\t\\t\\t\\t\\t<input type=\"text\" id=\"id\" name=\"id\" accesskey=\"L\" placeholder=\"\\xec\\x95\\x84\\xec\\x9d\\xb4\\xeb\\x94\\x94\" class=\"int\" maxlength=\"41\" value=\"\">\\n\\t\\t\\t\\t\\t\\t\\t</span>\\n\\t\\t\\t\\t\\t\\t\\t<button type=\"button\" disabled=\"\" title=\"delete\" id=\"id_clear\" class=\"wrg\">\\xec\\x82\\xad\\xec\\xa0\\x9c</button>\\n\\t\\t\\t\\t\\t\\t</div>\\n\\t\\t\\t\\t\\t\\t<div class=\"error\" id=\"err_empty_id\" style=\"display:none\" aria-live=\"assertive\"></div>\\n\\t\\t\\t\\t\\t</div>\\n\\t\\t\\t\\t\\t<div class=\"pw_area\">\\n\\t\\t\\t\\t\\t\\t<div class=\"input_row\" id=\"pw_area\">\\n\\t\\t\\t\\t\\t\\t\\t<span class=\"input_box\">\\n\\t\\t\\t\\t\\t\\t\\t\\t<label for=\"pw\" id=\"label_pw_area\"  class=\"lbl\">\\xeb\\xb9\\x84\\xeb\\xb0\\x80\\xeb\\xb2\\x88\\xed\\x98\\xb8</label>\\n\\t\\t\\t\\t\\t\\t\\t\\t<input type=\"password\" id=\"pw\" name=\"pw\" placeholder=\"\\xeb\\xb9\\x84\\xeb\\xb0\\x80\\xeb\\xb2\\x88\\xed\\x98\\xb8\" class=\"int\" maxlength=\"16\" onkeypress=\"capslockevt(event);getKeysv2();\" onkeyup=\"checkShiftUp(event);\" onkeydown=\"checkShiftDown(event);\">\\n\\t\\t\\t\\t\\t\\t\\t</span>\\n\\t\\t\\t\\t\\t\\t\\t<button type=\"button\" disabled=\"\" title=\"delete\" id=\"pw_clear\" class=\"wrg\">\\xec\\x82\\xad\\xec\\xa0\\x9c</button>\\n\\t\\t\\t\\t\\t\\t\\t<div class=\"ly_v2\" id=\"err_capslock\" style=\"display:none;\">\\n\\t\\t\\t\\t\\t\\t\\t\\t<div class=\"ly_box\">\\n\\t\\t\\t\\t\\t\\t\\t\\t\\t<p><strong>Caps Lock</strong>\\xec\\x9d\\xb4 \\xec\\xbc\\x9c\\xec\\xa0\\xb8 \\xec\\x9e\\x88\\xec\\x8a\\xb5\\xeb\\x8b\\x88\\xeb\\x8b\\xa4.</p>\\n\\t\\t\\t\\t\\t\\t\\t\\t</div>\\n\\t\\t\\t\\t\\t\\t\\t\\t<span class=\"sp ly_point\"></span>\\n\\t\\t\\t\\t\\t\\t\\t</div>\\n\\t\\t\\t\\t\\t\\t</div>\\n\\t\\t\\t\\t\\t\\t<div class=\"error\" id=\"err_empty_pw\" style=\"display:none\" aria-live=\"assertive\"></div>\\n\\t\\t\\t\\t\\t</div>\\n\\t\\t\\t\\t\\t<input type=\"submit\" title=\"\\xeb\\xa1\\x9c\\xea\\xb7\\xb8\\xec\\x9d\\xb8\" alt=\"\\xeb\\xa1\\x9c\\xea\\xb7\\xb8\\xec\\x9d\\xb8\" value=\"\\xeb\\xa1\\x9c\\xea\\xb7\\xb8\\xec\\x9d\\xb8\" class=\"btn_global\" onclick=\"nclks(\\'log.login\\',this,event)\">\\n\\t\\t\\t\\t\\t<div class=\"check_info\">\\n\\t\\t\\t\\t\\t\\t<div class=\"login_check\">\\n\\t\\t\\t\\t\\t\\t\\t<span class=\"login_check_box\">\\n\\t\\t\\t\\t\\t\\t\\t\\t<input type=\"checkbox\" id=\"login_chk\" name=\"nvlong\" class=\"\"  value=\"off\" onchange=\"savedLong(this);nclks_chk(\\'login_chk\\', \\'log.keepon\\', \\'log.keepoff\\',this,event)\" />\\n\\t\\t\\t\\t\\t\\t\\t\\t<label for=\"login_chk\" id=\"label_login_chk\" class=\"sp \">\\xeb\\xa1\\x9c\\xea\\xb7\\xb8\\xec\\x9d\\xb8 \\xec\\x83\\x81\\xed\\x83\\x9c \\xec\\x9c\\xa0\\xec\\xa7\\x80</label>\\n\\t\\t\\t\\t\\t\\t\\t</span>\\n\\t\\t\\t\\t\\t\\t\\t<div class=\"ly_v2\" id=\"persist_usage\"  style=\"display:none;\">\\n\\t\\t\\t\\t\\t\\t\\t\\t<div class=\"ly_box\">\\n\\t\\t\\t\\t\\t\\t\\t\\t\\t<p>\\xea\\xb0\\x9c\\xec\\x9d\\xb8\\xec\\xa0\\x95\\xeb\\xb3\\xb4 \\xeb\\xb3\\xb4\\xed\\x98\\xb8\\xeb\\xa5\\xbc \\xec\\x9c\\x84\\xed\\x95\\xb4 <strong>\\xea\\xb0\\x9c\\xec\\x9d\\xb8 PC\\xec\\x97\\x90\\xec\\x84\\x9c\\xeb\\xa7\\x8c \\xec\\x82\\xac\\xec\\x9a\\xa9\\xed\\x95\\x98\\xec\\x84\\xb8\\xec\\x9a\\x94.</strong>&nbsp;&nbsp; &nbsp;&nbsp;<a href=\"https://help.naver.com/support/contents/contents.nhn?serviceNo=532&categoryNo=1523\" target=\"_blank\" class=\"sp btn_check_help\">\\xeb\\x8f\\x84\\xec\\x9b\\x80\\xeb\\xa7\\x90\\xeb\\xb3\\xb4\\xea\\xb8\\xb0</a></p>\\n\\t\\t\\t\\t\\t\\t\\t\\t</div>\\n\\t\\t\\t\\t\\t\\t\\t\\t<span class=\"sp ly_point\"></span>\\n\\t\\t\\t\\t\\t\\t\\t</div>\\n\\t\\t\\t\\t\\t\\t</div>\\n\\t\\t\\t\\t\\t\\t<div class=\"pc_check\">\\n\\t\\t\\t\\t\\t\\t\\t<span class=\"ip_check\">\\n\\t\\t\\t\\t\\t\\t\\t\\t<a href=\"/login/ext/help_ip3.html\" target=\"_blank\" onclick=\"window.open(this.href, \\'IPGUIDE\\', \\'titlebar=1, resizable=1, scrollbars=yes, width=537, height=750\\'); return false;\" title=\"\" >IP\\xeb\\xb3\\xb4\\xec\\x95\\x88</a>\\n\\t\\t\\t\\t\\t\\t\\t\\t<span class=\"ip_ch\">\\n\\t\\t\\t\\t\\t\\t\\t\\t\\t<input type=\"checkbox\" id=\"ip_on\" value=\"off\" onchange=\"ipCheck(this,event);nclks_chk(\\'ip_on\\', \\'log.iponset\\', \\'log.ipoffset\\',this,event)\" class=\"\"/>\\n\\t\\t\\t\\t\\t\\t\\t\\t\\t<label for=\"ip_on\" id=\"label_ip_on\" class=\"sp \"><span class=\"blind\">on</span></label>\\n\\t\\t\\t\\t\\t\\t\\t\\t</span>\\n\\t\\t\\t\\t\\t\\t\\t</span>\\n\\t\\t\\t\\t\\t\\t\\t<span class=\"bar\">|</span>\\n\\t\\t\\t\\t\\t\\t\\t<div class=\"dis_di\">\\n\\t\\t\\t\\t\\t\\t\\t\\t<a href=\"#\" onclick=\"onetime(); nclks(\\'log.otn\\',this,event); return false;\" title=\"\\xec\\x9d\\xbc\\xed\\x9a\\x8c\\xec\\x9a\\xa9 \\xeb\\xa1\\x9c\\xea\\xb7\\xb8\\xec\\x9d\\xb8\">\\xec\\x9d\\xbc\\xed\\x9a\\x8c\\xec\\x9a\\xa9 \\xeb\\xa1\\x9c\\xea\\xb7\\xb8\\xec\\x9d\\xb8</a><a href=\"javascript:viewOnetime();\" onclick=\"nclks(\\'log.otnhelp\\',this,event)\" title=\"\\xeb\\x8f\\x84\\xec\\x9b\\x80\\xeb\\xa7\\x90\" class=\"btn_help_cover\"><span class=\"sp btn_help\"></span><span class=\"blind\">\\xeb\\x8f\\x84\\xec\\x9b\\x80\\xeb\\xa7\\x90</span></a>\\n\\t\\t\\t\\t\\t\\t\\t\\t<div class=\"ly\" id=\"onetime_usage\" style=\"display:none;\" onclick=\"javascript:viewOnetime()\">\\n\\t\\t\\t\\t\\t\\t\\t\\t\\t<div class=\"ly_box\">\\n\\t\\t\\t\\t\\t\\t\\t\\t\\t\\t<p>\\xeb\\x84\\xa4\\xec\\x9d\\xb4\\xeb\\xb2\\x84\\xec\\x95\\xb1\\xec\\x97\\x90\\xec\\x84\\x9c \\xec\\x83\\x9d\\xec\\x84\\xb1\\xeb\\x90\\x9c \\xec\\x9d\\xbc\\xed\\x9a\\x8c\\xec\\x9a\\xa9 \\xeb\\xa1\\x9c\\xea\\xb7\\xb8\\xec\\x9d\\xb8 \\xeb\\xb2\\x88\\xed\\x98\\xb8\\xeb\\xa5\\xbc \\xec\\x9e\\x85\\xeb\\xa0\\xa5\\xed\\x95\\x98\\xeb\\xa9\\xb4, \\xec\\x95\\xb1\\xec\\x97\\x90 \\xeb\\xa1\\x9c\\xea\\xb7\\xb8\\xec\\x9d\\xb8\\xeb\\x90\\x9c \\xea\\xb3\\x84\\xec\\xa0\\x95\\xec\\x9c\\xbc\\xeb\\xa1\\x9c PC\\xec\\x97\\x90\\xec\\x84\\x9c \\xeb\\xa1\\x9c\\xea\\xb7\\xb8\\xec\\x9d\\xb8\\xed\\x95\\xa0 \\xec\\x88\\x98 \\xec\\x9e\\x88\\xec\\x96\\xb4\\xec\\x9a\\x94. \\xec\\x95\\x84\\xec\\x9d\\xb4\\xeb\\x94\\x94/\\xeb\\xb9\\x84\\xeb\\xb0\\x80\\xeb\\xb2\\x88\\xed\\x98\\xb8\\xeb\\xa5\\xbc \\xec\\x9e\\x85\\xeb\\xa0\\xa5\\xed\\x95\\x98\\xec\\xa7\\x80 \\xec\\x95\\x8a\\xec\\x95\\x84 \\xea\\xb0\\x84\\xed\\x8e\\xb8\\xed\\x95\\x98\\xea\\xb3\\xa0 \\xeb\\x8d\\x94\\xec\\x9a\\xb1 \\xec\\x95\\x88\\xec\\xa0\\x84\\xed\\x95\\xa9\\xeb\\x8b\\x88\\xeb\\x8b\\xa4.</p>\\n\\t\\t\\t\\t\\t\\t\\t\\t\\t</div>\\n\\t\\t\\t\\t\\t\\t\\t\\t\\t<span class=\"sp ly_point\"></span>\\n\\t\\t\\t\\t\\t\\t\\t\\t</div>\\n\\t\\t\\t\\t\\t\\t\\t</div>\\n\\t\\t\\t\\t\\t\\t</div>\\n\\t\\t\\t\\t\\t</div>\\n\\t\\t\\t\\t</fieldset>\\n\\t\\t\\t</form>\\n\\t\\t\\t<div class=\"position_a\">\\n\\t\\t\\t\\t<div class=\"find_info\">\\n\\t\\t\\t\\t\\t<a target=\"_blank\" id=\"idinquiry\" href=\"https://nid.naver.com/user/help.nhn?todo=idinquiry\">\\xec\\x95\\x84\\xec\\x9d\\xb4\\xeb\\x94\\x94 \\xec\\xb0\\xbe\\xea\\xb8\\xb0</a> <span class=\"bar\" aria-hidden=\"true\">|</span> <a target=\"_blank\" id=\"pwinquiry\" href=\"https://nid.naver.com/nidreminder.form\">\\xeb\\xb9\\x84\\xeb\\xb0\\x80\\xeb\\xb2\\x88\\xed\\x98\\xb8 \\xec\\xb0\\xbe\\xea\\xb8\\xb0</a> <span class=\"bar\" aria-hidden=\"true\">|</span> <a target=\"_blank\" id=\"join\" href=\"https://nid.naver.com/user/join.html?lang=ko_KR\">\\xed\\x9a\\x8c\\xec\\x9b\\x90\\xea\\xb0\\x80\\xec\\x9e\\x85</a>\\n\\t\\t\\t\\t</div>\\n\\t\\t\\t</div>\\n\\t\\t\\t<div class=\"phishing_banner toolbar\" style=\"cursor:pointer;\" onClick=\"window.open(\\'https://tools.naver.com/service/toolbar/index.nhn\\',\\'_newtab\\');\">\\n\\t\\t\\t\\t<div class=\"sp\">\\n\\t\\t\\t\\t\\t<span class=\"blind\">\\n\\t\\t\\t\\t\\t\\t<strong>\\xec\\xa3\\xbc\\xec\\x86\\x8c\\xec\\xb0\\xbd\\xec\\x9d\\x98 URL\\xea\\xb3\\xbc \\xec\\x9e\\x90\\xeb\\xac\\xbc\\xec\\x87\\xa0\\xeb\\xa5\\xbc \\xed\\x99\\x95\\xec\\x9d\\xb8\\xed\\x95\\x98\\xec\\x84\\xb8\\xec\\x9a\\x94?</strong>\\n\\t\\t\\t\\t\\t\\t\\xec\\x9e\\x90\\xeb\\xac\\xbc\\xec\\x87\\xa0\\xea\\xb0\\x80 \\xec\\x97\\x86\\xec\\x9c\\xbc\\xeb\\xa9\\xb4 \\xeb\\x84\\xa4\\xec\\x9d\\xb4\\xeb\\xb2\\x84 \\xeb\\xa1\\x9c\\xea\\xb7\\xb8\\xec\\x9d\\xb8 \\xed\\x8e\\x98\\xec\\x9d\\xb4\\xec\\xa7\\x80\\xea\\xb0\\x80 \\xec\\x95\\x84\\xeb\\x8b\\x99\\xeb\\x8b\\x88\\xeb\\x8b\\xa4.\\n\\t\\t\\t\\t\\t\\t<em>\\xec\\xa3\\xbc\\xec\\x86\\x8c\\xed\\x91\\x9c\\xec\\x8b\\x9c\\xec\\xa4\\x84\\xec\\x9d\\x98 \\xec\\x9e\\x90\\xeb\\xac\\xbc\\xec\\x87\\xa0\\xec\\x99\\x80 URL</em>\\xec\\x9d\\x84 \\xed\\x99\\x95\\xec\\x9d\\xb8\\xed\\x95\\xb4 \\xec\\xa3\\xbc\\xec\\x84\\xb8\\xec\\x9a\\x94.\\n\\t\\t\\t\\t\\t</span>\\n\\t\\t\\t\\t</div>\\n\\t\\t\\t</div>\\n\\t\\t</div>\\n\\t\\t<!-- //content -->\\n\\t</div>\\n\\t<!-- //container -->\\n\\t<!-- footer -->\\n\\t<div id=\"footer\">\\n\\t\\t<ul>\\n\\t\\t<li><a target=\"_blank\" href=\"http://www.naver.com/rules/service.html\" onclick=\"nclks(\\'fot.agreement\\',this,event)\">\\xec\\x9d\\xb4\\xec\\x9a\\xa9\\xec\\x95\\xbd\\xea\\xb4\\x80</a></li>\\n\\t\\t<li><strong><a target=\"_blank\" href=\"http://www.naver.com/rules/privacy.html\" onclick=\"nclks(\\'fot.privacy\\',this,event)\">\\xea\\xb0\\x9c\\xec\\x9d\\xb8\\xec\\xa0\\x95\\xeb\\xb3\\xb4\\xec\\xb2\\x98\\xeb\\xa6\\xac\\xeb\\xb0\\xa9\\xec\\xb9\\xa8</a></strong></li>\\n\\t\\t<li><a target=\"_blank\" href=\"http://www.naver.com/rules/disclaimer.html\" onclick=\"nclks(\\'fot.disclaimer\\',this,event)\">\\xec\\xb1\\x85\\xec\\x9e\\x84\\xec\\x9d\\x98 \\xed\\x95\\x9c\\xea\\xb3\\x84\\xec\\x99\\x80 \\xeb\\xb2\\x95\\xec\\xa0\\x81\\xea\\xb3\\xa0\\xec\\xa7\\x80</a></li>\\n\\t\\t<li><a target=\"_blank\" href=\"https://help.naver.com/support/service/main.nhn?serviceNo=532\" onclick=\"nclks(\\'fot.help\\',this,event)\">\\xed\\x9a\\x8c\\xec\\x9b\\x90\\xec\\xa0\\x95\\xeb\\xb3\\xb4 \\xea\\xb3\\xa0\\xea\\xb0\\x9d\\xec\\x84\\xbc\\xed\\x84\\xb0</a></li>\\n\\t\\t</ul>\\n\\t\\t<address><em><a target=\"_blank\" href=\"http://www.navercorp.com\" class=\"logo\" onclick=\"nclks(\\'fot.naver\\',this,event)\"><span class=\"blind\">naver</span></a></em><em class=\"copy\">Copyright</em> <em class=\"u_cri\">&copy;</em> <a target=\"_blank\" href=\"http://www.navercorp.com\" class=\"u_cra\"  onclick=\"nclks(\\'fot.navercorp\\',this,event)\">NAVER Corp.</a> <span class=\"all_r\">All Rights Reserved.</span></address>\\t\\n\\t</div>\\n\\t<!-- //footer -->\\n</div>\\n<script type=\"text/javascript\" src=\"https://nid.naver.com/login/js/common.all.js?141216\"> </script>\\n\\n<script type=\"text/javascript\">\\nvar session_keys = \"\";\\nvar pc_keyboard_close=\"<span class=\\\\\"sp\\\\\">PC \\xed\\x82\\xa4\\xeb\\xb3\\xb4\\xeb\\x93\\x9c \\xeb\\x8b\\xab\\xea\\xb8\\xb0</span>\";\\nvar pc_keyboard_open=\"<span class=\\\\\"sp\\\\\">PC \\xed\\x82\\xa4\\xeb\\xb3\\xb4\\xeb\\x93\\x9c \\xeb\\xb3\\xb4\\xea\\xb8\\xb0</span>\";\\nvar view_char=\"\\xed\\x95\\x9c\\xea\\xb8\\x80 \\xeb\\xb3\\xb4\\xea\\xb8\\xb0\";\\nvar view_symbol=\"\\xed\\x8a\\xb9\\xec\\x88\\x98\\xea\\xb8\\xb0\\xed\\x98\\xb8 \\xeb\\xb3\\xb4\\xea\\xb8\\xb0\";\\n\\naddInputEvent(\\'id\\', \\'id_area\\');\\naddInputEvent(\\'pw\\', \\'pw_area\\');\\n\\ninitSmartLevel();\\nvar login_chk = $(\\'login_chk\\');\\nif(login_chk.attachEvent) {\\n\\tlogin_chk.attachEvent(\"onchange\", function(){persist_usage();});\\n} else if (login_chk.addEventListener) {\\n\\tlogin_chk.addEventListener(\"change\", function(){persist_usage();}, false);\\n}\\nfunction isOldIE()\\n{\\n\\ttry{\\n\\t\\tvar agent = window.navigator.userAgent;\\n\\t\\tif(agent.indexOf(\"MSIE 8\")!= -1 || agent.indexOf(\"MSIE 7\")!= -1 ) {\\n\\t\\t\\tlogin_chk.attachEvent(\"onclick\", function(){msieblur(login_chk);});\\n\\t\\t}\\n\\t\\tif(agent.indexOf(\"MSIE \")!= -1 || agent.indexOf(\"rv:11.0\")!= -1){\\n\\t\\t\\t$(\"locale_switch\").style.backgroundImage=\"none\";\\n\\t\\t}\\n\\t}catch(e) {}\\n}\\nisOldIE();\\nfunction persist_usage()\\n{\\n\\tvar login_chk = $(\"login_chk\");\\n\\tif (login_chk.checked==true)\\n\\t{\\n\\t\\tshow(\"persist_usage\");\\n\\t\\thide(\\'onetime_usage\\');\\n\\t\\tview_onetimeusage = false;\\n\\t}\\n\\telse\\n\\t{\\n\\t\\thide(\"persist_usage\");\\n\\t}\\n}\\nvar view_onetimeusage = false;\\nfunction viewOnetime()\\n{\\n\\tif (view_onetimeusage)\\n\\t{\\n\\t\\thide(\\'onetime_usage\\');\\n\\t\\tview_onetimeusage = false;\\n\\t}\\n\\telse\\n\\t{\\n\\t\\thide(\"persist_usage\");\\n\\t\\tshow(\\'onetime_usage\\');\\n\\t\\tview_onetimeusage = true;\\n\\t}\\n}\\ntry{\\n\\tif (navigator.appVersion.toLowerCase().indexOf(\"win\") != -1) {\\n\\t\\t$(\\'id\\').style.imeMode = \"disabled\";\\n\\t\\tdocument.msCapsLockWarningOff = true;\\n\\t}\\n}catch(e) {}\\ntry{\\n\\tif ( $(\\'id\\').value.length == 0 )\\n\\t{\\n\\t\\t$(\\'id\\').focus();\\n\\t}\\n\\telse\\n\\t{\\n\\t\\t$(\\'pw\\').focus();\\n\\t}\\n\\tresizePopup(500,650);\\n}catch (e){}\\nfunction selectItemByValue(elmnt, value){\\n\\tisSet = false;\\n\\tfor(var i=0; i < elmnt.options.length; i++)\\n\\t{\\n\\t\\tif(elmnt.options[i].value === value) {\\n\\t\\t\\telmnt.selectedIndex = i;\\n\\t\\t\\tisSet = true;\\n\\t\\t\\tbreak;\\n\\t\\t}\\n\\t}\\n\\tif (!isSet)\\n\\t\\telmnt.selectedIndex=1;\\n}\\ntry {\\nselectItemByValue(locale_switch, \\'ko_KR\\');\\n}catch (e){}\\nvar id_error_msg=\"\\xec\\x95\\x84\\xec\\x9d\\xb4\\xeb\\x94\\x94\\xeb\\xa5\\xbc \\xec\\x9e\\x85\\xeb\\xa0\\xa5\\xed\\x95\\xb4\\xec\\xa3\\xbc\\xec\\x84\\xb8\\xec\\x9a\\x94.\";\\nvar pw_error_msg=\"\\xeb\\xb9\\x84\\xeb\\xb0\\x80\\xeb\\xb2\\x88\\xed\\x98\\xb8\\xeb\\xa5\\xbc \\xec\\x9e\\x85\\xeb\\xa0\\xa5\\xed\\x95\\xb4\\xec\\xa3\\xbc\\xec\\x84\\xb8\\xec\\x9a\\x94.\";\\nvar inSubmitProgress = false;\\nfunction confirmSplitSubmit()\\n{\\n        if (inSubmitProgress) {\\n                return false;\\n        }\\n        inSubmitProgress = true;\\n        var id = $(\"id\");\\n        var pw = $(\"pw\");\\n        var encpw = $(\"encpw\");\\n        \\n        if(id.value == \"\") {\\n                show(\"err_empty_id\");\\n                $(\"err_empty_id\").innerHTML=id_error_msg;\\n                hide(\"err_empty_pw\");\\n                $(\"err_empty_pw\").innerHTML=\"\";\\n                hide(\"err_common_pw1\");\\n                hide(\"err_common\");\\n                id.focus();\\n                inSubmitProgress = false;\\n                return false;\\n        } else if(pw.value == \"\") {\\n                show(\"err_empty_pw\");\\n                $(\"err_empty_pw\").innerHTML=pw_error_msg;\\n                hide(\"err_empty_id\");\\n                $(\"err_empty_id\").innerHTML=\"\";\\n                hide(\"err_common_pw1\");\\n                hide(\"err_common\");\\n                pw.focus();\\n                inSubmitProgress = false;\\n                return false;\\n        }\\n        try{\\n                $(\"ls\").value = localStorage.getItem(\"nid_t\");\\n        }catch(e){}\\n        return encryptIdPwSplit();\\n}\\nfunction encryptIdPwSplit() {\\n        var id = $(\"id\");\\n        var pw = $(\"pw\");\\n        var encpw = $(\"encpw\");\\n        var rsa = new RSAKey;\\n\\n        if (keySplit(session_keys)) {\\n                rsa.setPublic(evalue, nvalue);\\n                try{\\n                        encpw.value = rsa.encrypt(\\n                                getLenChar(sessionkey) + sessionkey +\\n                                getLenChar(id.value) + id.value +\\n                                getLenChar(pw.value) + pw.value);\\n                } catch(e) {\\n                        inSubmitProgress = false;\\n                        return false;\\n                }\\n                $(\\'enctp\\').value = 1;\\n\\n                setTimeout(function() {\\n                        $(\"id\").value = \"\";\\n                        $(\"pw\").value = \"\";\\n                        $(\"bvsd\").value = \"timeout\";\\n                        $(\\'frmNIDLogin\\').submit();\\n                }, 5000);\\n                try {\\n                        if (bvsd){\\n                                bvsd.f(function(a) {\\n                                        $(\"id\").value = \"\";\\n                                        $(\"pw\").value = \"\";\\n                                        $(\"bvsd\").value = a;\\n                                        $(\\'frmNIDLogin\\').submit();\\n                                });\\n                        }\\n                } catch (e) {\\n                        $(\"id\").value = \"\";\\n                        $(\"pw\").value = \"\";\\n                        $(\"bvsd\").value = \"error1|\"+e.name+\"|\"+e.message;;\\n                        $(\\'frmNIDLogin\\').submit();\\n                }\\n        }\\n        else\\n        {\\n                getKeyByRuntimeIncludeSplit();\\n        }\\n        inSubmitProgress = false;\\n        return false;\\n}\\nfunction getKeyByRuntimeIncludeSplit() {\\n        try {\\n                var keyjs  = document.createElement(\\'script\\');\\n                keyjs.type = \\'text/javascript\\';\\n                keyjs.src = \\'/login/ext/keys_js3.nhn\\';\\n                document.getElementsByTagName(\\'head\\')[0].appendChild(keyjs);\\n        } catch (e) {\\n        }\\n}\\n</script>\\n<script type=\"text/javascript\" src=\"/login/js/bvsd.1.3.4.min.js\"></script>\\n<script type=\"text/javascript\">\\nvar porperties = {\\n\\tkeyboard: [{\\n\\t\\tid: \"id\"\\n\\t}, {\\n\\t\\tid: \"pw\",\\n\\t\\tsecureMode: true\\n\\t}],\\n\\tmodeProperties: {\\n\\t\\tmode: 4\\n\\t}\\n};\\nbvsd = new sofa.Koop(porperties);\\ntry{\\n\\tvar nid_buk = localStorage.getItem(\"nid_buk\");\\n\\tif (nid_buk!=null && nid_buk.length>0)\\n\\t{\\n\\t\\tvar today = new Date();\\n\\t\\tvar expire = new Date(today.getTime() + 60 * 60 * 24 * 3650 * 1000);\\n\\t\\tvar curCookie = \"nid_buk=\" + escape(nid_buk) + \"; expires=\" + expire.toGMTString() + \"; path=/; domain=.nid.naver.com; Secure;\";\\n\\t\\tdocument.cookie = curCookie;\\n\\t}\\n\\telse\\n\\t{\\n\\t\\tnid_nnb = getCookie(\\'NNB\\');\\n\\t\\tif (nid_nnb!=null && nid_nnb.length>0)\\n\\t\\t{\\n\\t\\t\\tlocalStorage.setItem(\"nid_buk\", nid_nnb);\\n\\t\\t\\tvar today = new Date();\\n\\t\\t\\tvar expire = new Date(today.getTime() + 60 * 60 * 24 * 3650 * 1000);\\n\\t\\t\\tvar curCookie = \"nid_buk=\" + escape(nid_nnb) + \"; expires=\" + expire.toGMTString() + \"; path=/; domain=.nid.naver.com; Secure;\";\\n\\t\\t\\tdocument.cookie = curCookie;\\n\\t\\t}\\n\\t}\\n}catch(e){}\\n</script>\\n<script type=\"text/javascript\" src=\"https://nid.naver.com/login/js/lcs_nclicks.js?dt=20190122\"></script>\\n<script type=\"text/javascript\"> \\nlcs_do(); \\nvar g_ssc = \"nid.login_kr\";\\nvar ccsrv = \"cc.naver.com\";\\n</script>\\n<div id=\"nv_stat\" style=\"display:none;\">20</div>\\n</body>\\n</html>\\n'"
      ]
     },
     "execution_count": 90,
     "metadata": {},
     "output_type": "execute_result"
    }
   ],
   "source": [
    "resp.content"
   ]
  },
  {
   "cell_type": "code",
   "execution_count": 91,
   "metadata": {},
   "outputs": [
    {
     "data": {
      "text/plain": [
       "'https://nid.naver.com/oauth2.0/authorize?client_id=3EL0G1Oa3zfsRJ9chF9E&response_type=code&redirect_uri=http%3A%2F%2F127.0.0.1%3A8080&state=200'"
      ]
     },
     "execution_count": 91,
     "metadata": {},
     "output_type": "execute_result"
    }
   ],
   "source": [
    "resp.url"
   ]
  },
  {
   "cell_type": "markdown",
   "metadata": {},
   "source": [
    "### 코드발급"
   ]
  },
  {
   "cell_type": "code",
   "execution_count": 92,
   "metadata": {},
   "outputs": [],
   "source": [
    "code = \"rx9EjtsC987c5B5SLb\""
   ]
  },
  {
   "cell_type": "markdown",
   "metadata": {},
   "source": [
    "### 접근토큰 발급"
   ]
  },
  {
   "cell_type": "code",
   "execution_count": 93,
   "metadata": {},
   "outputs": [],
   "source": [
    "url =\"https://nid.naver.com/oauth2.0/token\"\n",
    "\n",
    "params = {\n",
    "    'client_id': client_id,\n",
    "    'client_secret': client_secret,\n",
    "    'grant_type': 'authorization_code',\n",
    "    'state': state_token,\n",
    "    'code': code\n",
    "}\n",
    "\n"
   ]
  },
  {
   "cell_type": "code",
   "execution_count": 94,
   "metadata": {},
   "outputs": [],
   "source": [
    "resp = requests.get(url, params)"
   ]
  },
  {
   "cell_type": "code",
   "execution_count": 95,
   "metadata": {},
   "outputs": [
    {
     "data": {
      "text/plain": [
       "<Response [200]>"
      ]
     },
     "execution_count": 95,
     "metadata": {},
     "output_type": "execute_result"
    }
   ],
   "source": [
    "resp"
   ]
  },
  {
   "cell_type": "code",
   "execution_count": 96,
   "metadata": {},
   "outputs": [
    {
     "data": {
      "text/plain": [
       "'https://nid.naver.com/oauth2.0/token?client_id=3EL0G1Oa3zfsRJ9chF9E&client_secret=38VPm_gbT3&grant_type=authorization_code&state=200&code=rx9EjtsC987c5B5SLb'"
      ]
     },
     "execution_count": 96,
     "metadata": {},
     "output_type": "execute_result"
    }
   ],
   "source": [
    "resp.url"
   ]
  },
  {
   "cell_type": "code",
   "execution_count": 97,
   "metadata": {},
   "outputs": [
    {
     "data": {
      "text/plain": [
       "{'access_token': 'AAAAOpsL2HuoNma4w8tjMTyQOGz9Gh6AnA2t073IpIkfiu43Ukbk_R2hoZPtVCRL03gFDALi1N80Yd-pHrIJUbPNLxE',\n",
       " 'refresh_token': 'XcyKZM7iikrybzGbdewnCisGzMfY4l3jkZsXVLw1x8nyU6sZBAuwiijKlEQg2wJOjccbKfYbXSCENpQfAMPHnmVpDy3NJQSS4DM46K3Z0plZcqiiipOrRQ1t8STCK0MOV8X8a',\n",
       " 'token_type': 'bearer',\n",
       " 'expires_in': '3600'}"
      ]
     },
     "execution_count": 97,
     "metadata": {},
     "output_type": "execute_result"
    }
   ],
   "source": [
    "content = resp.json()\n",
    "content"
   ]
  },
  {
   "cell_type": "code",
   "execution_count": 98,
   "metadata": {},
   "outputs": [],
   "source": [
    "access_token = content['access_token']\n",
    "refresh_token = content['refresh_token']\n",
    "token_type = content['token_type']\n",
    "expires_in = content['expires_in']"
   ]
  },
  {
   "cell_type": "markdown",
   "metadata": {},
   "source": [
    "### 사용자 프로필 조회"
   ]
  },
  {
   "cell_type": "code",
   "execution_count": 99,
   "metadata": {},
   "outputs": [],
   "source": [
    "url = 'https://openapi.naver.com/v1/nid/me'\n",
    "headers = {\n",
    "    'Authorization': '{} {}'.format(token_type, access_token)\n",
    "}\n"
   ]
  },
  {
   "cell_type": "code",
   "execution_count": 100,
   "metadata": {},
   "outputs": [
    {
     "data": {
      "text/plain": [
       "<Response [200]>"
      ]
     },
     "execution_count": 100,
     "metadata": {},
     "output_type": "execute_result"
    }
   ],
   "source": [
    "resp = requests.get(url, headers=headers)\n",
    "resp"
   ]
  },
  {
   "cell_type": "code",
   "execution_count": 101,
   "metadata": {},
   "outputs": [
    {
     "data": {
      "text/plain": [
       "{'resultcode': '00',\n",
       " 'message': 'success',\n",
       " 'response': {'id': '158277012',\n",
       "  'gender': 'M',\n",
       "  'email': 'pierrelife@naver.com',\n",
       "  'name': '신윤수'}}"
      ]
     },
     "execution_count": 101,
     "metadata": {},
     "output_type": "execute_result"
    }
   ],
   "source": [
    "resp.json()"
   ]
  },
  {
   "cell_type": "markdown",
   "metadata": {},
   "source": [
    "### 블로그 글쓰기"
   ]
  },
  {
   "cell_type": "markdown",
   "metadata": {},
   "source": [
    "https://developers.naver.com/docs/blog/post/"
   ]
  },
  {
   "cell_type": "code",
   "execution_count": 102,
   "metadata": {},
   "outputs": [],
   "source": [
    "write_url = 'https://openapi.naver.com/blog/writePost.json'\n",
    "cgr_url = 'https://openapi.naver.com/blog/listCategory.json' # category url"
   ]
  },
  {
   "cell_type": "markdown",
   "metadata": {},
   "source": [
    "### 1. 카테고리 조회"
   ]
  },
  {
   "cell_type": "markdown",
   "metadata": {},
   "source": [
    "#### 네이버 예제 (https://developers.naver.com/docs/blog/post/)"
   ]
  },
  {
   "cell_type": "code",
   "execution_count": 103,
   "metadata": {},
   "outputs": [
    {
     "name": "stdout",
     "output_type": "stream",
     "text": [
      "{\"message\":{\r\n",
      "\t\"@type\":\"response\",\r\n",
      "\t\"@service\":\"korea.naverkoreaservice.community.blog\",\r\n",
      "\t\"@version\":\"1.0.0\",\r\n",
      "\t\"result\" : [{\"name\":\"게시판\",\"categoryNo\":1,\"isOpen\":true,\"subCategories\":[]}]\r\n",
      "\t}}\n"
     ]
    }
   ],
   "source": [
    "# 네이버 블로그 API예제는 블로그 카테고리 조회와 블로그 글쓰기 및 multipart 이미지 첨부 예제로 구성되어 있습니다.\n",
    "# 네이버 블로그 Open API 예제 - 카테고리조회\n",
    "import os\n",
    "import sys\n",
    "import urllib.request\n",
    "token = access_token\n",
    "header = '{} {}'.format(token_type, access_token) # Bearer 다음에 공백 추가\n",
    "url = cgr_url\n",
    "request = urllib.request.Request(url)\n",
    "request.add_header(\"Authorization\", header)\n",
    "\n",
    "\n",
    "response = urllib.request.urlopen(request)\n",
    "rescode = response.getcode()\n",
    "if(rescode==200):\n",
    "    response_body = response.read()\n",
    "    print(response_body.decode('utf-8'))\n",
    "else:\n",
    "    print(\"Error Code:\" + rescode)"
   ]
  },
  {
   "cell_type": "code",
   "execution_count": 120,
   "metadata": {},
   "outputs": [
    {
     "name": "stdout",
     "output_type": "stream",
     "text": [
      "{\"message\":{\r\n",
      "\t\"@type\":\"response\",\r\n",
      "\t\"@service\":\"korea.naverkoreaservice.community.blog\",\r\n",
      "\t\"@version\":\"1.0.0\",\r\n",
      "\t\"result\" : [{\"name\":\"게시판\",\"categoryNo\":1,\"isOpen\":true,\"subCategories\":[]}]\r\n",
      "\t}}\n"
     ]
    }
   ],
   "source": [
    "import requests\n",
    "\n",
    "header = '{} {}'.format(token_type, access_token)\n",
    "\n",
    "headers = {\n",
    "    'Authorization': header\n",
    "}\n",
    "\n",
    "resp = requests.get(cgr_url, headers=headers)\n",
    "print(resp.text)\n"
   ]
  },
  {
   "cell_type": "code",
   "execution_count": null,
   "metadata": {},
   "outputs": [],
   "source": []
  },
  {
   "cell_type": "code",
   "execution_count": null,
   "metadata": {},
   "outputs": [],
   "source": []
  },
  {
   "cell_type": "code",
   "execution_count": null,
   "metadata": {},
   "outputs": [],
   "source": []
  },
  {
   "cell_type": "markdown",
   "metadata": {},
   "source": [
    "## 글쓰기"
   ]
  },
  {
   "cell_type": "markdown",
   "metadata": {},
   "source": [
    "### 네이버 예제 \n"
   ]
  },
  {
   "cell_type": "code",
   "execution_count": 121,
   "metadata": {},
   "outputs": [
    {
     "name": "stdout",
     "output_type": "stream",
     "text": [
      "{'message': {'@type': 'response', '@service': 'korea.naverkoreaservice.community.blog', '@version': '1.0.0', 'result': {'blogId': 'pierrelife', 'logNo': 221559190667, 'postUrl': 'http://blog.naver.com/pierrelife/221559190667'}}}\n",
      "\n"
     ]
    }
   ],
   "source": [
    "# https://developers.naver.com/docs/blog/post/\n",
    "import os\n",
    "import sys\n",
    "import requests\n",
    "\n",
    "token = access_token\n",
    "header = '{} {}'.format(token_type, access_token) # Bearer 다음에 공백 추가\n",
    "url = write_url\n",
    "\n",
    "data = {\n",
    "    'title': '제목글',\n",
    "    'contents': '내용',\n",
    "    'categoryNo': 1\n",
    "}\n",
    "\n",
    "headers = {\n",
    "    'Authorization': header\n",
    "}\n",
    "\n",
    "resp = requests.post(url, headers=headers, data=data)\n",
    "\n",
    "rescode = resp.status_code\n",
    "\n",
    "if(rescode==200):\n",
    "    print(resp.json())\n",
    "    response_body = response.read()\n",
    "    print(response_body.decode('utf-8'))\n",
    "else:\n",
    "    print(\"Error Code:\" + rescode)"
   ]
  },
  {
   "cell_type": "code",
   "execution_count": null,
   "metadata": {},
   "outputs": [],
   "source": []
  }
 ],
 "metadata": {
  "kernelspec": {
   "display_name": "Python 3",
   "language": "python",
   "name": "python3"
  },
  "language_info": {
   "codemirror_mode": {
    "name": "ipython",
    "version": 3
   },
   "file_extension": ".py",
   "mimetype": "text/x-python",
   "name": "python",
   "nbconvert_exporter": "python",
   "pygments_lexer": "ipython3",
   "version": "3.6.8"
  }
 },
 "nbformat": 4,
 "nbformat_minor": 2
}
