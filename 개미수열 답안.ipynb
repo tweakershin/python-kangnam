{
 "cells": [
  {
   "cell_type": "code",
   "execution_count": 9,
   "metadata": {},
   "outputs": [],
   "source": [
    "before = '1'\n",
    "result = before\n",
    "new = ''"
   ]
  },
  {
   "cell_type": "code",
   "execution_count": 13,
   "metadata": {},
   "outputs": [
    {
     "name": "stdout",
     "output_type": "stream",
     "text": [
      "숫자 입력:4\n"
     ]
    }
   ],
   "source": [
    "num = int(input(\"숫자 입력:\"))"
   ]
  },
  {
   "cell_type": "code",
   "execution_count": 14,
   "metadata": {},
   "outputs": [],
   "source": [
    "now_num = ''\n",
    "count = 0"
   ]
  },
  {
   "cell_type": "code",
   "execution_count": 18,
   "metadata": {},
   "outputs": [],
   "source": [
    "num=2"
   ]
  },
  {
   "cell_type": "code",
   "execution_count": null,
   "metadata": {},
   "outputs": [],
   "source": []
  },
  {
   "cell_type": "code",
   "execution_count": 39,
   "metadata": {},
   "outputs": [],
   "source": [
    "num = 2\n",
    "result = ''\n",
    "before = '1'\n",
    "word_count = 0"
   ]
  },
  {
   "cell_type": "code",
   "execution_count": 40,
   "metadata": {},
   "outputs": [],
   "source": [
    "now_word = ''"
   ]
  },
  {
   "cell_type": "code",
   "execution_count": null,
   "metadata": {},
   "outputs": [],
   "source": [
    "num = 2\n",
    "result = ''\n",
    "before = '1'\n",
    "word_count = 0\n",
    "now_word = ''"
   ]
  },
  {
   "cell_type": "code",
   "execution_count": 96,
   "metadata": {},
   "outputs": [
    {
     "name": "stdout",
     "output_type": "stream",
     "text": [
      "입력: 20\n",
      "1\n",
      "11\n",
      "12\n",
      "1121\n",
      "122111\n",
      "112213\n",
      "12221131\n",
      "1123123111\n",
      "12213111213113\n",
      "11221131132111311231\n",
      "12221231123121133112213111\n",
      "1123112131122131112112321222113113\n",
      "1221311221113112221131132112213121112312311231\n",
      "11221131122213311223123112312112221131112113213111213112213111\n",
      "122212311223113212223111213112213111211223123113211231211131132111311222113113\n",
      "112311213112223112312111233113211131122211311321122231112131123121122131112113311231211331122312311231\n",
      "12213112211131122331122131112113213212312113311223123112312112233113211131122131112112221131132112321221311121123212223111213112213111\n",
      "11221131122213311222321222113113211231211131211121311121123212223111213112213111211222321231211331122211311321122312311231211221312111221131132112213121112331132111311222113113\n",
      "1222123112231132122331211123123112312112213111211331112113211131132112213121112331132111311222113113211223312111213111211232122312311231211222311121311221311121122211311121132212311231211222113111211321321231211331122312311231\n",
      "11231121311222311231211122321121132131112131122131112112221131132112321321123121133112312112221131112113213212312113311223123112312112223211211321113113211221312111223111213112213111211223311321113112221131132112231231132112312211213112213111211223123113211231211131211121311121123212223111213112213111\n"
     ]
    }
   ],
   "source": [
    "num = int(input(\"입력: \"))\n",
    "result = ''\n",
    "before = '1'\n",
    "word_count = 1\n",
    "now_word = ''\n",
    "\n",
    "print(before)\n",
    "for x in range(num-1):\n",
    "    result = ''\n",
    "    now_word= ''\n",
    "    for word in before:\n",
    "        if word == now_word:\n",
    "            # word가 같음.\n",
    "            word_count +=1\n",
    "            \n",
    "        else:\n",
    "            # word가 다름\n",
    "            if now_word:\n",
    "                result = result + now_word+ str(word_count) \n",
    "            word_count=1\n",
    "            now_word = word\n",
    "            \n",
    "    result = result + now_word + str(word_count) \n",
    "    before = result\n",
    "    print(result)\n",
    "\n",
    "# print(result)"
   ]
  },
  {
   "cell_type": "code",
   "execution_count": 91,
   "metadata": {},
   "outputs": [
    {
     "data": {
      "text/plain": [
       "[0]"
      ]
     },
     "execution_count": 91,
     "metadata": {},
     "output_type": "execute_result"
    }
   ],
   "source": [
    "list(range(len('1')))"
   ]
  },
  {
   "cell_type": "code",
   "execution_count": 92,
   "metadata": {},
   "outputs": [],
   "source": [
    "result = '1121'\n"
   ]
  },
  {
   "cell_type": "code",
   "execution_count": 93,
   "metadata": {},
   "outputs": [
    {
     "name": "stdout",
     "output_type": "stream",
     "text": [
      "1\n",
      "1\n",
      "2\n",
      "1\n"
     ]
    }
   ],
   "source": [
    "for word in result:\n",
    "    print(word)"
   ]
  },
  {
   "cell_type": "code",
   "execution_count": null,
   "metadata": {},
   "outputs": [],
   "source": [
    "range(len('1121'))"
   ]
  },
  {
   "cell_type": "code",
   "execution_count": null,
   "metadata": {},
   "outputs": [],
   "source": []
  },
  {
   "cell_type": "code",
   "execution_count": null,
   "metadata": {},
   "outputs": [],
   "source": []
  },
  {
   "cell_type": "code",
   "execution_count": null,
   "metadata": {},
   "outputs": [],
   "source": []
  },
  {
   "cell_type": "code",
   "execution_count": null,
   "metadata": {},
   "outputs": [],
   "source": []
  },
  {
   "cell_type": "code",
   "execution_count": 22,
   "metadata": {},
   "outputs": [
    {
     "name": "stdout",
     "output_type": "stream",
     "text": [
      "1\n"
     ]
    }
   ],
   "source": [
    "for x in range(num):\n",
    "    for x in before:\n",
    "        if now_num == x:\n",
    "            count+=1\n",
    "        else:\n",
    "            result = result + now_num + now_num*count\n",
    "            count = 1\n",
    "            now_num = x\n",
    "            \n",
    "    before = result\n",
    "    now_num = ''\n",
    "    \n",
    "print(result)\n",
    "            "
   ]
  },
  {
   "cell_type": "code",
   "execution_count": null,
   "metadata": {},
   "outputs": [],
   "source": []
  }
 ],
 "metadata": {
  "kernelspec": {
   "display_name": "Python 3",
   "language": "python",
   "name": "python3"
  },
  "language_info": {
   "codemirror_mode": {
    "name": "ipython",
    "version": 3
   },
   "file_extension": ".py",
   "mimetype": "text/x-python",
   "name": "python",
   "nbconvert_exporter": "python",
   "pygments_lexer": "ipython3",
   "version": "3.7.4"
  }
 },
 "nbformat": 4,
 "nbformat_minor": 2
}
